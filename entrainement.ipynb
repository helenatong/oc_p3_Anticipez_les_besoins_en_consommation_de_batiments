{
  "cells": [
    {
      "cell_type": "markdown",
      "metadata": {
        "id": "view-in-github",
        "colab_type": "text"
      },
      "source": [
        "<a href=\"https://colab.research.google.com/github/helenatong/oc_p4_Anticipez_les_besoins_en_consommation_de_batiments/blob/main/entrainement.ipynb\" target=\"_parent\"><img src=\"https://colab.research.google.com/assets/colab-badge.svg\" alt=\"Open In Colab\"/></a>"
      ]
    },
    {
      "cell_type": "markdown",
      "metadata": {
        "id": "M_yoc462ofrY"
      },
      "source": [
        "# **Introduction**\n",
        "\n",
        "---"
      ]
    },
    {
      "cell_type": "markdown",
      "metadata": {
        "id": "DT0Vbw38R3HI"
      },
      "source": [
        "## **Prérequis**\n",
        "- Télécharger [le zip](https://drive.google.com/file/d/1Hw7gjd0cZQGi258_aosxPfC-RTSkcqJt/view?usp=sharing) dans Google Drive\n",
        "- Modifier les chemins des fichiers (zip_path et extract_path) dans le code\n",
        "\n",
        "\n",
        "---\n",
        "\n",
        " ## **Contexte et description du notebook**\n",
        "\n",
        "L'objectif de Seattle est de devenir une ville neutre en émissions de carbone en 2050. La ville s'intéresse particulièrement aux consommations énergétiques et aux émissions de carbone des bâtiments qui ne sont pas destinés à l'habitation.\n",
        "\n",
        "Néanmoins, ces 2 types de données ne sont pas disponibles pour tous les bâtiments. L'objectif ici est de prédire la consommation énergétique et l'émission de carbone.\n",
        "\n",
        "De plus, un focus sera effectué sur si la variable ENERGYSTARScore Score joue un rôle important dans la précision des prédictions des émissions de carbone.\n",
        "\n",
        "Les variables TotalGHGEmissions et SiteEnergyUseWN ont été choisies pour respectivement mesurer la consommation énergétique et l'émission de carbone.\n",
        "\n",
        "---\n",
        "\n",
        "## **Sommaire**\n",
        "\n",
        "### **I. Installation et mise en place de l'environnement de travail**\n",
        "\n",
        "### **II. Définitions des fonctions auxiliaires**\n",
        "\n",
        "### **III. Analyse exploratoire**"
      ]
    },
    {
      "cell_type": "markdown",
      "metadata": {
        "id": "XnuEOgORoSyi"
      },
      "source": [
        "# **I. Installation et mise en place de l'environnement de travail**"
      ]
    },
    {
      "cell_type": "code",
      "execution_count": 20,
      "metadata": {
        "id": "dawXLR8k49lH"
      },
      "outputs": [],
      "source": [
        "# Importation des librairies\n",
        "import numpy as np\n",
        "import pandas as pd\n",
        "\n",
        "import zipfile\n",
        "import os\n",
        "\n",
        "import re\n",
        "\n",
        "import sys\n",
        "\n",
        "import missingno as msno\n",
        "import matplotlib as mpl\n",
        "import matplotlib.pyplot as plt\n",
        "import seaborn as sns\n",
        "\n",
        "from sklearn.linear_model import LinearRegression\n",
        "\n",
        "import datetime"
      ]
    },
    {
      "cell_type": "code",
      "execution_count": 21,
      "metadata": {
        "colab": {
          "base_uri": "https://localhost:8080/"
        },
        "id": "iCfGUiXL5cEc",
        "outputId": "819f36d8-eeea-45b9-ccfd-64cafa859855"
      },
      "outputs": [
        {
          "output_type": "stream",
          "name": "stdout",
          "text": [
            "Version des librairies :\n",
            "Python        : 3.10.12 (main, Nov 20 2023, 15:14:05) [GCC 11.4.0]\n",
            "NumPy         : 1.25.2\n",
            "Pandas        : 2.0.3\n",
            "Matplotlib    : 3.7.1\n",
            "Seaborn       : 0.13.1\n",
            "Run date      : 2024-04-27T16:55:48.994544\n"
          ]
        }
      ],
      "source": [
        "# Informations sur l'environnement virtuel\n",
        "print('Version des librairies :')\n",
        "print('Python        : ' + sys.version)\n",
        "print('NumPy         : ' + np.version.full_version)\n",
        "print('Pandas        : ' + pd.__version__)\n",
        "print('Matplotlib    : ' + mpl.__version__)\n",
        "print('Seaborn       : ' + sns.__version__)\n",
        "\n",
        "now  = datetime.datetime.now().isoformat()\n",
        "print('Run date      : ' + now)"
      ]
    },
    {
      "cell_type": "code",
      "execution_count": 22,
      "metadata": {
        "id": "3Uogl562MBpU"
      },
      "outputs": [],
      "source": [
        "# Configurations de l'affichages des données\n",
        "pd.set_option('display.max_columns', None)"
      ]
    },
    {
      "cell_type": "code",
      "execution_count": 23,
      "metadata": {
        "colab": {
          "base_uri": "https://localhost:8080/"
        },
        "id": "A7jM53Y09R3J",
        "outputId": "e01530b8-76a3-4be0-8967-87e38e3650b9"
      },
      "outputs": [
        {
          "output_type": "stream",
          "name": "stdout",
          "text": [
            "Drive already mounted at /content/drive; to attempt to forcibly remount, call drive.mount(\"/content/drive\", force_remount=True).\n"
          ]
        }
      ],
      "source": [
        "# Connexion au drive\n",
        "from google.colab import drive\n",
        "drive.mount('/content/drive')"
      ]
    },
    {
      "cell_type": "code",
      "source": [
        "# Verifier l'importation\n",
        "df = pd.read_parquet('/content/drive/MyDrive/openclassrooms/project_list/project_4/data/cleaned_2016_Building_Energy_Benchmarking.pq')\n",
        "df.head(2)"
      ],
      "metadata": {
        "id": "1CZaqh-c8fgE",
        "colab": {
          "base_uri": "https://localhost:8080/",
          "height": 132
        },
        "outputId": "a7bcdbc7-30b2-4efe-b4b1-a317ac6afe7c"
      },
      "execution_count": 24,
      "outputs": [
        {
          "output_type": "execute_result",
          "data": {
            "text/plain": [
              "   OSEBuildingID    BuildingType PrimaryPropertyType Neighborhood  \\\n",
              "0              1  NonResidential               Hotel     DOWNTOWN   \n",
              "1              2  NonResidential               Hotel     DOWNTOWN   \n",
              "\n",
              "   NumberofBuildings  NumberofFloors  PropertyGFATotal  PropertyGFAParking  \\\n",
              "0                1.0              12             88434                   0   \n",
              "1                1.0              11            103566               15064   \n",
              "\n",
              "   PropertyGFABuilding(s) LargestPropertyUseType  LargestPropertyUseTypeGFA  \\\n",
              "0                   88434                  Hotel                    88434.0   \n",
              "1                   88502                  Hotel                    83880.0   \n",
              "\n",
              "  SecondLargestPropertyUseType  SecondLargestPropertyUseTypeGFA  \\\n",
              "0                         None                              NaN   \n",
              "1                      Parking                          15064.0   \n",
              "\n",
              "  ThirdLargestPropertyUseType  ThirdLargestPropertyUseTypeGFA  \\\n",
              "0                        None                             NaN   \n",
              "1                  Restaurant                          4622.0   \n",
              "\n",
              "   ENERGYSTARScore  SiteEnergyUse(kBtu)  SteamUse(kBtu)  Electricity(kBtu)  \\\n",
              "0             60.0            7226362.5       2003882.0          3946027.0   \n",
              "1             61.0            8387933.0             0.0          3242851.0   \n",
              "\n",
              "   NaturalGas(kBtu)  TotalGHGEmissions  Age  LastYearENERGYSTARCertified  \\\n",
              "0         1276453.0             249.98   89                          NaN   \n",
              "1         5145082.0             295.86   20                          NaN   \n",
              "\n",
              "   NbYearENERGYSTARCertified  \n",
              "0                          0  \n",
              "1                          0  "
            ],
            "text/html": [
              "\n",
              "  <div id=\"df-30d8adb8-916e-4825-835b-27e2375fc14f\" class=\"colab-df-container\">\n",
              "    <div>\n",
              "<style scoped>\n",
              "    .dataframe tbody tr th:only-of-type {\n",
              "        vertical-align: middle;\n",
              "    }\n",
              "\n",
              "    .dataframe tbody tr th {\n",
              "        vertical-align: top;\n",
              "    }\n",
              "\n",
              "    .dataframe thead th {\n",
              "        text-align: right;\n",
              "    }\n",
              "</style>\n",
              "<table border=\"1\" class=\"dataframe\">\n",
              "  <thead>\n",
              "    <tr style=\"text-align: right;\">\n",
              "      <th></th>\n",
              "      <th>OSEBuildingID</th>\n",
              "      <th>BuildingType</th>\n",
              "      <th>PrimaryPropertyType</th>\n",
              "      <th>Neighborhood</th>\n",
              "      <th>NumberofBuildings</th>\n",
              "      <th>NumberofFloors</th>\n",
              "      <th>PropertyGFATotal</th>\n",
              "      <th>PropertyGFAParking</th>\n",
              "      <th>PropertyGFABuilding(s)</th>\n",
              "      <th>LargestPropertyUseType</th>\n",
              "      <th>LargestPropertyUseTypeGFA</th>\n",
              "      <th>SecondLargestPropertyUseType</th>\n",
              "      <th>SecondLargestPropertyUseTypeGFA</th>\n",
              "      <th>ThirdLargestPropertyUseType</th>\n",
              "      <th>ThirdLargestPropertyUseTypeGFA</th>\n",
              "      <th>ENERGYSTARScore</th>\n",
              "      <th>SiteEnergyUse(kBtu)</th>\n",
              "      <th>SteamUse(kBtu)</th>\n",
              "      <th>Electricity(kBtu)</th>\n",
              "      <th>NaturalGas(kBtu)</th>\n",
              "      <th>TotalGHGEmissions</th>\n",
              "      <th>Age</th>\n",
              "      <th>LastYearENERGYSTARCertified</th>\n",
              "      <th>NbYearENERGYSTARCertified</th>\n",
              "    </tr>\n",
              "  </thead>\n",
              "  <tbody>\n",
              "    <tr>\n",
              "      <th>0</th>\n",
              "      <td>1</td>\n",
              "      <td>NonResidential</td>\n",
              "      <td>Hotel</td>\n",
              "      <td>DOWNTOWN</td>\n",
              "      <td>1.0</td>\n",
              "      <td>12</td>\n",
              "      <td>88434</td>\n",
              "      <td>0</td>\n",
              "      <td>88434</td>\n",
              "      <td>Hotel</td>\n",
              "      <td>88434.0</td>\n",
              "      <td>None</td>\n",
              "      <td>NaN</td>\n",
              "      <td>None</td>\n",
              "      <td>NaN</td>\n",
              "      <td>60.0</td>\n",
              "      <td>7226362.5</td>\n",
              "      <td>2003882.0</td>\n",
              "      <td>3946027.0</td>\n",
              "      <td>1276453.0</td>\n",
              "      <td>249.98</td>\n",
              "      <td>89</td>\n",
              "      <td>NaN</td>\n",
              "      <td>0</td>\n",
              "    </tr>\n",
              "    <tr>\n",
              "      <th>1</th>\n",
              "      <td>2</td>\n",
              "      <td>NonResidential</td>\n",
              "      <td>Hotel</td>\n",
              "      <td>DOWNTOWN</td>\n",
              "      <td>1.0</td>\n",
              "      <td>11</td>\n",
              "      <td>103566</td>\n",
              "      <td>15064</td>\n",
              "      <td>88502</td>\n",
              "      <td>Hotel</td>\n",
              "      <td>83880.0</td>\n",
              "      <td>Parking</td>\n",
              "      <td>15064.0</td>\n",
              "      <td>Restaurant</td>\n",
              "      <td>4622.0</td>\n",
              "      <td>61.0</td>\n",
              "      <td>8387933.0</td>\n",
              "      <td>0.0</td>\n",
              "      <td>3242851.0</td>\n",
              "      <td>5145082.0</td>\n",
              "      <td>295.86</td>\n",
              "      <td>20</td>\n",
              "      <td>NaN</td>\n",
              "      <td>0</td>\n",
              "    </tr>\n",
              "  </tbody>\n",
              "</table>\n",
              "</div>\n",
              "    <div class=\"colab-df-buttons\">\n",
              "\n",
              "  <div class=\"colab-df-container\">\n",
              "    <button class=\"colab-df-convert\" onclick=\"convertToInteractive('df-30d8adb8-916e-4825-835b-27e2375fc14f')\"\n",
              "            title=\"Convert this dataframe to an interactive table.\"\n",
              "            style=\"display:none;\">\n",
              "\n",
              "  <svg xmlns=\"http://www.w3.org/2000/svg\" height=\"24px\" viewBox=\"0 -960 960 960\">\n",
              "    <path d=\"M120-120v-720h720v720H120Zm60-500h600v-160H180v160Zm220 220h160v-160H400v160Zm0 220h160v-160H400v160ZM180-400h160v-160H180v160Zm440 0h160v-160H620v160ZM180-180h160v-160H180v160Zm440 0h160v-160H620v160Z\"/>\n",
              "  </svg>\n",
              "    </button>\n",
              "\n",
              "  <style>\n",
              "    .colab-df-container {\n",
              "      display:flex;\n",
              "      gap: 12px;\n",
              "    }\n",
              "\n",
              "    .colab-df-convert {\n",
              "      background-color: #E8F0FE;\n",
              "      border: none;\n",
              "      border-radius: 50%;\n",
              "      cursor: pointer;\n",
              "      display: none;\n",
              "      fill: #1967D2;\n",
              "      height: 32px;\n",
              "      padding: 0 0 0 0;\n",
              "      width: 32px;\n",
              "    }\n",
              "\n",
              "    .colab-df-convert:hover {\n",
              "      background-color: #E2EBFA;\n",
              "      box-shadow: 0px 1px 2px rgba(60, 64, 67, 0.3), 0px 1px 3px 1px rgba(60, 64, 67, 0.15);\n",
              "      fill: #174EA6;\n",
              "    }\n",
              "\n",
              "    .colab-df-buttons div {\n",
              "      margin-bottom: 4px;\n",
              "    }\n",
              "\n",
              "    [theme=dark] .colab-df-convert {\n",
              "      background-color: #3B4455;\n",
              "      fill: #D2E3FC;\n",
              "    }\n",
              "\n",
              "    [theme=dark] .colab-df-convert:hover {\n",
              "      background-color: #434B5C;\n",
              "      box-shadow: 0px 1px 3px 1px rgba(0, 0, 0, 0.15);\n",
              "      filter: drop-shadow(0px 1px 2px rgba(0, 0, 0, 0.3));\n",
              "      fill: #FFFFFF;\n",
              "    }\n",
              "  </style>\n",
              "\n",
              "    <script>\n",
              "      const buttonEl =\n",
              "        document.querySelector('#df-30d8adb8-916e-4825-835b-27e2375fc14f button.colab-df-convert');\n",
              "      buttonEl.style.display =\n",
              "        google.colab.kernel.accessAllowed ? 'block' : 'none';\n",
              "\n",
              "      async function convertToInteractive(key) {\n",
              "        const element = document.querySelector('#df-30d8adb8-916e-4825-835b-27e2375fc14f');\n",
              "        const dataTable =\n",
              "          await google.colab.kernel.invokeFunction('convertToInteractive',\n",
              "                                                    [key], {});\n",
              "        if (!dataTable) return;\n",
              "\n",
              "        const docLinkHtml = 'Like what you see? Visit the ' +\n",
              "          '<a target=\"_blank\" href=https://colab.research.google.com/notebooks/data_table.ipynb>data table notebook</a>'\n",
              "          + ' to learn more about interactive tables.';\n",
              "        element.innerHTML = '';\n",
              "        dataTable['output_type'] = 'display_data';\n",
              "        await google.colab.output.renderOutput(dataTable, element);\n",
              "        const docLink = document.createElement('div');\n",
              "        docLink.innerHTML = docLinkHtml;\n",
              "        element.appendChild(docLink);\n",
              "      }\n",
              "    </script>\n",
              "  </div>\n",
              "\n",
              "\n",
              "<div id=\"df-9cb5a923-7bae-4c58-98a3-447f1f9698f4\">\n",
              "  <button class=\"colab-df-quickchart\" onclick=\"quickchart('df-9cb5a923-7bae-4c58-98a3-447f1f9698f4')\"\n",
              "            title=\"Suggest charts\"\n",
              "            style=\"display:none;\">\n",
              "\n",
              "<svg xmlns=\"http://www.w3.org/2000/svg\" height=\"24px\"viewBox=\"0 0 24 24\"\n",
              "     width=\"24px\">\n",
              "    <g>\n",
              "        <path d=\"M19 3H5c-1.1 0-2 .9-2 2v14c0 1.1.9 2 2 2h14c1.1 0 2-.9 2-2V5c0-1.1-.9-2-2-2zM9 17H7v-7h2v7zm4 0h-2V7h2v10zm4 0h-2v-4h2v4z\"/>\n",
              "    </g>\n",
              "</svg>\n",
              "  </button>\n",
              "\n",
              "<style>\n",
              "  .colab-df-quickchart {\n",
              "      --bg-color: #E8F0FE;\n",
              "      --fill-color: #1967D2;\n",
              "      --hover-bg-color: #E2EBFA;\n",
              "      --hover-fill-color: #174EA6;\n",
              "      --disabled-fill-color: #AAA;\n",
              "      --disabled-bg-color: #DDD;\n",
              "  }\n",
              "\n",
              "  [theme=dark] .colab-df-quickchart {\n",
              "      --bg-color: #3B4455;\n",
              "      --fill-color: #D2E3FC;\n",
              "      --hover-bg-color: #434B5C;\n",
              "      --hover-fill-color: #FFFFFF;\n",
              "      --disabled-bg-color: #3B4455;\n",
              "      --disabled-fill-color: #666;\n",
              "  }\n",
              "\n",
              "  .colab-df-quickchart {\n",
              "    background-color: var(--bg-color);\n",
              "    border: none;\n",
              "    border-radius: 50%;\n",
              "    cursor: pointer;\n",
              "    display: none;\n",
              "    fill: var(--fill-color);\n",
              "    height: 32px;\n",
              "    padding: 0;\n",
              "    width: 32px;\n",
              "  }\n",
              "\n",
              "  .colab-df-quickchart:hover {\n",
              "    background-color: var(--hover-bg-color);\n",
              "    box-shadow: 0 1px 2px rgba(60, 64, 67, 0.3), 0 1px 3px 1px rgba(60, 64, 67, 0.15);\n",
              "    fill: var(--button-hover-fill-color);\n",
              "  }\n",
              "\n",
              "  .colab-df-quickchart-complete:disabled,\n",
              "  .colab-df-quickchart-complete:disabled:hover {\n",
              "    background-color: var(--disabled-bg-color);\n",
              "    fill: var(--disabled-fill-color);\n",
              "    box-shadow: none;\n",
              "  }\n",
              "\n",
              "  .colab-df-spinner {\n",
              "    border: 2px solid var(--fill-color);\n",
              "    border-color: transparent;\n",
              "    border-bottom-color: var(--fill-color);\n",
              "    animation:\n",
              "      spin 1s steps(1) infinite;\n",
              "  }\n",
              "\n",
              "  @keyframes spin {\n",
              "    0% {\n",
              "      border-color: transparent;\n",
              "      border-bottom-color: var(--fill-color);\n",
              "      border-left-color: var(--fill-color);\n",
              "    }\n",
              "    20% {\n",
              "      border-color: transparent;\n",
              "      border-left-color: var(--fill-color);\n",
              "      border-top-color: var(--fill-color);\n",
              "    }\n",
              "    30% {\n",
              "      border-color: transparent;\n",
              "      border-left-color: var(--fill-color);\n",
              "      border-top-color: var(--fill-color);\n",
              "      border-right-color: var(--fill-color);\n",
              "    }\n",
              "    40% {\n",
              "      border-color: transparent;\n",
              "      border-right-color: var(--fill-color);\n",
              "      border-top-color: var(--fill-color);\n",
              "    }\n",
              "    60% {\n",
              "      border-color: transparent;\n",
              "      border-right-color: var(--fill-color);\n",
              "    }\n",
              "    80% {\n",
              "      border-color: transparent;\n",
              "      border-right-color: var(--fill-color);\n",
              "      border-bottom-color: var(--fill-color);\n",
              "    }\n",
              "    90% {\n",
              "      border-color: transparent;\n",
              "      border-bottom-color: var(--fill-color);\n",
              "    }\n",
              "  }\n",
              "</style>\n",
              "\n",
              "  <script>\n",
              "    async function quickchart(key) {\n",
              "      const quickchartButtonEl =\n",
              "        document.querySelector('#' + key + ' button');\n",
              "      quickchartButtonEl.disabled = true;  // To prevent multiple clicks.\n",
              "      quickchartButtonEl.classList.add('colab-df-spinner');\n",
              "      try {\n",
              "        const charts = await google.colab.kernel.invokeFunction(\n",
              "            'suggestCharts', [key], {});\n",
              "      } catch (error) {\n",
              "        console.error('Error during call to suggestCharts:', error);\n",
              "      }\n",
              "      quickchartButtonEl.classList.remove('colab-df-spinner');\n",
              "      quickchartButtonEl.classList.add('colab-df-quickchart-complete');\n",
              "    }\n",
              "    (() => {\n",
              "      let quickchartButtonEl =\n",
              "        document.querySelector('#df-9cb5a923-7bae-4c58-98a3-447f1f9698f4 button');\n",
              "      quickchartButtonEl.style.display =\n",
              "        google.colab.kernel.accessAllowed ? 'block' : 'none';\n",
              "    })();\n",
              "  </script>\n",
              "</div>\n",
              "    </div>\n",
              "  </div>\n"
            ],
            "application/vnd.google.colaboratory.intrinsic+json": {
              "type": "dataframe",
              "variable_name": "df"
            }
          },
          "metadata": {},
          "execution_count": 24
        }
      ]
    },
    {
      "cell_type": "markdown",
      "metadata": {
        "id": "aWDdfIwH1qmZ"
      },
      "source": [
        "# **II. Définitions des fonctions et des variables globales**\n"
      ]
    },
    {
      "cell_type": "code",
      "source": [
        "# TARGET =\n",
        "ID = 'OSEBuildingID'"
      ],
      "metadata": {
        "id": "eIjAoWTD684Y"
      },
      "execution_count": 25,
      "outputs": []
    },
    {
      "cell_type": "code",
      "source": [
        "# préparation des données pour ML, variable a de l'impact ou pas?\n",
        " # normalisation des données\n",
        " # encodage\n",
        " # dataset de training\n",
        "\n",
        " # TARGET 1 - prédire une valeur numérique\n",
        "#tester simple la régression lineaire\n",
        "\n",
        "#NEW NOTEBOOK\n",
        "# TARGET 1 - prédire une valeur numérique\n",
        "#tester simple la régression lineaire\n",
        "\n",
        "# entrainement modèle, pipeline, grid search\n",
        "# choix de la méthode de scoring\n",
        "# comparer les 4 modèles : ElasticNet, SVM, GradientBoosting, RandomForest\n",
        "# si iverfitting : tester une méthode ensembliste (bagging, boosting)\n",
        "\n",
        "# check impact de STAR SCORING avec et sans\n",
        "#c'est pour comparer ce qui est comparable. ENtre BTP aux services similaires (école <> industrie)\n",
        "\n",
        "#NEW NOTEBOOK\n",
        "# TARGET 2 - prédire une valeur numérique\n",
        "# entrainement modèle\n",
        "\n",
        "#shap\n",
        "#ElasticNet (lineaire, ), SVM, GradientBoosting, RandomForest).\n",
        "\n",
        "#pour savoir si une va est importante ?\n",
        "# simple : utiliser la lib black box\n",
        "# compliqué : LASSO (connaissance de l'algo!), cas particulier de l'eslatic net, 0 sur tout"
      ],
      "metadata": {
        "id": "m8Q3jV1_DImt"
      },
      "execution_count": 26,
      "outputs": []
    },
    {
      "cell_type": "markdown",
      "source": [
        "#**Entrainement du modèle**\n"
      ],
      "metadata": {
        "id": "UJoM5lQlCz7e"
      }
    },
    {
      "cell_type": "code",
      "source": [
        "# On choisie toutes les variables numériques et 3 variables catégorielles\n",
        "nb_null_value = df.isna().sum(axis=0)\n",
        "col_to_keep = nb_null_value[nb_null_value < 100].index.to_list()\n",
        "num_column = df.dtypes[(df.dtypes == 'float64') | (df.dtypes == 'int64')].index.to_list()\n",
        "cat_to_keep = ['PrimaryPropertyType', 'Neighborhood']\n",
        "num_to_keep = list(set(col_to_keep).intersection(num_column))\n",
        "FINAL_COL =  num_to_keep + cat_to_keep #set pour le non itérable, #list pour concat ensuite\n",
        "FINAL_COL = ['TotalGHGEmissions', 'Electricity(kBtu)', 'SiteEnergyUse(kBtu)', 'NaturalGas(kBtu)'\n",
        "             , 'NumberofBuildings', 'PrimaryPropertyType', 'Neighborhood']\n",
        "print((FINAL_COL))"
      ],
      "metadata": {
        "id": "tA8TJ5YPkak6",
        "colab": {
          "base_uri": "https://localhost:8080/"
        },
        "outputId": "c7fa5ccb-33c3-480a-f38a-078d34480f77"
      },
      "execution_count": 27,
      "outputs": [
        {
          "output_type": "stream",
          "name": "stdout",
          "text": [
            "['TotalGHGEmissions', 'Electricity(kBtu)', 'SiteEnergyUse(kBtu)', 'NaturalGas(kBtu)', 'NumberofBuildings', 'PrimaryPropertyType', 'Neighborhood']\n"
          ]
        }
      ]
    },
    {
      "cell_type": "code",
      "source": [
        "TARGET = 'TotalGHGEmissions'\n",
        "FEATURE = [col for col in FINAL_COL if col != TARGET]\n",
        "df_train = df[FINAL_COL].dropna()\n",
        "print(FEATURE)"
      ],
      "metadata": {
        "id": "n0JVkpSprNKS",
        "colab": {
          "base_uri": "https://localhost:8080/"
        },
        "outputId": "76b94cb7-f4e2-43ac-90e7-1d6187059c63"
      },
      "execution_count": 28,
      "outputs": [
        {
          "output_type": "stream",
          "name": "stdout",
          "text": [
            "['Electricity(kBtu)', 'SiteEnergyUse(kBtu)', 'NaturalGas(kBtu)', 'NumberofBuildings', 'PrimaryPropertyType', 'Neighborhood']\n"
          ]
        }
      ]
    },
    {
      "cell_type": "code",
      "source": [
        "from sklearn.model_selection import train_test_split, GridSearchCV\n",
        "\n",
        "from sklearn.preprocessing import OneHotEncoder, PowerTransformer, StandardScaler\n",
        "from sklearn.compose import ColumnTransformer\n",
        "from sklearn.linear_model import Lasso\n",
        "from sklearn.pipeline import Pipeline"
      ],
      "metadata": {
        "id": "DfjYfMamyOhM"
      },
      "execution_count": 29,
      "outputs": []
    },
    {
      "cell_type": "code",
      "source": [
        "preprocessor = ColumnTransformer(\n",
        "    transformers=[\n",
        "        ('encoder_nominal', OneHotEncoder(handle_unknown='ignore',sparse_output=False), cat_to_keep),\n",
        "         ('norma', PowerTransformer(), ['Electricity(kBtu)', 'SiteEnergyUse(kBtu)', 'NaturalGas(kBtu)', 'NumberofBuildings'])\n",
        "    ],\n",
        "    remainder='drop'\n",
        "  )"
      ],
      "metadata": {
        "id": "PiXFuyzVrNCA"
      },
      "execution_count": 30,
      "outputs": []
    },
    {
      "cell_type": "code",
      "source": [
        "pp = Pipeline([\n",
        "    ('preprocessor', preprocessor),\n",
        "    ('regressor', Lasso()),\n",
        "])"
      ],
      "metadata": {
        "id": "4Ji_lzGyrM82"
      },
      "execution_count": 31,
      "outputs": []
    },
    {
      "cell_type": "code",
      "source": [
        "# On va séparer les variables explicatives de la variable cible.\n",
        "y = df_train.pop(TARGET)\n",
        "X = df_train\n",
        "print(y.shape, X.shape)\n",
        "# # Question : encodage sur tout le jeu de données ou une partie seulement ? a priori separer puis encoder car pbm de type\n",
        "# X_train, X_test, y_train, y_test = train_test_split(X, y, test_size = 0.2, random_state=42)\n",
        "\n",
        "# X_train_df = pd.DataFrame(data=X_train, columns=FEATURE)\n",
        "# y_train_df = pd.DataFrame(data=y_train, columns=[TARGET])\n",
        "\n",
        "# model = PowerTransformer()\n",
        "# y_train_normed = model.fit_transform(y_train_df)\n",
        "X_df = pd.DataFrame(data=X, columns=FEATURE)\n",
        "y_df = pd.DataFrame(data=y, columns=[TARGET])\n",
        "pp.fit(X, y)"
      ],
      "metadata": {
        "id": "-iQpLsKVwel-",
        "colab": {
          "base_uri": "https://localhost:8080/",
          "height": 209
        },
        "outputId": "64153f48-fff2-4817-c123-14cd490029be"
      },
      "execution_count": 32,
      "outputs": [
        {
          "output_type": "stream",
          "name": "stdout",
          "text": [
            "(1476,) (1476, 6)\n"
          ]
        },
        {
          "output_type": "execute_result",
          "data": {
            "text/plain": [
              "Pipeline(steps=[('preprocessor',\n",
              "                 ColumnTransformer(transformers=[('encoder_nominal',\n",
              "                                                  OneHotEncoder(handle_unknown='ignore',\n",
              "                                                                sparse_output=False),\n",
              "                                                  ['PrimaryPropertyType',\n",
              "                                                   'Neighborhood']),\n",
              "                                                 ('norma', PowerTransformer(),\n",
              "                                                  ['Electricity(kBtu)',\n",
              "                                                   'SiteEnergyUse(kBtu)',\n",
              "                                                   'NaturalGas(kBtu)',\n",
              "                                                   'NumberofBuildings'])])),\n",
              "                ('regressor', Lasso())])"
            ],
            "text/html": [
              "<style>#sk-container-id-1 {color: black;background-color: white;}#sk-container-id-1 pre{padding: 0;}#sk-container-id-1 div.sk-toggleable {background-color: white;}#sk-container-id-1 label.sk-toggleable__label {cursor: pointer;display: block;width: 100%;margin-bottom: 0;padding: 0.3em;box-sizing: border-box;text-align: center;}#sk-container-id-1 label.sk-toggleable__label-arrow:before {content: \"▸\";float: left;margin-right: 0.25em;color: #696969;}#sk-container-id-1 label.sk-toggleable__label-arrow:hover:before {color: black;}#sk-container-id-1 div.sk-estimator:hover label.sk-toggleable__label-arrow:before {color: black;}#sk-container-id-1 div.sk-toggleable__content {max-height: 0;max-width: 0;overflow: hidden;text-align: left;background-color: #f0f8ff;}#sk-container-id-1 div.sk-toggleable__content pre {margin: 0.2em;color: black;border-radius: 0.25em;background-color: #f0f8ff;}#sk-container-id-1 input.sk-toggleable__control:checked~div.sk-toggleable__content {max-height: 200px;max-width: 100%;overflow: auto;}#sk-container-id-1 input.sk-toggleable__control:checked~label.sk-toggleable__label-arrow:before {content: \"▾\";}#sk-container-id-1 div.sk-estimator input.sk-toggleable__control:checked~label.sk-toggleable__label {background-color: #d4ebff;}#sk-container-id-1 div.sk-label input.sk-toggleable__control:checked~label.sk-toggleable__label {background-color: #d4ebff;}#sk-container-id-1 input.sk-hidden--visually {border: 0;clip: rect(1px 1px 1px 1px);clip: rect(1px, 1px, 1px, 1px);height: 1px;margin: -1px;overflow: hidden;padding: 0;position: absolute;width: 1px;}#sk-container-id-1 div.sk-estimator {font-family: monospace;background-color: #f0f8ff;border: 1px dotted black;border-radius: 0.25em;box-sizing: border-box;margin-bottom: 0.5em;}#sk-container-id-1 div.sk-estimator:hover {background-color: #d4ebff;}#sk-container-id-1 div.sk-parallel-item::after {content: \"\";width: 100%;border-bottom: 1px solid gray;flex-grow: 1;}#sk-container-id-1 div.sk-label:hover label.sk-toggleable__label {background-color: #d4ebff;}#sk-container-id-1 div.sk-serial::before {content: \"\";position: absolute;border-left: 1px solid gray;box-sizing: border-box;top: 0;bottom: 0;left: 50%;z-index: 0;}#sk-container-id-1 div.sk-serial {display: flex;flex-direction: column;align-items: center;background-color: white;padding-right: 0.2em;padding-left: 0.2em;position: relative;}#sk-container-id-1 div.sk-item {position: relative;z-index: 1;}#sk-container-id-1 div.sk-parallel {display: flex;align-items: stretch;justify-content: center;background-color: white;position: relative;}#sk-container-id-1 div.sk-item::before, #sk-container-id-1 div.sk-parallel-item::before {content: \"\";position: absolute;border-left: 1px solid gray;box-sizing: border-box;top: 0;bottom: 0;left: 50%;z-index: -1;}#sk-container-id-1 div.sk-parallel-item {display: flex;flex-direction: column;z-index: 1;position: relative;background-color: white;}#sk-container-id-1 div.sk-parallel-item:first-child::after {align-self: flex-end;width: 50%;}#sk-container-id-1 div.sk-parallel-item:last-child::after {align-self: flex-start;width: 50%;}#sk-container-id-1 div.sk-parallel-item:only-child::after {width: 0;}#sk-container-id-1 div.sk-dashed-wrapped {border: 1px dashed gray;margin: 0 0.4em 0.5em 0.4em;box-sizing: border-box;padding-bottom: 0.4em;background-color: white;}#sk-container-id-1 div.sk-label label {font-family: monospace;font-weight: bold;display: inline-block;line-height: 1.2em;}#sk-container-id-1 div.sk-label-container {text-align: center;}#sk-container-id-1 div.sk-container {/* jupyter's `normalize.less` sets `[hidden] { display: none; }` but bootstrap.min.css set `[hidden] { display: none !important; }` so we also need the `!important` here to be able to override the default hidden behavior on the sphinx rendered scikit-learn.org. See: https://github.com/scikit-learn/scikit-learn/issues/21755 */display: inline-block !important;position: relative;}#sk-container-id-1 div.sk-text-repr-fallback {display: none;}</style><div id=\"sk-container-id-1\" class=\"sk-top-container\"><div class=\"sk-text-repr-fallback\"><pre>Pipeline(steps=[(&#x27;preprocessor&#x27;,\n",
              "                 ColumnTransformer(transformers=[(&#x27;encoder_nominal&#x27;,\n",
              "                                                  OneHotEncoder(handle_unknown=&#x27;ignore&#x27;,\n",
              "                                                                sparse_output=False),\n",
              "                                                  [&#x27;PrimaryPropertyType&#x27;,\n",
              "                                                   &#x27;Neighborhood&#x27;]),\n",
              "                                                 (&#x27;norma&#x27;, PowerTransformer(),\n",
              "                                                  [&#x27;Electricity(kBtu)&#x27;,\n",
              "                                                   &#x27;SiteEnergyUse(kBtu)&#x27;,\n",
              "                                                   &#x27;NaturalGas(kBtu)&#x27;,\n",
              "                                                   &#x27;NumberofBuildings&#x27;])])),\n",
              "                (&#x27;regressor&#x27;, Lasso())])</pre><b>In a Jupyter environment, please rerun this cell to show the HTML representation or trust the notebook. <br />On GitHub, the HTML representation is unable to render, please try loading this page with nbviewer.org.</b></div><div class=\"sk-container\" hidden><div class=\"sk-item sk-dashed-wrapped\"><div class=\"sk-label-container\"><div class=\"sk-label sk-toggleable\"><input class=\"sk-toggleable__control sk-hidden--visually\" id=\"sk-estimator-id-1\" type=\"checkbox\" ><label for=\"sk-estimator-id-1\" class=\"sk-toggleable__label sk-toggleable__label-arrow\">Pipeline</label><div class=\"sk-toggleable__content\"><pre>Pipeline(steps=[(&#x27;preprocessor&#x27;,\n",
              "                 ColumnTransformer(transformers=[(&#x27;encoder_nominal&#x27;,\n",
              "                                                  OneHotEncoder(handle_unknown=&#x27;ignore&#x27;,\n",
              "                                                                sparse_output=False),\n",
              "                                                  [&#x27;PrimaryPropertyType&#x27;,\n",
              "                                                   &#x27;Neighborhood&#x27;]),\n",
              "                                                 (&#x27;norma&#x27;, PowerTransformer(),\n",
              "                                                  [&#x27;Electricity(kBtu)&#x27;,\n",
              "                                                   &#x27;SiteEnergyUse(kBtu)&#x27;,\n",
              "                                                   &#x27;NaturalGas(kBtu)&#x27;,\n",
              "                                                   &#x27;NumberofBuildings&#x27;])])),\n",
              "                (&#x27;regressor&#x27;, Lasso())])</pre></div></div></div><div class=\"sk-serial\"><div class=\"sk-item sk-dashed-wrapped\"><div class=\"sk-label-container\"><div class=\"sk-label sk-toggleable\"><input class=\"sk-toggleable__control sk-hidden--visually\" id=\"sk-estimator-id-2\" type=\"checkbox\" ><label for=\"sk-estimator-id-2\" class=\"sk-toggleable__label sk-toggleable__label-arrow\">preprocessor: ColumnTransformer</label><div class=\"sk-toggleable__content\"><pre>ColumnTransformer(transformers=[(&#x27;encoder_nominal&#x27;,\n",
              "                                 OneHotEncoder(handle_unknown=&#x27;ignore&#x27;,\n",
              "                                               sparse_output=False),\n",
              "                                 [&#x27;PrimaryPropertyType&#x27;, &#x27;Neighborhood&#x27;]),\n",
              "                                (&#x27;norma&#x27;, PowerTransformer(),\n",
              "                                 [&#x27;Electricity(kBtu)&#x27;, &#x27;SiteEnergyUse(kBtu)&#x27;,\n",
              "                                  &#x27;NaturalGas(kBtu)&#x27;, &#x27;NumberofBuildings&#x27;])])</pre></div></div></div><div class=\"sk-parallel\"><div class=\"sk-parallel-item\"><div class=\"sk-item\"><div class=\"sk-label-container\"><div class=\"sk-label sk-toggleable\"><input class=\"sk-toggleable__control sk-hidden--visually\" id=\"sk-estimator-id-3\" type=\"checkbox\" ><label for=\"sk-estimator-id-3\" class=\"sk-toggleable__label sk-toggleable__label-arrow\">encoder_nominal</label><div class=\"sk-toggleable__content\"><pre>[&#x27;PrimaryPropertyType&#x27;, &#x27;Neighborhood&#x27;]</pre></div></div></div><div class=\"sk-serial\"><div class=\"sk-item\"><div class=\"sk-estimator sk-toggleable\"><input class=\"sk-toggleable__control sk-hidden--visually\" id=\"sk-estimator-id-4\" type=\"checkbox\" ><label for=\"sk-estimator-id-4\" class=\"sk-toggleable__label sk-toggleable__label-arrow\">OneHotEncoder</label><div class=\"sk-toggleable__content\"><pre>OneHotEncoder(handle_unknown=&#x27;ignore&#x27;, sparse_output=False)</pre></div></div></div></div></div></div><div class=\"sk-parallel-item\"><div class=\"sk-item\"><div class=\"sk-label-container\"><div class=\"sk-label sk-toggleable\"><input class=\"sk-toggleable__control sk-hidden--visually\" id=\"sk-estimator-id-5\" type=\"checkbox\" ><label for=\"sk-estimator-id-5\" class=\"sk-toggleable__label sk-toggleable__label-arrow\">norma</label><div class=\"sk-toggleable__content\"><pre>[&#x27;Electricity(kBtu)&#x27;, &#x27;SiteEnergyUse(kBtu)&#x27;, &#x27;NaturalGas(kBtu)&#x27;, &#x27;NumberofBuildings&#x27;]</pre></div></div></div><div class=\"sk-serial\"><div class=\"sk-item\"><div class=\"sk-estimator sk-toggleable\"><input class=\"sk-toggleable__control sk-hidden--visually\" id=\"sk-estimator-id-6\" type=\"checkbox\" ><label for=\"sk-estimator-id-6\" class=\"sk-toggleable__label sk-toggleable__label-arrow\">PowerTransformer</label><div class=\"sk-toggleable__content\"><pre>PowerTransformer()</pre></div></div></div></div></div></div></div></div><div class=\"sk-item\"><div class=\"sk-estimator sk-toggleable\"><input class=\"sk-toggleable__control sk-hidden--visually\" id=\"sk-estimator-id-7\" type=\"checkbox\" ><label for=\"sk-estimator-id-7\" class=\"sk-toggleable__label sk-toggleable__label-arrow\">Lasso</label><div class=\"sk-toggleable__content\"><pre>Lasso()</pre></div></div></div></div></div></div></div>"
            ]
          },
          "metadata": {},
          "execution_count": 32
        }
      ]
    },
    {
      "cell_type": "code",
      "source": [
        "# fit model by using grid search\n",
        "param_grid = {\n",
        "    'regressor__alpha'          : [0.0001, 0.001, 0.01, 0.10, 1]\n",
        "}\n",
        "grid_search = GridSearchCV(pp, param_grid, cv=5, verbose=1, n_jobs=-1, refit=True, scoring='r2')\n",
        "grid_search.fit(X, y)\n",
        "print(grid_search.best_params_)\n",
        "print('----------------')\n",
        "\n",
        "# model scoring\n",
        "best_model = grid_search.best_estimator_\n",
        "print(f'Model\\'s score : {best_model.score(X, y).round(3)}') #est R2 ? Bon va falloir revoir pipeline etc."
      ],
      "metadata": {
        "id": "HIH_ifuc4aU5",
        "colab": {
          "base_uri": "https://localhost:8080/"
        },
        "outputId": "bb67851a-11e5-4a7d-db89-a8e484476eb5"
      },
      "execution_count": 33,
      "outputs": [
        {
          "output_type": "stream",
          "name": "stdout",
          "text": [
            "Fitting 5 folds for each of 5 candidates, totalling 25 fits\n",
            "{'regressor__alpha': 1}\n",
            "----------------\n",
            "Model's score : 0.689\n"
          ]
        }
      ]
    },
    {
      "cell_type": "code",
      "source": [
        "lasso_regressor = best_model.named_steps['regressor']\n",
        "\n",
        "# Access the coefficients of the Lasso\n",
        "lasso_coefficients = lasso_regressor.coef_\n",
        "\n",
        "print(\"Lasso Coefficients:\")\n",
        "print(lasso_coefficients)\n",
        "\n",
        "# Print number of total variables and total variables with non null parameter\n",
        "(\n",
        "    lasso_coefficients.shape,\n",
        "    lasso_coefficients[lasso_coefficients != 0.].shape\n",
        ")\n",
        "# Le modele a simplifié notre equation: il a choisi seulement 14 variables parmis les 17 !"
      ],
      "metadata": {
        "id": "jLSU9jJu85Ib",
        "colab": {
          "base_uri": "https://localhost:8080/"
        },
        "outputId": "645f77c8-6a09-4cb2-c2b7-ef2d04fc6440"
      },
      "execution_count": 34,
      "outputs": [
        {
          "output_type": "stream",
          "name": "stdout",
          "text": [
            "Lasso Coefficients:\n",
            "[-0.00000000e+00  3.30171588e+03  1.12407265e+02 -0.00000000e+00\n",
            "  3.02766217e+02 -1.75753305e+02 -0.00000000e+00 -8.10549978e+00\n",
            " -0.00000000e+00 -0.00000000e+00  0.00000000e+00 -1.58726204e+01\n",
            "  0.00000000e+00  4.54366431e+01 -0.00000000e+00 -0.00000000e+00\n",
            " -0.00000000e+00  8.83098501e+00  0.00000000e+00 -1.56855911e+01\n",
            "  0.00000000e+00  0.00000000e+00  2.31865198e+01  1.91846001e+02\n",
            " -0.00000000e+00 -9.92940285e+00  1.13859383e+01  0.00000000e+00\n",
            " -1.05050342e-01 -0.00000000e+00  0.00000000e+00 -0.00000000e+00\n",
            "  2.61266021e+02  3.00461929e+00  6.11935096e+01  5.73262635e+01]\n"
          ]
        },
        {
          "output_type": "execute_result",
          "data": {
            "text/plain": [
              "((36,), (18,))"
            ]
          },
          "metadata": {},
          "execution_count": 34
        }
      ]
    }
  ],
  "metadata": {
    "colab": {
      "collapsed_sections": [
        "M_yoc462ofrY",
        "XnuEOgORoSyi",
        "Sb0FELzUPGK5",
        "UJoM5lQlCz7e"
      ],
      "provenance": [],
      "include_colab_link": true
    },
    "kernelspec": {
      "display_name": "Python 3",
      "name": "python3"
    },
    "language_info": {
      "name": "python"
    }
  },
  "nbformat": 4,
  "nbformat_minor": 0
}