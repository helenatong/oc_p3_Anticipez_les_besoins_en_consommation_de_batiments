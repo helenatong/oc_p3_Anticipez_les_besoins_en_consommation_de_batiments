{
  "cells": [
    {
      "cell_type": "markdown",
      "metadata": {
        "id": "view-in-github",
        "colab_type": "text"
      },
      "source": [
        "<a href=\"https://colab.research.google.com/github/helenatong/oc_p4_Anticipez_les_besoins_en_consommation_de_batiments/blob/main/training.ipynb\" target=\"_parent\"><img src=\"https://colab.research.google.com/assets/colab-badge.svg\" alt=\"Open In Colab\"/></a>"
      ]
    },
    {
      "cell_type": "markdown",
      "source": [
        "GradientBoostingRegressor question sur le gradient\n",
        "pas compris elastic net ... car comment choisir ?\n",
        "alors que le lasso en prend 1 au hasard"
      ],
      "metadata": {
        "id": "IFTx06AH-Ztg"
      }
    },
    {
      "cell_type": "markdown",
      "metadata": {
        "id": "M_yoc462ofrY"
      },
      "source": [
        "# **Introduction**\n",
        "\n",
        "---"
      ]
    },
    {
      "cell_type": "markdown",
      "metadata": {
        "id": "DT0Vbw38R3HI"
      },
      "source": [
        "## **Prérequis**\n",
        "- Télécharger [dataset nettoyé](https://drive.google.com/file/d/1-EuzI1ibLAG_1brg_v3MKcDtEgKDFIdl/view?usp=drive_link) dans Google Drive\n",
        "- Modifier le chemin du fichier dans le code\n",
        "\n",
        "\n",
        "---\n",
        "\n",
        "---\n",
        "\n",
        "## **Sommaire**\n",
        "\n",
        "### **I. Installation et mise en place de l'environnement de travail**\n",
        "\n",
        "### **II. Définitions des fonctions auxiliaires**\n",
        "\n",
        "### **III. Prédiction de la variable TotalGHGEmissions**\n",
        "**A. Entrainement du premier modèle: régression linéaire**"
      ]
    },
    {
      "cell_type": "markdown",
      "metadata": {
        "id": "XnuEOgORoSyi"
      },
      "source": [
        "# **I. Installation et mise en place de l'environnement de travail**"
      ]
    },
    {
      "cell_type": "code",
      "execution_count": 144,
      "metadata": {
        "id": "dawXLR8k49lH"
      },
      "outputs": [],
      "source": [
        "# importation des librairies\n",
        "import numpy as np\n",
        "import pandas as pd\n",
        "\n",
        "import zipfile\n",
        "import os\n",
        "\n",
        "import re\n",
        "\n",
        "import sys\n",
        "\n",
        "import missingno as msno\n",
        "import matplotlib as mpl\n",
        "import matplotlib.pyplot as plt\n",
        "import seaborn as sns\n",
        "\n",
        "from sklearn.linear_model import LinearRegression\n",
        "\n",
        "import datetime\n",
        "\n",
        "from google.colab import drive"
      ]
    },
    {
      "cell_type": "code",
      "execution_count": 145,
      "metadata": {
        "colab": {
          "base_uri": "https://localhost:8080/"
        },
        "id": "iCfGUiXL5cEc",
        "outputId": "681918fa-8d07-4b7d-be65-06d89fcc6f68"
      },
      "outputs": [
        {
          "output_type": "stream",
          "name": "stdout",
          "text": [
            "Version des librairies :\n",
            "Python        : 3.10.12 (main, Nov 20 2023, 15:14:05) [GCC 11.4.0]\n",
            "NumPy         : 1.25.2\n",
            "Pandas        : 2.0.3\n",
            "Matplotlib    : 3.7.1\n",
            "Seaborn       : 0.13.1\n",
            "Run date      : 2024-05-17T18:30:34.173678\n"
          ]
        }
      ],
      "source": [
        "# informations sur l'environnement virtuel\n",
        "print('Version des librairies :')\n",
        "print('Python        : ' + sys.version)\n",
        "print('NumPy         : ' + np.version.full_version)\n",
        "print('Pandas        : ' + pd.__version__)\n",
        "print('Matplotlib    : ' + mpl.__version__)\n",
        "print('Seaborn       : ' + sns.__version__)\n",
        "\n",
        "now  = datetime.datetime.now().isoformat()\n",
        "print('Run date      : ' + now)"
      ]
    },
    {
      "cell_type": "code",
      "execution_count": 146,
      "metadata": {
        "id": "3Uogl562MBpU"
      },
      "outputs": [],
      "source": [
        "# configurations de l'affichages des données\n",
        "pd.set_option('display.max_columns', None)"
      ]
    },
    {
      "cell_type": "code",
      "execution_count": 147,
      "metadata": {
        "colab": {
          "base_uri": "https://localhost:8080/"
        },
        "id": "A7jM53Y09R3J",
        "outputId": "46d85b63-ac61-47e3-da66-d79338eccc04"
      },
      "outputs": [
        {
          "output_type": "stream",
          "name": "stdout",
          "text": [
            "Drive already mounted at /content/drive; to attempt to forcibly remount, call drive.mount(\"/content/drive\", force_remount=True).\n"
          ]
        }
      ],
      "source": [
        "# connexion au drive\n",
        "drive.mount('/content/drive')"
      ]
    },
    {
      "cell_type": "code",
      "execution_count": 148,
      "metadata": {
        "colab": {
          "base_uri": "https://localhost:8080/",
          "height": 0
        },
        "id": "1CZaqh-c8fgE",
        "outputId": "84bfbe4b-ea22-4f32-c2c0-b2eb67bf638d"
      },
      "outputs": [
        {
          "output_type": "execute_result",
          "data": {
            "text/plain": [
              "   OSEBuildingID    BuildingType PrimaryPropertyType Neighborhood  \\\n",
              "0              1  NonResidential               Hotel     DOWNTOWN   \n",
              "1              2  NonResidential               Hotel     DOWNTOWN   \n",
              "\n",
              "   NumberofBuildings  NumberofFloors  PropertyGFATotal  PropertyGFAParking  \\\n",
              "0                1.0              12             88434                   0   \n",
              "1                1.0              11            103566               15064   \n",
              "\n",
              "   PropertyGFABuilding(s) LargestPropertyUseType  LargestPropertyUseTypeGFA  \\\n",
              "0                   88434                  Hotel                    88434.0   \n",
              "1                   88502                  Hotel                    83880.0   \n",
              "\n",
              "  SecondLargestPropertyUseType  SecondLargestPropertyUseTypeGFA  \\\n",
              "0                      missing                              0.0   \n",
              "1                      Parking                          15064.0   \n",
              "\n",
              "  ThirdLargestPropertyUseType  ThirdLargestPropertyUseTypeGFA  \\\n",
              "0                     missing                             0.0   \n",
              "1                  Restaurant                          4622.0   \n",
              "\n",
              "   ENERGYSTARScore  SiteEnergyUse(kBtu)  SteamUse(kBtu)  Electricity(kBtu)  \\\n",
              "0             60.0            7226362.5       2003882.0          3946027.0   \n",
              "1             61.0            8387933.0             0.0          3242851.0   \n",
              "\n",
              "   NaturalGas(kBtu)  TotalGHGEmissions  BuildingAge  \\\n",
              "0         1276453.0             249.98           89   \n",
              "1         5145082.0             295.86           20   \n",
              "\n",
              "   LastYearENERGYSTARCertified  NbYearENERGYSTARCertified  \n",
              "0                          0.0                          0  \n",
              "1                          0.0                          0  "
            ],
            "text/html": [
              "\n",
              "  <div id=\"df-2aa51821-8da8-409b-8c7c-95ba4aae2418\" class=\"colab-df-container\">\n",
              "    <div>\n",
              "<style scoped>\n",
              "    .dataframe tbody tr th:only-of-type {\n",
              "        vertical-align: middle;\n",
              "    }\n",
              "\n",
              "    .dataframe tbody tr th {\n",
              "        vertical-align: top;\n",
              "    }\n",
              "\n",
              "    .dataframe thead th {\n",
              "        text-align: right;\n",
              "    }\n",
              "</style>\n",
              "<table border=\"1\" class=\"dataframe\">\n",
              "  <thead>\n",
              "    <tr style=\"text-align: right;\">\n",
              "      <th></th>\n",
              "      <th>OSEBuildingID</th>\n",
              "      <th>BuildingType</th>\n",
              "      <th>PrimaryPropertyType</th>\n",
              "      <th>Neighborhood</th>\n",
              "      <th>NumberofBuildings</th>\n",
              "      <th>NumberofFloors</th>\n",
              "      <th>PropertyGFATotal</th>\n",
              "      <th>PropertyGFAParking</th>\n",
              "      <th>PropertyGFABuilding(s)</th>\n",
              "      <th>LargestPropertyUseType</th>\n",
              "      <th>LargestPropertyUseTypeGFA</th>\n",
              "      <th>SecondLargestPropertyUseType</th>\n",
              "      <th>SecondLargestPropertyUseTypeGFA</th>\n",
              "      <th>ThirdLargestPropertyUseType</th>\n",
              "      <th>ThirdLargestPropertyUseTypeGFA</th>\n",
              "      <th>ENERGYSTARScore</th>\n",
              "      <th>SiteEnergyUse(kBtu)</th>\n",
              "      <th>SteamUse(kBtu)</th>\n",
              "      <th>Electricity(kBtu)</th>\n",
              "      <th>NaturalGas(kBtu)</th>\n",
              "      <th>TotalGHGEmissions</th>\n",
              "      <th>BuildingAge</th>\n",
              "      <th>LastYearENERGYSTARCertified</th>\n",
              "      <th>NbYearENERGYSTARCertified</th>\n",
              "    </tr>\n",
              "  </thead>\n",
              "  <tbody>\n",
              "    <tr>\n",
              "      <th>0</th>\n",
              "      <td>1</td>\n",
              "      <td>NonResidential</td>\n",
              "      <td>Hotel</td>\n",
              "      <td>DOWNTOWN</td>\n",
              "      <td>1.0</td>\n",
              "      <td>12</td>\n",
              "      <td>88434</td>\n",
              "      <td>0</td>\n",
              "      <td>88434</td>\n",
              "      <td>Hotel</td>\n",
              "      <td>88434.0</td>\n",
              "      <td>missing</td>\n",
              "      <td>0.0</td>\n",
              "      <td>missing</td>\n",
              "      <td>0.0</td>\n",
              "      <td>60.0</td>\n",
              "      <td>7226362.5</td>\n",
              "      <td>2003882.0</td>\n",
              "      <td>3946027.0</td>\n",
              "      <td>1276453.0</td>\n",
              "      <td>249.98</td>\n",
              "      <td>89</td>\n",
              "      <td>0.0</td>\n",
              "      <td>0</td>\n",
              "    </tr>\n",
              "    <tr>\n",
              "      <th>1</th>\n",
              "      <td>2</td>\n",
              "      <td>NonResidential</td>\n",
              "      <td>Hotel</td>\n",
              "      <td>DOWNTOWN</td>\n",
              "      <td>1.0</td>\n",
              "      <td>11</td>\n",
              "      <td>103566</td>\n",
              "      <td>15064</td>\n",
              "      <td>88502</td>\n",
              "      <td>Hotel</td>\n",
              "      <td>83880.0</td>\n",
              "      <td>Parking</td>\n",
              "      <td>15064.0</td>\n",
              "      <td>Restaurant</td>\n",
              "      <td>4622.0</td>\n",
              "      <td>61.0</td>\n",
              "      <td>8387933.0</td>\n",
              "      <td>0.0</td>\n",
              "      <td>3242851.0</td>\n",
              "      <td>5145082.0</td>\n",
              "      <td>295.86</td>\n",
              "      <td>20</td>\n",
              "      <td>0.0</td>\n",
              "      <td>0</td>\n",
              "    </tr>\n",
              "  </tbody>\n",
              "</table>\n",
              "</div>\n",
              "    <div class=\"colab-df-buttons\">\n",
              "\n",
              "  <div class=\"colab-df-container\">\n",
              "    <button class=\"colab-df-convert\" onclick=\"convertToInteractive('df-2aa51821-8da8-409b-8c7c-95ba4aae2418')\"\n",
              "            title=\"Convert this dataframe to an interactive table.\"\n",
              "            style=\"display:none;\">\n",
              "\n",
              "  <svg xmlns=\"http://www.w3.org/2000/svg\" height=\"24px\" viewBox=\"0 -960 960 960\">\n",
              "    <path d=\"M120-120v-720h720v720H120Zm60-500h600v-160H180v160Zm220 220h160v-160H400v160Zm0 220h160v-160H400v160ZM180-400h160v-160H180v160Zm440 0h160v-160H620v160ZM180-180h160v-160H180v160Zm440 0h160v-160H620v160Z\"/>\n",
              "  </svg>\n",
              "    </button>\n",
              "\n",
              "  <style>\n",
              "    .colab-df-container {\n",
              "      display:flex;\n",
              "      gap: 12px;\n",
              "    }\n",
              "\n",
              "    .colab-df-convert {\n",
              "      background-color: #E8F0FE;\n",
              "      border: none;\n",
              "      border-radius: 50%;\n",
              "      cursor: pointer;\n",
              "      display: none;\n",
              "      fill: #1967D2;\n",
              "      height: 32px;\n",
              "      padding: 0 0 0 0;\n",
              "      width: 32px;\n",
              "    }\n",
              "\n",
              "    .colab-df-convert:hover {\n",
              "      background-color: #E2EBFA;\n",
              "      box-shadow: 0px 1px 2px rgba(60, 64, 67, 0.3), 0px 1px 3px 1px rgba(60, 64, 67, 0.15);\n",
              "      fill: #174EA6;\n",
              "    }\n",
              "\n",
              "    .colab-df-buttons div {\n",
              "      margin-bottom: 4px;\n",
              "    }\n",
              "\n",
              "    [theme=dark] .colab-df-convert {\n",
              "      background-color: #3B4455;\n",
              "      fill: #D2E3FC;\n",
              "    }\n",
              "\n",
              "    [theme=dark] .colab-df-convert:hover {\n",
              "      background-color: #434B5C;\n",
              "      box-shadow: 0px 1px 3px 1px rgba(0, 0, 0, 0.15);\n",
              "      filter: drop-shadow(0px 1px 2px rgba(0, 0, 0, 0.3));\n",
              "      fill: #FFFFFF;\n",
              "    }\n",
              "  </style>\n",
              "\n",
              "    <script>\n",
              "      const buttonEl =\n",
              "        document.querySelector('#df-2aa51821-8da8-409b-8c7c-95ba4aae2418 button.colab-df-convert');\n",
              "      buttonEl.style.display =\n",
              "        google.colab.kernel.accessAllowed ? 'block' : 'none';\n",
              "\n",
              "      async function convertToInteractive(key) {\n",
              "        const element = document.querySelector('#df-2aa51821-8da8-409b-8c7c-95ba4aae2418');\n",
              "        const dataTable =\n",
              "          await google.colab.kernel.invokeFunction('convertToInteractive',\n",
              "                                                    [key], {});\n",
              "        if (!dataTable) return;\n",
              "\n",
              "        const docLinkHtml = 'Like what you see? Visit the ' +\n",
              "          '<a target=\"_blank\" href=https://colab.research.google.com/notebooks/data_table.ipynb>data table notebook</a>'\n",
              "          + ' to learn more about interactive tables.';\n",
              "        element.innerHTML = '';\n",
              "        dataTable['output_type'] = 'display_data';\n",
              "        await google.colab.output.renderOutput(dataTable, element);\n",
              "        const docLink = document.createElement('div');\n",
              "        docLink.innerHTML = docLinkHtml;\n",
              "        element.appendChild(docLink);\n",
              "      }\n",
              "    </script>\n",
              "  </div>\n",
              "\n",
              "\n",
              "<div id=\"df-5156cfcb-d78f-4cac-baef-ba0054d96add\">\n",
              "  <button class=\"colab-df-quickchart\" onclick=\"quickchart('df-5156cfcb-d78f-4cac-baef-ba0054d96add')\"\n",
              "            title=\"Suggest charts\"\n",
              "            style=\"display:none;\">\n",
              "\n",
              "<svg xmlns=\"http://www.w3.org/2000/svg\" height=\"24px\"viewBox=\"0 0 24 24\"\n",
              "     width=\"24px\">\n",
              "    <g>\n",
              "        <path d=\"M19 3H5c-1.1 0-2 .9-2 2v14c0 1.1.9 2 2 2h14c1.1 0 2-.9 2-2V5c0-1.1-.9-2-2-2zM9 17H7v-7h2v7zm4 0h-2V7h2v10zm4 0h-2v-4h2v4z\"/>\n",
              "    </g>\n",
              "</svg>\n",
              "  </button>\n",
              "\n",
              "<style>\n",
              "  .colab-df-quickchart {\n",
              "      --bg-color: #E8F0FE;\n",
              "      --fill-color: #1967D2;\n",
              "      --hover-bg-color: #E2EBFA;\n",
              "      --hover-fill-color: #174EA6;\n",
              "      --disabled-fill-color: #AAA;\n",
              "      --disabled-bg-color: #DDD;\n",
              "  }\n",
              "\n",
              "  [theme=dark] .colab-df-quickchart {\n",
              "      --bg-color: #3B4455;\n",
              "      --fill-color: #D2E3FC;\n",
              "      --hover-bg-color: #434B5C;\n",
              "      --hover-fill-color: #FFFFFF;\n",
              "      --disabled-bg-color: #3B4455;\n",
              "      --disabled-fill-color: #666;\n",
              "  }\n",
              "\n",
              "  .colab-df-quickchart {\n",
              "    background-color: var(--bg-color);\n",
              "    border: none;\n",
              "    border-radius: 50%;\n",
              "    cursor: pointer;\n",
              "    display: none;\n",
              "    fill: var(--fill-color);\n",
              "    height: 32px;\n",
              "    padding: 0;\n",
              "    width: 32px;\n",
              "  }\n",
              "\n",
              "  .colab-df-quickchart:hover {\n",
              "    background-color: var(--hover-bg-color);\n",
              "    box-shadow: 0 1px 2px rgba(60, 64, 67, 0.3), 0 1px 3px 1px rgba(60, 64, 67, 0.15);\n",
              "    fill: var(--button-hover-fill-color);\n",
              "  }\n",
              "\n",
              "  .colab-df-quickchart-complete:disabled,\n",
              "  .colab-df-quickchart-complete:disabled:hover {\n",
              "    background-color: var(--disabled-bg-color);\n",
              "    fill: var(--disabled-fill-color);\n",
              "    box-shadow: none;\n",
              "  }\n",
              "\n",
              "  .colab-df-spinner {\n",
              "    border: 2px solid var(--fill-color);\n",
              "    border-color: transparent;\n",
              "    border-bottom-color: var(--fill-color);\n",
              "    animation:\n",
              "      spin 1s steps(1) infinite;\n",
              "  }\n",
              "\n",
              "  @keyframes spin {\n",
              "    0% {\n",
              "      border-color: transparent;\n",
              "      border-bottom-color: var(--fill-color);\n",
              "      border-left-color: var(--fill-color);\n",
              "    }\n",
              "    20% {\n",
              "      border-color: transparent;\n",
              "      border-left-color: var(--fill-color);\n",
              "      border-top-color: var(--fill-color);\n",
              "    }\n",
              "    30% {\n",
              "      border-color: transparent;\n",
              "      border-left-color: var(--fill-color);\n",
              "      border-top-color: var(--fill-color);\n",
              "      border-right-color: var(--fill-color);\n",
              "    }\n",
              "    40% {\n",
              "      border-color: transparent;\n",
              "      border-right-color: var(--fill-color);\n",
              "      border-top-color: var(--fill-color);\n",
              "    }\n",
              "    60% {\n",
              "      border-color: transparent;\n",
              "      border-right-color: var(--fill-color);\n",
              "    }\n",
              "    80% {\n",
              "      border-color: transparent;\n",
              "      border-right-color: var(--fill-color);\n",
              "      border-bottom-color: var(--fill-color);\n",
              "    }\n",
              "    90% {\n",
              "      border-color: transparent;\n",
              "      border-bottom-color: var(--fill-color);\n",
              "    }\n",
              "  }\n",
              "</style>\n",
              "\n",
              "  <script>\n",
              "    async function quickchart(key) {\n",
              "      const quickchartButtonEl =\n",
              "        document.querySelector('#' + key + ' button');\n",
              "      quickchartButtonEl.disabled = true;  // To prevent multiple clicks.\n",
              "      quickchartButtonEl.classList.add('colab-df-spinner');\n",
              "      try {\n",
              "        const charts = await google.colab.kernel.invokeFunction(\n",
              "            'suggestCharts', [key], {});\n",
              "      } catch (error) {\n",
              "        console.error('Error during call to suggestCharts:', error);\n",
              "      }\n",
              "      quickchartButtonEl.classList.remove('colab-df-spinner');\n",
              "      quickchartButtonEl.classList.add('colab-df-quickchart-complete');\n",
              "    }\n",
              "    (() => {\n",
              "      let quickchartButtonEl =\n",
              "        document.querySelector('#df-5156cfcb-d78f-4cac-baef-ba0054d96add button');\n",
              "      quickchartButtonEl.style.display =\n",
              "        google.colab.kernel.accessAllowed ? 'block' : 'none';\n",
              "    })();\n",
              "  </script>\n",
              "</div>\n",
              "    </div>\n",
              "  </div>\n"
            ],
            "application/vnd.google.colaboratory.intrinsic+json": {
              "type": "dataframe",
              "variable_name": "df"
            }
          },
          "metadata": {},
          "execution_count": 148
        }
      ],
      "source": [
        "# vérification de l'importation\n",
        "df = pd.read_parquet('/content/drive/MyDrive/openclassrooms/project_list/project_4/data/cleaned_2016_Building_Energy_Benchmarking.pq')\n",
        "df.head(2)"
      ]
    },
    {
      "cell_type": "code",
      "execution_count": 149,
      "metadata": {
        "colab": {
          "base_uri": "https://localhost:8080/"
        },
        "id": "-1_rhUFTtFzK",
        "outputId": "44aa5e62-a60c-47e9-e8b7-098650628e80"
      },
      "outputs": [
        {
          "output_type": "execute_result",
          "data": {
            "text/plain": [
              "OSEBuildingID                      0\n",
              "BuildingType                       0\n",
              "PrimaryPropertyType                0\n",
              "Neighborhood                       0\n",
              "NumberofBuildings                  0\n",
              "NumberofFloors                     0\n",
              "PropertyGFATotal                   0\n",
              "PropertyGFAParking                 0\n",
              "PropertyGFABuilding(s)             0\n",
              "LargestPropertyUseType             0\n",
              "LargestPropertyUseTypeGFA          0\n",
              "SecondLargestPropertyUseType       0\n",
              "SecondLargestPropertyUseTypeGFA    0\n",
              "ThirdLargestPropertyUseType        0\n",
              "ThirdLargestPropertyUseTypeGFA     0\n",
              "ENERGYSTARScore                    0\n",
              "SiteEnergyUse(kBtu)                0\n",
              "SteamUse(kBtu)                     0\n",
              "Electricity(kBtu)                  0\n",
              "NaturalGas(kBtu)                   0\n",
              "TotalGHGEmissions                  0\n",
              "BuildingAge                        0\n",
              "LastYearENERGYSTARCertified        0\n",
              "NbYearENERGYSTARCertified          0\n",
              "dtype: int64"
            ]
          },
          "metadata": {},
          "execution_count": 149
        }
      ],
      "source": [
        "# vérification des données\n",
        "df.isna().sum(axis=0)"
      ]
    },
    {
      "cell_type": "markdown",
      "metadata": {
        "id": "aWDdfIwH1qmZ"
      },
      "source": [
        "# **II. Définitions des fonctions et des variables globales**\n"
      ]
    },
    {
      "cell_type": "code",
      "execution_count": 150,
      "metadata": {
        "id": "eIjAoWTD684Y"
      },
      "outputs": [],
      "source": [
        "# TARGET =\n",
        "ID = 'OSEBuildingID'"
      ]
    },
    {
      "cell_type": "code",
      "execution_count": 151,
      "metadata": {
        "id": "m8Q3jV1_DImt"
      },
      "outputs": [],
      "source": [
        "# préparation des données pour ML, variable a de l'impact ou pas?\n",
        " # normalisation des données\n",
        " # encodage\n",
        " # dataset de training\n",
        "\n",
        " # TARGET 1 - prédire une valeur numérique\n",
        "#tester simple la régression lineaire\n",
        "\n",
        "#NEW NOTEBOOK\n",
        "# TARGET 1 - prédire une valeur numérique\n",
        "#tester simple la régression lineaire\n",
        "\n",
        "# entrainement modèle, pipeline, grid search\n",
        "# choix de la méthode de scoring\n",
        "# comparer les 4 modèles : ElasticNet, SVM, GradientBoosting, RandomForest\n",
        "# si iverfitting : tester une méthode ensembliste (bagging, boosting)\n",
        "\n",
        "# check impact de STAR SCORING avec et sans\n",
        "#c'est pour comparer ce qui est comparable. ENtre BTP aux services similaires (école <> industrie)\n",
        "\n",
        "#NEW NOTEBOOK\n",
        "# TARGET 2 - prédire une valeur numérique\n",
        "# entrainement modèle\n",
        "\n",
        "#shap\n",
        "#ElasticNet (lineaire, ), SVM, GradientBoosting, RandomForest).\n",
        "\n",
        "#pour savoir si une va est importante ?\n",
        "# simple : utiliser la lib black box\n",
        "# compliqué : LASSO (connaissance de l'algo!), cas particulier de l'eslatic net, 0 sur tout"
      ]
    },
    {
      "cell_type": "markdown",
      "metadata": {
        "id": "-r1bIoIqGUas"
      },
      "source": [
        "Les principaux algorithmes du machine learning supervisé sont les suivants : forêts aléatoires (plusieurs arbres de décisions), arbres de décision, algorithme K-NN (k-Nearest Neighbors) (qui se ressemble.. est identique), régression linéaire, algorithme de Naïve Bayes??, machine à vecteurs de support (SVM)??, régression logistique (hum ?) et boosting de gradient (minimisation de la fonction de coût)"
      ]
    },
    {
      "cell_type": "code",
      "execution_count": 151,
      "metadata": {
        "id": "riKH7q3nGT79"
      },
      "outputs": [],
      "source": []
    },
    {
      "cell_type": "markdown",
      "metadata": {
        "id": "_Yn35X5Lt4az"
      },
      "source": [
        "# **III. TARGET 1**"
      ]
    },
    {
      "cell_type": "code",
      "execution_count": 152,
      "metadata": {
        "id": "nXJMrjPft3tA"
      },
      "outputs": [],
      "source": [
        "TARGET = 'TotalGHGEmissions'\n",
        "NUM_FEATURES = ['OSEBuildingID', 'NumberofBuildings', 'NumberofFloors',\n",
        "       'PropertyGFATotal', 'PropertyGFAParking', 'PropertyGFABuilding(s)',\n",
        "       'LargestPropertyUseTypeGFA', 'SecondLargestPropertyUseTypeGFA',\n",
        "       'ThirdLargestPropertyUseTypeGFA', 'ENERGYSTARScore', 'SiteEnergyUse(kBtu)',\n",
        "       'SteamUse(kBtu)', 'Electricity(kBtu)', 'NaturalGas(kBtu)',\n",
        "       'BuildingAge', 'LastYearENERGYSTARCertified',\n",
        "       'NbYearENERGYSTARCertified']\n",
        "CAT_FEATURES = [f for f in df.columns if f not in NUM_FEATURES and f != TARGET]\n",
        "\n",
        "df1 = df.copy()"
      ]
    },
    {
      "cell_type": "markdown",
      "metadata": {
        "id": "sZ2UIkyOuGVF"
      },
      "source": [
        "**Trouver les variables prédictifs à l'aide du lasso ? To do si le temps**"
      ]
    },
    {
      "cell_type": "markdown",
      "metadata": {
        "id": "hx7V9mslqLy5"
      },
      "source": [
        "##**A. Entrainement d'un modèle linéaire: LinearRegression**"
      ]
    },
    {
      "cell_type": "code",
      "execution_count": 153,
      "metadata": {
        "id": "uvEIqsREqSlP"
      },
      "outputs": [],
      "source": [
        "# importation des librairies\n",
        "from sklearn.model_selection import train_test_split, GridSearchCV\n",
        "from sklearn.pipeline import Pipeline\n",
        "from sklearn.linear_model import LinearRegression\n",
        "from sklearn.compose import ColumnTransformer\n",
        "from sklearn.preprocessing import OneHotEncoder, PowerTransformer"
      ]
    },
    {
      "cell_type": "code",
      "execution_count": 154,
      "metadata": {
        "id": "7GTn41hBvpkd"
      },
      "outputs": [],
      "source": [
        "# séparation des variables explicatives de la variable à prédire\n",
        "df1 = df.copy()\n",
        "y = df1.pop(TARGET)\n",
        "X = df1"
      ]
    },
    {
      "cell_type": "code",
      "execution_count": 155,
      "metadata": {
        "id": "AFrSt30J00Mj"
      },
      "outputs": [],
      "source": [
        "# features engineering\n",
        "y = np.log(y + 1)\n",
        "\n",
        "preprocessor = ColumnTransformer(\n",
        "    transformers=[\n",
        "        ('encoder_nominal', OneHotEncoder(handle_unknown='ignore',sparse_output=False), CAT_FEATURES),\n",
        "         ('norma', PowerTransformer(), NUM_FEATURES)\n",
        "    ],\n",
        "    remainder='drop'\n",
        "  )"
      ]
    },
    {
      "cell_type": "code",
      "execution_count": 156,
      "metadata": {
        "id": "la0Io3EOqSf_"
      },
      "outputs": [],
      "source": [
        "# création de la pipeline\n",
        "pipeline = Pipeline([\n",
        "    ('preprocessor', preprocessor),\n",
        "    ('regressor', LinearRegression())\n",
        "  ])"
      ]
    },
    {
      "cell_type": "code",
      "execution_count": 157,
      "metadata": {
        "colab": {
          "base_uri": "https://localhost:8080/"
        },
        "id": "XV0oamJAqShz",
        "outputId": "65dcbfbb-7f08-4000-cf9e-94659e3c904f"
      },
      "outputs": [
        {
          "output_type": "stream",
          "name": "stdout",
          "text": [
            "Fitting 5 folds for each of 2 candidates, totalling 10 fits\n",
            "Meilleurs hyperparamètres: {'regressor__fit_intercept': True}\n",
            "Moyenne des scores: -1.7627531427969729e+19\n",
            "----------------\n",
            "Score sur le train : 0.96\n",
            "Score sur le test : -2.407625742155468e+18\n"
          ]
        }
      ],
      "source": [
        "# entrainement des modèles selon plusieurs paramètres\n",
        "# séparation du dataset (entrainement et test)\n",
        "\n",
        "param_grid = {\n",
        "    'regressor__fit_intercept' : [False, True]#,\n",
        "    #'regressor__positive'      : [False, True]\n",
        "}\n",
        "\n",
        "gs = GridSearchCV(estimator=pipeline, param_grid=param_grid, cv=5, verbose=1, n_jobs=-1, refit=True, scoring='r2')\n",
        "X_train, X_test, y_train, y_test = train_test_split(X, y, test_size=0.20, random_state=42)\n",
        "gs.fit(X_train, y_train)\n",
        "best_model = gs.best_estimator_\n",
        "\n",
        "print(f'Meilleurs hyperparamètres: {gs.best_params_}')\n",
        "print(f'Moyenne des scores: {gs.best_score_.round(3)}')\n",
        "print('----------------')\n",
        "\n",
        "# model scoring\n",
        "print(f'Score sur le train : {best_model.score(X_train, y_train).round(3)}')\n",
        "print(f'Score sur le test : {best_model.score(X_test, y_test).round(3)}')"
      ]
    },
    {
      "cell_type": "markdown",
      "metadata": {
        "id": "HNP5xO2_sCVa"
      },
      "source": [
        "##**B. Entrainement d'un modèle linéaire: RandomForestRegressor**"
      ]
    },
    {
      "cell_type": "code",
      "execution_count": 158,
      "metadata": {
        "id": "gVx7heAGqSb_"
      },
      "outputs": [],
      "source": [
        "from sklearn.ensemble import RandomForestRegressor"
      ]
    },
    {
      "cell_type": "code",
      "execution_count": 159,
      "metadata": {
        "id": "_T9V__pKqSaE"
      },
      "outputs": [],
      "source": [
        "# création de la pipeline\n",
        "pipeline = Pipeline([\n",
        "    ('preprocessor', preprocessor),\n",
        "    ('regressor', RandomForestRegressor())\n",
        "  ])"
      ]
    },
    {
      "cell_type": "code",
      "execution_count": 160,
      "metadata": {
        "colab": {
          "base_uri": "https://localhost:8080/"
        },
        "id": "k1V61ohuqSXy",
        "outputId": "2c73a4f0-2bcc-4962-aa23-3d0d2a7eb0ee"
      },
      "outputs": [
        {
          "output_type": "stream",
          "name": "stdout",
          "text": [
            "Fitting 5 folds for each of 2 candidates, totalling 10 fits\n",
            "Meilleurs hyperparamètres: {'regressor__n_estimators': 100}\n",
            "Moyenne des scores: 0.979\n",
            "----------------\n",
            "Score sur le train : 0.997\n",
            "Score sur le test : 0.996\n"
          ]
        }
      ],
      "source": [
        "# entrainement des modèles selon plusieurs paramètres\n",
        "# séparation du dataset (entrainement et test)\n",
        "\n",
        "param_grid = {\n",
        "    'regressor__n_estimators'  : [100, 500]#,\n",
        "    # 'regressor__max_depth'     : [2, 3, 4, 5],\n",
        "    # 'regressor__criterion'     : ['squared_error', 'absolute_error', 'friedman_mse', 'poisson'],\n",
        "    # 'regressor__min_samples_split' : [2, 10, 100]\n",
        "}\n",
        "\n",
        "gs = GridSearchCV(estimator=pipeline, param_grid=param_grid, cv=5, verbose=1, n_jobs=-1, refit=True, scoring='r2')\n",
        "X_train, X_test, y_train, y_test = train_test_split(X, y, test_size=0.20, random_state=42)\n",
        "gs.fit(X_train, y_train)\n",
        "best_model = gs.best_estimator_\n",
        "best_model_to_keep = gs.best_estimator_\n",
        "\n",
        "print(f'Meilleurs hyperparamètres: {gs.best_params_}')\n",
        "print(f'Moyenne des scores: {gs.best_score_.round(3)}')\n",
        "print('----------------')\n",
        "\n",
        "# model scoring\n",
        "print(f'Score sur le train : {best_model.score(X_train, y_train).round(3)}')\n",
        "print(f'Score sur le test : {best_model.score(X_test, y_test).round(3)}')"
      ]
    },
    {
      "cell_type": "markdown",
      "metadata": {
        "id": "2zjBlLrsDXTw"
      },
      "source": [
        "##**C. Entrainement d'un modèle linéaire: GradientBoostingRegressor**"
      ]
    },
    {
      "cell_type": "code",
      "execution_count": 161,
      "metadata": {
        "id": "HluPHuMiqSVt"
      },
      "outputs": [],
      "source": [
        "from sklearn.ensemble import GradientBoostingRegressor"
      ]
    },
    {
      "cell_type": "code",
      "execution_count": 162,
      "metadata": {
        "id": "DmGNkXSQqSLz"
      },
      "outputs": [],
      "source": [
        "# création de la pipeline\n",
        "pipeline = Pipeline([\n",
        "    ('preprocessor', preprocessor),\n",
        "    ('regressor', GradientBoostingRegressor())\n",
        "  ])"
      ]
    },
    {
      "cell_type": "code",
      "execution_count": 163,
      "metadata": {
        "id": "fwjxMPUADrzU",
        "colab": {
          "base_uri": "https://localhost:8080/"
        },
        "outputId": "4fbdcf14-e329-4add-c8e0-a24b5e878833"
      },
      "outputs": [
        {
          "output_type": "stream",
          "name": "stdout",
          "text": [
            "Fitting 5 folds for each of 4 candidates, totalling 20 fits\n",
            "Meilleurs hyperparamètres: {'regressor__learning_rate': 0.1}\n",
            "Moyenne des scores: 0.976\n",
            "----------------\n",
            "Score sur le train : 0.998\n",
            "Score sur le test : 0.995\n"
          ]
        }
      ],
      "source": [
        "# entrainement des modèles selon plusieurs paramètres\n",
        "# séparation du dataset (entrainement et test)\n",
        "\n",
        "param_grid = {\n",
        "    'regressor__learning_rate'      : [0.1, 0.05, 0.5, 1]#,\n",
        "    # 'regressor__n_estimators'       : [100, 50, 200, 300],\n",
        "    # 'regressor__max_depth'          : [3, 2, 4, 5],\n",
        "    # 'regressor__min_samples_split'  : [2, 3, 4],\n",
        "    # 'regressor__min_samples_leaf'   : [1, 2, 3],\n",
        "    # 'regressor__loss'               : [\"squared_error\", \"absolute_error\", \"huber\", \"quantile\"]\n",
        "}\n",
        "\n",
        "gs = GridSearchCV(estimator=pipeline, param_grid=param_grid, cv=5, verbose=1, n_jobs=-1, refit=True, scoring='r2')\n",
        "X_train, X_test, y_train, y_test = train_test_split(X, y, test_size=0.20, random_state=42)\n",
        "gs.fit(X_train, y_train)\n",
        "best_model = gs.best_estimator_\n",
        "\n",
        "print(f'Meilleurs hyperparamètres: {gs.best_params_}')\n",
        "print(f'Moyenne des scores: {gs.best_score_.round(3)}')\n",
        "print('----------------')\n",
        "\n",
        "# model scoring\n",
        "print(f'Score sur le train : {best_model.score(X_train, y_train).round(3)}')\n",
        "print(f'Score sur le test : {best_model.score(X_test, y_test).round(3)}')"
      ]
    },
    {
      "cell_type": "markdown",
      "source": [
        "##**D. Entrainement d'un modèle linéaire: GradientBoostingRegressor**"
      ],
      "metadata": {
        "id": "dMqMqYoQ-t-g"
      }
    },
    {
      "cell_type": "code",
      "source": [
        "from sklearn.svm import SVR"
      ],
      "metadata": {
        "id": "z9lww6-w95nL"
      },
      "execution_count": 164,
      "outputs": []
    },
    {
      "cell_type": "code",
      "source": [
        "# création de la pipeline\n",
        "pipeline = Pipeline([\n",
        "    ('preprocessor', preprocessor),\n",
        "    ('regressor', SVR())\n",
        "  ])"
      ],
      "metadata": {
        "id": "zJ9Rnt1bREIc"
      },
      "execution_count": 165,
      "outputs": []
    },
    {
      "cell_type": "code",
      "source": [
        "# entrainement des modèles selon plusieurs paramètres\n",
        "# séparation du dataset (entrainement et test)\n",
        "\n",
        "param_grid = {\n",
        "    'regressor__kernel'          : ['rbf', 'poly'], #, 'linear', 'poly', 'sigmoid', 'precomputed'], #passer dans les dimensions supérieures\n",
        "    #'regressor__degree'         : [3, 2, 4, 5] #for poly\n",
        "}\n",
        "\n",
        "gs = GridSearchCV(estimator=pipeline, param_grid=param_grid, cv=5, verbose=1, n_jobs=-1, refit=True, scoring='r2')\n",
        "X_train, X_test, y_train, y_test = train_test_split(X, y, test_size=0.20, random_state=42)\n",
        "gs.fit(X_train, y_train)\n",
        "best_model = gs.best_estimator_\n",
        "\n",
        "print(f'Meilleurs hyperparamètres: {gs.best_params_}')\n",
        "print(f'Moyenne des scores: {gs.best_score_.round(3)}')\n",
        "print('----------------')\n",
        "\n",
        "# model scoring\n",
        "print(f'Score sur le train : {best_model.score(X_train, y_train).round(3)}')\n",
        "print(f'Score sur le test : {best_model.score(X_test, y_test).round(3)}')"
      ],
      "metadata": {
        "colab": {
          "base_uri": "https://localhost:8080/"
        },
        "id": "6xL0AiA-RD99",
        "outputId": "08f23681-9771-479a-8395-1d7851c79aba"
      },
      "execution_count": 166,
      "outputs": [
        {
          "output_type": "stream",
          "name": "stdout",
          "text": [
            "Fitting 5 folds for each of 2 candidates, totalling 10 fits\n",
            "Meilleurs hyperparamètres: {'regressor__kernel': 'rbf'}\n",
            "Moyenne des scores: 0.909\n",
            "----------------\n",
            "Score sur le train : 0.962\n",
            "Score sur le test : 0.951\n"
          ]
        }
      ]
    },
    {
      "cell_type": "markdown",
      "source": [
        "##**E. Entrainement d'un modèle linéaire: ElasticNet**"
      ],
      "metadata": {
        "id": "qlo8A36WOc20"
      }
    },
    {
      "cell_type": "code",
      "source": [
        "from sklearn.linear_model import ElasticNet"
      ],
      "metadata": {
        "id": "zUnKUFQjsn1r"
      },
      "execution_count": 167,
      "outputs": []
    },
    {
      "cell_type": "code",
      "source": [
        "# création de la pipeline\n",
        "pipeline = Pipeline([\n",
        "    ('preprocessor', preprocessor),\n",
        "    ('regressor', ElasticNet())\n",
        "  ])"
      ],
      "metadata": {
        "id": "2TsmLU9Qsnty"
      },
      "execution_count": 168,
      "outputs": []
    },
    {
      "cell_type": "code",
      "source": [
        "# entrainement des modèles selon plusieurs paramètres\n",
        "# séparation du dataset (entrainement et test)\n",
        "\n",
        "param_grid = {\n",
        "    'regressor__alpha'          : [1.0, 0.5, 1.5],\n",
        "    'regressor__l1_ratio'       : [0.5, 0.25, 0.75],\n",
        "    #'regressor__max_iter'       : [1000, 500]\n",
        "}\n",
        "\n",
        "gs = GridSearchCV(estimator=pipeline, param_grid=param_grid, cv=5, verbose=1, n_jobs=-1, refit=True, scoring='r2')\n",
        "X_train, X_test, y_train, y_test = train_test_split(X, y, test_size=0.20, random_state=42)\n",
        "gs.fit(X_train, y_train)\n",
        "best_model = gs.best_estimator_\n",
        "\n",
        "print(f'Meilleurs hyperparamètres: {gs.best_params_}')\n",
        "print(f'Moyenne des scores: {gs.best_score_.round(3)}')\n",
        "print('----------------')\n",
        "\n",
        "# model scoring\n",
        "print(f'Score sur le train : {best_model.score(X_train, y_train).round(3)}')\n",
        "print(f'Score sur le test : {best_model.score(X_test, y_test).round(3)}')"
      ],
      "metadata": {
        "colab": {
          "base_uri": "https://localhost:8080/"
        },
        "id": "Ty2FHMtLsnmW",
        "outputId": "f7df0ff8-8c84-4907-8c2c-097367bcbffc"
      },
      "execution_count": 169,
      "outputs": [
        {
          "output_type": "stream",
          "name": "stdout",
          "text": [
            "Fitting 5 folds for each of 9 candidates, totalling 45 fits\n",
            "Meilleurs hyperparamètres: {'regressor__alpha': 0.5, 'regressor__l1_ratio': 0.75}\n",
            "Moyenne des scores: 0.763\n",
            "----------------\n",
            "Score sur le train : 0.764\n",
            "Score sur le test : 0.775\n"
          ]
        }
      ]
    },
    {
      "cell_type": "markdown",
      "source": [
        "## Choix de l'algorithme:"
      ],
      "metadata": {
        "id": "U_pmu5p5x26R"
      }
    },
    {
      "cell_type": "code",
      "source": [
        "best_model_to_keep"
      ],
      "metadata": {
        "colab": {
          "base_uri": "https://localhost:8080/",
          "height": 190
        },
        "id": "BpFRpgzbyDB5",
        "outputId": "61054690-5884-4a4b-83d3-6678a30082ed"
      },
      "execution_count": 170,
      "outputs": [
        {
          "output_type": "execute_result",
          "data": {
            "text/plain": [
              "Pipeline(steps=[('preprocessor',\n",
              "                 ColumnTransformer(transformers=[('encoder_nominal',\n",
              "                                                  OneHotEncoder(handle_unknown='ignore',\n",
              "                                                                sparse_output=False),\n",
              "                                                  ['BuildingType',\n",
              "                                                   'PrimaryPropertyType',\n",
              "                                                   'Neighborhood',\n",
              "                                                   'LargestPropertyUseType',\n",
              "                                                   'SecondLargestPropertyUseType',\n",
              "                                                   'ThirdLargestPropertyUseType']),\n",
              "                                                 ('norma', PowerTransformer(),\n",
              "                                                  ['OSEBuildingID',\n",
              "                                                   'NumberofBuildings',\n",
              "                                                   'N...\n",
              "                                                   'PropertyGFAParking',\n",
              "                                                   'PropertyGFABuilding(s)',\n",
              "                                                   'LargestPropertyUseTypeGFA',\n",
              "                                                   'SecondLargestPropertyUseTypeGFA',\n",
              "                                                   'ThirdLargestPropertyUseTypeGFA',\n",
              "                                                   'ENERGYSTARScore',\n",
              "                                                   'SiteEnergyUse(kBtu)',\n",
              "                                                   'SteamUse(kBtu)',\n",
              "                                                   'Electricity(kBtu)',\n",
              "                                                   'NaturalGas(kBtu)',\n",
              "                                                   'BuildingAge',\n",
              "                                                   'LastYearENERGYSTARCertified',\n",
              "                                                   'NbYearENERGYSTARCertified'])])),\n",
              "                ('regressor', RandomForestRegressor())])"
            ],
            "text/html": [
              "<style>#sk-container-id-5 {color: black;background-color: white;}#sk-container-id-5 pre{padding: 0;}#sk-container-id-5 div.sk-toggleable {background-color: white;}#sk-container-id-5 label.sk-toggleable__label {cursor: pointer;display: block;width: 100%;margin-bottom: 0;padding: 0.3em;box-sizing: border-box;text-align: center;}#sk-container-id-5 label.sk-toggleable__label-arrow:before {content: \"▸\";float: left;margin-right: 0.25em;color: #696969;}#sk-container-id-5 label.sk-toggleable__label-arrow:hover:before {color: black;}#sk-container-id-5 div.sk-estimator:hover label.sk-toggleable__label-arrow:before {color: black;}#sk-container-id-5 div.sk-toggleable__content {max-height: 0;max-width: 0;overflow: hidden;text-align: left;background-color: #f0f8ff;}#sk-container-id-5 div.sk-toggleable__content pre {margin: 0.2em;color: black;border-radius: 0.25em;background-color: #f0f8ff;}#sk-container-id-5 input.sk-toggleable__control:checked~div.sk-toggleable__content {max-height: 200px;max-width: 100%;overflow: auto;}#sk-container-id-5 input.sk-toggleable__control:checked~label.sk-toggleable__label-arrow:before {content: \"▾\";}#sk-container-id-5 div.sk-estimator input.sk-toggleable__control:checked~label.sk-toggleable__label {background-color: #d4ebff;}#sk-container-id-5 div.sk-label input.sk-toggleable__control:checked~label.sk-toggleable__label {background-color: #d4ebff;}#sk-container-id-5 input.sk-hidden--visually {border: 0;clip: rect(1px 1px 1px 1px);clip: rect(1px, 1px, 1px, 1px);height: 1px;margin: -1px;overflow: hidden;padding: 0;position: absolute;width: 1px;}#sk-container-id-5 div.sk-estimator {font-family: monospace;background-color: #f0f8ff;border: 1px dotted black;border-radius: 0.25em;box-sizing: border-box;margin-bottom: 0.5em;}#sk-container-id-5 div.sk-estimator:hover {background-color: #d4ebff;}#sk-container-id-5 div.sk-parallel-item::after {content: \"\";width: 100%;border-bottom: 1px solid gray;flex-grow: 1;}#sk-container-id-5 div.sk-label:hover label.sk-toggleable__label {background-color: #d4ebff;}#sk-container-id-5 div.sk-serial::before {content: \"\";position: absolute;border-left: 1px solid gray;box-sizing: border-box;top: 0;bottom: 0;left: 50%;z-index: 0;}#sk-container-id-5 div.sk-serial {display: flex;flex-direction: column;align-items: center;background-color: white;padding-right: 0.2em;padding-left: 0.2em;position: relative;}#sk-container-id-5 div.sk-item {position: relative;z-index: 1;}#sk-container-id-5 div.sk-parallel {display: flex;align-items: stretch;justify-content: center;background-color: white;position: relative;}#sk-container-id-5 div.sk-item::before, #sk-container-id-5 div.sk-parallel-item::before {content: \"\";position: absolute;border-left: 1px solid gray;box-sizing: border-box;top: 0;bottom: 0;left: 50%;z-index: -1;}#sk-container-id-5 div.sk-parallel-item {display: flex;flex-direction: column;z-index: 1;position: relative;background-color: white;}#sk-container-id-5 div.sk-parallel-item:first-child::after {align-self: flex-end;width: 50%;}#sk-container-id-5 div.sk-parallel-item:last-child::after {align-self: flex-start;width: 50%;}#sk-container-id-5 div.sk-parallel-item:only-child::after {width: 0;}#sk-container-id-5 div.sk-dashed-wrapped {border: 1px dashed gray;margin: 0 0.4em 0.5em 0.4em;box-sizing: border-box;padding-bottom: 0.4em;background-color: white;}#sk-container-id-5 div.sk-label label {font-family: monospace;font-weight: bold;display: inline-block;line-height: 1.2em;}#sk-container-id-5 div.sk-label-container {text-align: center;}#sk-container-id-5 div.sk-container {/* jupyter's `normalize.less` sets `[hidden] { display: none; }` but bootstrap.min.css set `[hidden] { display: none !important; }` so we also need the `!important` here to be able to override the default hidden behavior on the sphinx rendered scikit-learn.org. See: https://github.com/scikit-learn/scikit-learn/issues/21755 */display: inline-block !important;position: relative;}#sk-container-id-5 div.sk-text-repr-fallback {display: none;}</style><div id=\"sk-container-id-5\" class=\"sk-top-container\"><div class=\"sk-text-repr-fallback\"><pre>Pipeline(steps=[(&#x27;preprocessor&#x27;,\n",
              "                 ColumnTransformer(transformers=[(&#x27;encoder_nominal&#x27;,\n",
              "                                                  OneHotEncoder(handle_unknown=&#x27;ignore&#x27;,\n",
              "                                                                sparse_output=False),\n",
              "                                                  [&#x27;BuildingType&#x27;,\n",
              "                                                   &#x27;PrimaryPropertyType&#x27;,\n",
              "                                                   &#x27;Neighborhood&#x27;,\n",
              "                                                   &#x27;LargestPropertyUseType&#x27;,\n",
              "                                                   &#x27;SecondLargestPropertyUseType&#x27;,\n",
              "                                                   &#x27;ThirdLargestPropertyUseType&#x27;]),\n",
              "                                                 (&#x27;norma&#x27;, PowerTransformer(),\n",
              "                                                  [&#x27;OSEBuildingID&#x27;,\n",
              "                                                   &#x27;NumberofBuildings&#x27;,\n",
              "                                                   &#x27;N...\n",
              "                                                   &#x27;PropertyGFAParking&#x27;,\n",
              "                                                   &#x27;PropertyGFABuilding(s)&#x27;,\n",
              "                                                   &#x27;LargestPropertyUseTypeGFA&#x27;,\n",
              "                                                   &#x27;SecondLargestPropertyUseTypeGFA&#x27;,\n",
              "                                                   &#x27;ThirdLargestPropertyUseTypeGFA&#x27;,\n",
              "                                                   &#x27;ENERGYSTARScore&#x27;,\n",
              "                                                   &#x27;SiteEnergyUse(kBtu)&#x27;,\n",
              "                                                   &#x27;SteamUse(kBtu)&#x27;,\n",
              "                                                   &#x27;Electricity(kBtu)&#x27;,\n",
              "                                                   &#x27;NaturalGas(kBtu)&#x27;,\n",
              "                                                   &#x27;BuildingAge&#x27;,\n",
              "                                                   &#x27;LastYearENERGYSTARCertified&#x27;,\n",
              "                                                   &#x27;NbYearENERGYSTARCertified&#x27;])])),\n",
              "                (&#x27;regressor&#x27;, RandomForestRegressor())])</pre><b>In a Jupyter environment, please rerun this cell to show the HTML representation or trust the notebook. <br />On GitHub, the HTML representation is unable to render, please try loading this page with nbviewer.org.</b></div><div class=\"sk-container\" hidden><div class=\"sk-item sk-dashed-wrapped\"><div class=\"sk-label-container\"><div class=\"sk-label sk-toggleable\"><input class=\"sk-toggleable__control sk-hidden--visually\" id=\"sk-estimator-id-29\" type=\"checkbox\" ><label for=\"sk-estimator-id-29\" class=\"sk-toggleable__label sk-toggleable__label-arrow\">Pipeline</label><div class=\"sk-toggleable__content\"><pre>Pipeline(steps=[(&#x27;preprocessor&#x27;,\n",
              "                 ColumnTransformer(transformers=[(&#x27;encoder_nominal&#x27;,\n",
              "                                                  OneHotEncoder(handle_unknown=&#x27;ignore&#x27;,\n",
              "                                                                sparse_output=False),\n",
              "                                                  [&#x27;BuildingType&#x27;,\n",
              "                                                   &#x27;PrimaryPropertyType&#x27;,\n",
              "                                                   &#x27;Neighborhood&#x27;,\n",
              "                                                   &#x27;LargestPropertyUseType&#x27;,\n",
              "                                                   &#x27;SecondLargestPropertyUseType&#x27;,\n",
              "                                                   &#x27;ThirdLargestPropertyUseType&#x27;]),\n",
              "                                                 (&#x27;norma&#x27;, PowerTransformer(),\n",
              "                                                  [&#x27;OSEBuildingID&#x27;,\n",
              "                                                   &#x27;NumberofBuildings&#x27;,\n",
              "                                                   &#x27;N...\n",
              "                                                   &#x27;PropertyGFAParking&#x27;,\n",
              "                                                   &#x27;PropertyGFABuilding(s)&#x27;,\n",
              "                                                   &#x27;LargestPropertyUseTypeGFA&#x27;,\n",
              "                                                   &#x27;SecondLargestPropertyUseTypeGFA&#x27;,\n",
              "                                                   &#x27;ThirdLargestPropertyUseTypeGFA&#x27;,\n",
              "                                                   &#x27;ENERGYSTARScore&#x27;,\n",
              "                                                   &#x27;SiteEnergyUse(kBtu)&#x27;,\n",
              "                                                   &#x27;SteamUse(kBtu)&#x27;,\n",
              "                                                   &#x27;Electricity(kBtu)&#x27;,\n",
              "                                                   &#x27;NaturalGas(kBtu)&#x27;,\n",
              "                                                   &#x27;BuildingAge&#x27;,\n",
              "                                                   &#x27;LastYearENERGYSTARCertified&#x27;,\n",
              "                                                   &#x27;NbYearENERGYSTARCertified&#x27;])])),\n",
              "                (&#x27;regressor&#x27;, RandomForestRegressor())])</pre></div></div></div><div class=\"sk-serial\"><div class=\"sk-item sk-dashed-wrapped\"><div class=\"sk-label-container\"><div class=\"sk-label sk-toggleable\"><input class=\"sk-toggleable__control sk-hidden--visually\" id=\"sk-estimator-id-30\" type=\"checkbox\" ><label for=\"sk-estimator-id-30\" class=\"sk-toggleable__label sk-toggleable__label-arrow\">preprocessor: ColumnTransformer</label><div class=\"sk-toggleable__content\"><pre>ColumnTransformer(transformers=[(&#x27;encoder_nominal&#x27;,\n",
              "                                 OneHotEncoder(handle_unknown=&#x27;ignore&#x27;,\n",
              "                                               sparse_output=False),\n",
              "                                 [&#x27;BuildingType&#x27;, &#x27;PrimaryPropertyType&#x27;,\n",
              "                                  &#x27;Neighborhood&#x27;, &#x27;LargestPropertyUseType&#x27;,\n",
              "                                  &#x27;SecondLargestPropertyUseType&#x27;,\n",
              "                                  &#x27;ThirdLargestPropertyUseType&#x27;]),\n",
              "                                (&#x27;norma&#x27;, PowerTransformer(),\n",
              "                                 [&#x27;OSEBuildingID&#x27;, &#x27;NumberofBuildings&#x27;,\n",
              "                                  &#x27;NumberofFloors&#x27;, &#x27;PropertyGFATotal&#x27;,\n",
              "                                  &#x27;PropertyGFAParking&#x27;,\n",
              "                                  &#x27;PropertyGFABuilding(s)&#x27;,\n",
              "                                  &#x27;LargestPropertyUseTypeGFA&#x27;,\n",
              "                                  &#x27;SecondLargestPropertyUseTypeGFA&#x27;,\n",
              "                                  &#x27;ThirdLargestPropertyUseTypeGFA&#x27;,\n",
              "                                  &#x27;ENERGYSTARScore&#x27;, &#x27;SiteEnergyUse(kBtu)&#x27;,\n",
              "                                  &#x27;SteamUse(kBtu)&#x27;, &#x27;Electricity(kBtu)&#x27;,\n",
              "                                  &#x27;NaturalGas(kBtu)&#x27;, &#x27;BuildingAge&#x27;,\n",
              "                                  &#x27;LastYearENERGYSTARCertified&#x27;,\n",
              "                                  &#x27;NbYearENERGYSTARCertified&#x27;])])</pre></div></div></div><div class=\"sk-parallel\"><div class=\"sk-parallel-item\"><div class=\"sk-item\"><div class=\"sk-label-container\"><div class=\"sk-label sk-toggleable\"><input class=\"sk-toggleable__control sk-hidden--visually\" id=\"sk-estimator-id-31\" type=\"checkbox\" ><label for=\"sk-estimator-id-31\" class=\"sk-toggleable__label sk-toggleable__label-arrow\">encoder_nominal</label><div class=\"sk-toggleable__content\"><pre>[&#x27;BuildingType&#x27;, &#x27;PrimaryPropertyType&#x27;, &#x27;Neighborhood&#x27;, &#x27;LargestPropertyUseType&#x27;, &#x27;SecondLargestPropertyUseType&#x27;, &#x27;ThirdLargestPropertyUseType&#x27;]</pre></div></div></div><div class=\"sk-serial\"><div class=\"sk-item\"><div class=\"sk-estimator sk-toggleable\"><input class=\"sk-toggleable__control sk-hidden--visually\" id=\"sk-estimator-id-32\" type=\"checkbox\" ><label for=\"sk-estimator-id-32\" class=\"sk-toggleable__label sk-toggleable__label-arrow\">OneHotEncoder</label><div class=\"sk-toggleable__content\"><pre>OneHotEncoder(handle_unknown=&#x27;ignore&#x27;, sparse_output=False)</pre></div></div></div></div></div></div><div class=\"sk-parallel-item\"><div class=\"sk-item\"><div class=\"sk-label-container\"><div class=\"sk-label sk-toggleable\"><input class=\"sk-toggleable__control sk-hidden--visually\" id=\"sk-estimator-id-33\" type=\"checkbox\" ><label for=\"sk-estimator-id-33\" class=\"sk-toggleable__label sk-toggleable__label-arrow\">norma</label><div class=\"sk-toggleable__content\"><pre>[&#x27;OSEBuildingID&#x27;, &#x27;NumberofBuildings&#x27;, &#x27;NumberofFloors&#x27;, &#x27;PropertyGFATotal&#x27;, &#x27;PropertyGFAParking&#x27;, &#x27;PropertyGFABuilding(s)&#x27;, &#x27;LargestPropertyUseTypeGFA&#x27;, &#x27;SecondLargestPropertyUseTypeGFA&#x27;, &#x27;ThirdLargestPropertyUseTypeGFA&#x27;, &#x27;ENERGYSTARScore&#x27;, &#x27;SiteEnergyUse(kBtu)&#x27;, &#x27;SteamUse(kBtu)&#x27;, &#x27;Electricity(kBtu)&#x27;, &#x27;NaturalGas(kBtu)&#x27;, &#x27;BuildingAge&#x27;, &#x27;LastYearENERGYSTARCertified&#x27;, &#x27;NbYearENERGYSTARCertified&#x27;]</pre></div></div></div><div class=\"sk-serial\"><div class=\"sk-item\"><div class=\"sk-estimator sk-toggleable\"><input class=\"sk-toggleable__control sk-hidden--visually\" id=\"sk-estimator-id-34\" type=\"checkbox\" ><label for=\"sk-estimator-id-34\" class=\"sk-toggleable__label sk-toggleable__label-arrow\">PowerTransformer</label><div class=\"sk-toggleable__content\"><pre>PowerTransformer()</pre></div></div></div></div></div></div></div></div><div class=\"sk-item\"><div class=\"sk-estimator sk-toggleable\"><input class=\"sk-toggleable__control sk-hidden--visually\" id=\"sk-estimator-id-35\" type=\"checkbox\" ><label for=\"sk-estimator-id-35\" class=\"sk-toggleable__label sk-toggleable__label-arrow\">RandomForestRegressor</label><div class=\"sk-toggleable__content\"><pre>RandomForestRegressor()</pre></div></div></div></div></div></div></div>"
            ]
          },
          "metadata": {},
          "execution_count": 170
        }
      ]
    },
    {
      "cell_type": "code",
      "source": [],
      "metadata": {
        "id": "lKHcdnKNyC-i"
      },
      "execution_count": 170,
      "outputs": []
    },
    {
      "cell_type": "code",
      "source": [],
      "metadata": {
        "id": "Qin6Zj-0yC8w"
      },
      "execution_count": 170,
      "outputs": []
    },
    {
      "cell_type": "markdown",
      "source": [
        "## Vérifier l'effet de la variable STAR"
      ],
      "metadata": {
        "id": "KNUvFp1Cx8JP"
      }
    },
    {
      "cell_type": "markdown",
      "source": [
        "Préparation des données"
      ],
      "metadata": {
        "id": "V5gSxbJkzfJy"
      }
    },
    {
      "cell_type": "code",
      "source": [
        "NUM_FEATURES = ['OSEBuildingID', 'NumberofBuildings', 'NumberofFloors',\n",
        "       'PropertyGFATotal', 'PropertyGFAParking', 'PropertyGFABuilding(s)',\n",
        "       'LargestPropertyUseTypeGFA', 'SecondLargestPropertyUseTypeGFA',\n",
        "       'ThirdLargestPropertyUseTypeGFA', 'SiteEnergyUse(kBtu)',\n",
        "       'SteamUse(kBtu)', 'Electricity(kBtu)', 'NaturalGas(kBtu)',\n",
        "       'BuildingAge', 'LastYearENERGYSTARCertified',\n",
        "       'NbYearENERGYSTARCertified']\n",
        "CAT_FEATURES = [f for f in df.columns if f not in NUM_FEATURES and f != TARGET and f != 'ENERGYSTARScore']"
      ],
      "metadata": {
        "id": "OYxEOsrIz7XN"
      },
      "execution_count": 171,
      "outputs": []
    },
    {
      "cell_type": "code",
      "source": [
        "df2 = df.copy()\n",
        "df2.drop(columns=['ENERGYSTARScore'], inplace=True)"
      ],
      "metadata": {
        "id": "MersbMk8yCcL"
      },
      "execution_count": 172,
      "outputs": []
    },
    {
      "cell_type": "code",
      "source": [
        "# features engineering\n",
        "y = df2.pop(TARGET)\n",
        "X = df2\n",
        "\n",
        "y = np.log(y + 1)\n",
        "\n",
        "preprocessor = ColumnTransformer(\n",
        "    transformers=[\n",
        "        ('encoder_nominal', OneHotEncoder(handle_unknown='ignore',sparse_output=False), CAT_FEATURES),\n",
        "         ('norma', PowerTransformer(), NUM_FEATURES)\n",
        "    ],\n",
        "    remainder='drop'\n",
        "  )"
      ],
      "metadata": {
        "id": "DIoMjHXvzZp-"
      },
      "execution_count": 173,
      "outputs": []
    },
    {
      "cell_type": "code",
      "source": [
        "# création de la pipeline\n",
        "pipeline = Pipeline([\n",
        "    ('preprocessor', preprocessor),\n",
        "    ('regressor', RandomForestRegressor())\n",
        "  ])"
      ],
      "metadata": {
        "id": "vM9ZD-cmyCaC"
      },
      "execution_count": 174,
      "outputs": []
    },
    {
      "cell_type": "code",
      "source": [
        "# entrainement des modèles selon plusieurs paramètres\n",
        "# séparation du dataset (entrainement et test)\n",
        "\n",
        "param_grid = {\n",
        "    'regressor__n_estimators'  : [100, 500]#,\n",
        "    # 'regressor__max_depth'     : [2, 3, 4, 5],\n",
        "    # 'regressor__criterion'     : ['squared_error', 'absolute_error', 'friedman_mse', 'poisson'],\n",
        "    # 'regressor__min_samples_split' : [2, 10, 100]\n",
        "}\n",
        "\n",
        "gs = GridSearchCV(estimator=pipeline, param_grid=param_grid, cv=5, verbose=1, n_jobs=-1, refit=True, scoring='r2')\n",
        "X_train, X_test, y_train, y_test = train_test_split(X, y, test_size=0.20, random_state=42)\n",
        "gs.fit(X_train, y_train)\n",
        "best_model = gs.best_estimator_\n",
        "\n",
        "print(f'Meilleurs hyperparamètres: {gs.best_params_}')\n",
        "print(f'Moyenne des scores: {gs.best_score_.round(3)}')\n",
        "print('----------------')\n",
        "\n",
        "# model scoring\n",
        "print(f'Score sur le train : {best_model.score(X_train, y_train).round(3)}')\n",
        "print(f'Score sur le test : {best_model.score(X_test, y_test).round(3)}')"
      ],
      "metadata": {
        "colab": {
          "base_uri": "https://localhost:8080/"
        },
        "id": "YZGA4MU2yCPQ",
        "outputId": "8c97b78f-ea6e-4c5e-88fe-3bcad7c4cf28"
      },
      "execution_count": 175,
      "outputs": [
        {
          "output_type": "stream",
          "name": "stdout",
          "text": [
            "Fitting 5 folds for each of 2 candidates, totalling 10 fits\n",
            "Meilleurs hyperparamètres: {'regressor__n_estimators': 500}\n",
            "Moyenne des scores: 0.979\n",
            "----------------\n",
            "Score sur le train : 0.998\n",
            "Score sur le test : 0.997\n"
          ]
        }
      ]
    },
    {
      "cell_type": "markdown",
      "metadata": {
        "id": "UJoM5lQlCz7e"
      },
      "source": [
        "##**Entrainement du modèle LASSO**\n"
      ]
    },
    {
      "cell_type": "code",
      "execution_count": 176,
      "metadata": {
        "colab": {
          "base_uri": "https://localhost:8080/"
        },
        "id": "tA8TJ5YPkak6",
        "outputId": "e95c8229-c67b-4ce3-d0f9-b2848c4c4163"
      },
      "outputs": [
        {
          "output_type": "stream",
          "name": "stdout",
          "text": [
            "['TotalGHGEmissions', 'Electricity(kBtu)', 'SiteEnergyUse(kBtu)', 'NaturalGas(kBtu)', 'NumberofBuildings', 'PrimaryPropertyType', 'Neighborhood']\n"
          ]
        }
      ],
      "source": [
        "# On choisie toutes les variables numériques et 3 variables catégorielles\n",
        "nb_null_value = df.isna().sum(axis=0)\n",
        "col_to_keep = nb_null_value[nb_null_value < 100].index.to_list()\n",
        "num_column = df.dtypes[(df.dtypes == 'float64') | (df.dtypes == 'int64')].index.to_list()\n",
        "cat_to_keep = ['PrimaryPropertyType', 'Neighborhood']\n",
        "num_to_keep = list(set(col_to_keep).intersection(num_column))\n",
        "FINAL_COL =  num_to_keep + cat_to_keep #set pour le non itérable, #list pour concat ensuite\n",
        "FINAL_COL = ['TotalGHGEmissions', 'Electricity(kBtu)', 'SiteEnergyUse(kBtu)', 'NaturalGas(kBtu)'\n",
        "             , 'NumberofBuildings', 'PrimaryPropertyType', 'Neighborhood']\n",
        "print((FINAL_COL))"
      ]
    },
    {
      "cell_type": "code",
      "execution_count": 177,
      "metadata": {
        "colab": {
          "base_uri": "https://localhost:8080/"
        },
        "id": "n0JVkpSprNKS",
        "outputId": "0ca8c9c4-2d4f-49b3-b09c-67556e956429"
      },
      "outputs": [
        {
          "output_type": "stream",
          "name": "stdout",
          "text": [
            "['Electricity(kBtu)', 'SiteEnergyUse(kBtu)', 'NaturalGas(kBtu)', 'NumberofBuildings', 'PrimaryPropertyType', 'Neighborhood']\n"
          ]
        }
      ],
      "source": [
        "TARGET = 'TotalGHGEmissions'\n",
        "FEATURE = [col for col in FINAL_COL if col != TARGET]\n",
        "df_train = df[FINAL_COL].dropna()\n",
        "print(FEATURE)"
      ]
    },
    {
      "cell_type": "code",
      "execution_count": 178,
      "metadata": {
        "id": "DfjYfMamyOhM"
      },
      "outputs": [],
      "source": [
        "from sklearn.model_selection import train_test_split, GridSearchCV\n",
        "\n",
        "from sklearn.preprocessing import OneHotEncoder, PowerTransformer, StandardScaler\n",
        "from sklearn.compose import ColumnTransformer\n",
        "from sklearn.linear_model import Lasso\n",
        "from sklearn.pipeline import Pipeline"
      ]
    },
    {
      "cell_type": "code",
      "execution_count": 179,
      "metadata": {
        "id": "PiXFuyzVrNCA"
      },
      "outputs": [],
      "source": [
        "# Features engineering\n",
        "preprocessor = ColumnTransformer(\n",
        "    transformers=[\n",
        "        ('encoder_nominal', OneHotEncoder(handle_unknown='ignore',sparse_output=False), cat_to_keep),\n",
        "         ('norma', PowerTransformer(), ['Electricity(kBtu)', 'SiteEnergyUse(kBtu)', 'NaturalGas(kBtu)', 'NumberofBuildings'])\n",
        "    ],\n",
        "    remainder='drop'\n",
        "  )"
      ]
    },
    {
      "cell_type": "code",
      "execution_count": 180,
      "metadata": {
        "id": "4Ji_lzGyrM82"
      },
      "outputs": [],
      "source": [
        "pp = Pipeline([\n",
        "    ('preprocessor', preprocessor),\n",
        "    ('regressor', Lasso()),\n",
        "])"
      ]
    },
    {
      "cell_type": "code",
      "execution_count": 181,
      "metadata": {
        "colab": {
          "base_uri": "https://localhost:8080/",
          "height": 0
        },
        "id": "-iQpLsKVwel-",
        "outputId": "93d131ed-5949-4d11-9147-8bbe829824b1"
      },
      "outputs": [
        {
          "output_type": "stream",
          "name": "stdout",
          "text": [
            "(1476,) (1476, 6)\n"
          ]
        },
        {
          "output_type": "execute_result",
          "data": {
            "text/plain": [
              "Pipeline(steps=[('preprocessor',\n",
              "                 ColumnTransformer(transformers=[('encoder_nominal',\n",
              "                                                  OneHotEncoder(handle_unknown='ignore',\n",
              "                                                                sparse_output=False),\n",
              "                                                  ['PrimaryPropertyType',\n",
              "                                                   'Neighborhood']),\n",
              "                                                 ('norma', PowerTransformer(),\n",
              "                                                  ['Electricity(kBtu)',\n",
              "                                                   'SiteEnergyUse(kBtu)',\n",
              "                                                   'NaturalGas(kBtu)',\n",
              "                                                   'NumberofBuildings'])])),\n",
              "                ('regressor', Lasso())])"
            ],
            "text/html": [
              "<style>#sk-container-id-6 {color: black;background-color: white;}#sk-container-id-6 pre{padding: 0;}#sk-container-id-6 div.sk-toggleable {background-color: white;}#sk-container-id-6 label.sk-toggleable__label {cursor: pointer;display: block;width: 100%;margin-bottom: 0;padding: 0.3em;box-sizing: border-box;text-align: center;}#sk-container-id-6 label.sk-toggleable__label-arrow:before {content: \"▸\";float: left;margin-right: 0.25em;color: #696969;}#sk-container-id-6 label.sk-toggleable__label-arrow:hover:before {color: black;}#sk-container-id-6 div.sk-estimator:hover label.sk-toggleable__label-arrow:before {color: black;}#sk-container-id-6 div.sk-toggleable__content {max-height: 0;max-width: 0;overflow: hidden;text-align: left;background-color: #f0f8ff;}#sk-container-id-6 div.sk-toggleable__content pre {margin: 0.2em;color: black;border-radius: 0.25em;background-color: #f0f8ff;}#sk-container-id-6 input.sk-toggleable__control:checked~div.sk-toggleable__content {max-height: 200px;max-width: 100%;overflow: auto;}#sk-container-id-6 input.sk-toggleable__control:checked~label.sk-toggleable__label-arrow:before {content: \"▾\";}#sk-container-id-6 div.sk-estimator input.sk-toggleable__control:checked~label.sk-toggleable__label {background-color: #d4ebff;}#sk-container-id-6 div.sk-label input.sk-toggleable__control:checked~label.sk-toggleable__label {background-color: #d4ebff;}#sk-container-id-6 input.sk-hidden--visually {border: 0;clip: rect(1px 1px 1px 1px);clip: rect(1px, 1px, 1px, 1px);height: 1px;margin: -1px;overflow: hidden;padding: 0;position: absolute;width: 1px;}#sk-container-id-6 div.sk-estimator {font-family: monospace;background-color: #f0f8ff;border: 1px dotted black;border-radius: 0.25em;box-sizing: border-box;margin-bottom: 0.5em;}#sk-container-id-6 div.sk-estimator:hover {background-color: #d4ebff;}#sk-container-id-6 div.sk-parallel-item::after {content: \"\";width: 100%;border-bottom: 1px solid gray;flex-grow: 1;}#sk-container-id-6 div.sk-label:hover label.sk-toggleable__label {background-color: #d4ebff;}#sk-container-id-6 div.sk-serial::before {content: \"\";position: absolute;border-left: 1px solid gray;box-sizing: border-box;top: 0;bottom: 0;left: 50%;z-index: 0;}#sk-container-id-6 div.sk-serial {display: flex;flex-direction: column;align-items: center;background-color: white;padding-right: 0.2em;padding-left: 0.2em;position: relative;}#sk-container-id-6 div.sk-item {position: relative;z-index: 1;}#sk-container-id-6 div.sk-parallel {display: flex;align-items: stretch;justify-content: center;background-color: white;position: relative;}#sk-container-id-6 div.sk-item::before, #sk-container-id-6 div.sk-parallel-item::before {content: \"\";position: absolute;border-left: 1px solid gray;box-sizing: border-box;top: 0;bottom: 0;left: 50%;z-index: -1;}#sk-container-id-6 div.sk-parallel-item {display: flex;flex-direction: column;z-index: 1;position: relative;background-color: white;}#sk-container-id-6 div.sk-parallel-item:first-child::after {align-self: flex-end;width: 50%;}#sk-container-id-6 div.sk-parallel-item:last-child::after {align-self: flex-start;width: 50%;}#sk-container-id-6 div.sk-parallel-item:only-child::after {width: 0;}#sk-container-id-6 div.sk-dashed-wrapped {border: 1px dashed gray;margin: 0 0.4em 0.5em 0.4em;box-sizing: border-box;padding-bottom: 0.4em;background-color: white;}#sk-container-id-6 div.sk-label label {font-family: monospace;font-weight: bold;display: inline-block;line-height: 1.2em;}#sk-container-id-6 div.sk-label-container {text-align: center;}#sk-container-id-6 div.sk-container {/* jupyter's `normalize.less` sets `[hidden] { display: none; }` but bootstrap.min.css set `[hidden] { display: none !important; }` so we also need the `!important` here to be able to override the default hidden behavior on the sphinx rendered scikit-learn.org. See: https://github.com/scikit-learn/scikit-learn/issues/21755 */display: inline-block !important;position: relative;}#sk-container-id-6 div.sk-text-repr-fallback {display: none;}</style><div id=\"sk-container-id-6\" class=\"sk-top-container\"><div class=\"sk-text-repr-fallback\"><pre>Pipeline(steps=[(&#x27;preprocessor&#x27;,\n",
              "                 ColumnTransformer(transformers=[(&#x27;encoder_nominal&#x27;,\n",
              "                                                  OneHotEncoder(handle_unknown=&#x27;ignore&#x27;,\n",
              "                                                                sparse_output=False),\n",
              "                                                  [&#x27;PrimaryPropertyType&#x27;,\n",
              "                                                   &#x27;Neighborhood&#x27;]),\n",
              "                                                 (&#x27;norma&#x27;, PowerTransformer(),\n",
              "                                                  [&#x27;Electricity(kBtu)&#x27;,\n",
              "                                                   &#x27;SiteEnergyUse(kBtu)&#x27;,\n",
              "                                                   &#x27;NaturalGas(kBtu)&#x27;,\n",
              "                                                   &#x27;NumberofBuildings&#x27;])])),\n",
              "                (&#x27;regressor&#x27;, Lasso())])</pre><b>In a Jupyter environment, please rerun this cell to show the HTML representation or trust the notebook. <br />On GitHub, the HTML representation is unable to render, please try loading this page with nbviewer.org.</b></div><div class=\"sk-container\" hidden><div class=\"sk-item sk-dashed-wrapped\"><div class=\"sk-label-container\"><div class=\"sk-label sk-toggleable\"><input class=\"sk-toggleable__control sk-hidden--visually\" id=\"sk-estimator-id-36\" type=\"checkbox\" ><label for=\"sk-estimator-id-36\" class=\"sk-toggleable__label sk-toggleable__label-arrow\">Pipeline</label><div class=\"sk-toggleable__content\"><pre>Pipeline(steps=[(&#x27;preprocessor&#x27;,\n",
              "                 ColumnTransformer(transformers=[(&#x27;encoder_nominal&#x27;,\n",
              "                                                  OneHotEncoder(handle_unknown=&#x27;ignore&#x27;,\n",
              "                                                                sparse_output=False),\n",
              "                                                  [&#x27;PrimaryPropertyType&#x27;,\n",
              "                                                   &#x27;Neighborhood&#x27;]),\n",
              "                                                 (&#x27;norma&#x27;, PowerTransformer(),\n",
              "                                                  [&#x27;Electricity(kBtu)&#x27;,\n",
              "                                                   &#x27;SiteEnergyUse(kBtu)&#x27;,\n",
              "                                                   &#x27;NaturalGas(kBtu)&#x27;,\n",
              "                                                   &#x27;NumberofBuildings&#x27;])])),\n",
              "                (&#x27;regressor&#x27;, Lasso())])</pre></div></div></div><div class=\"sk-serial\"><div class=\"sk-item sk-dashed-wrapped\"><div class=\"sk-label-container\"><div class=\"sk-label sk-toggleable\"><input class=\"sk-toggleable__control sk-hidden--visually\" id=\"sk-estimator-id-37\" type=\"checkbox\" ><label for=\"sk-estimator-id-37\" class=\"sk-toggleable__label sk-toggleable__label-arrow\">preprocessor: ColumnTransformer</label><div class=\"sk-toggleable__content\"><pre>ColumnTransformer(transformers=[(&#x27;encoder_nominal&#x27;,\n",
              "                                 OneHotEncoder(handle_unknown=&#x27;ignore&#x27;,\n",
              "                                               sparse_output=False),\n",
              "                                 [&#x27;PrimaryPropertyType&#x27;, &#x27;Neighborhood&#x27;]),\n",
              "                                (&#x27;norma&#x27;, PowerTransformer(),\n",
              "                                 [&#x27;Electricity(kBtu)&#x27;, &#x27;SiteEnergyUse(kBtu)&#x27;,\n",
              "                                  &#x27;NaturalGas(kBtu)&#x27;, &#x27;NumberofBuildings&#x27;])])</pre></div></div></div><div class=\"sk-parallel\"><div class=\"sk-parallel-item\"><div class=\"sk-item\"><div class=\"sk-label-container\"><div class=\"sk-label sk-toggleable\"><input class=\"sk-toggleable__control sk-hidden--visually\" id=\"sk-estimator-id-38\" type=\"checkbox\" ><label for=\"sk-estimator-id-38\" class=\"sk-toggleable__label sk-toggleable__label-arrow\">encoder_nominal</label><div class=\"sk-toggleable__content\"><pre>[&#x27;PrimaryPropertyType&#x27;, &#x27;Neighborhood&#x27;]</pre></div></div></div><div class=\"sk-serial\"><div class=\"sk-item\"><div class=\"sk-estimator sk-toggleable\"><input class=\"sk-toggleable__control sk-hidden--visually\" id=\"sk-estimator-id-39\" type=\"checkbox\" ><label for=\"sk-estimator-id-39\" class=\"sk-toggleable__label sk-toggleable__label-arrow\">OneHotEncoder</label><div class=\"sk-toggleable__content\"><pre>OneHotEncoder(handle_unknown=&#x27;ignore&#x27;, sparse_output=False)</pre></div></div></div></div></div></div><div class=\"sk-parallel-item\"><div class=\"sk-item\"><div class=\"sk-label-container\"><div class=\"sk-label sk-toggleable\"><input class=\"sk-toggleable__control sk-hidden--visually\" id=\"sk-estimator-id-40\" type=\"checkbox\" ><label for=\"sk-estimator-id-40\" class=\"sk-toggleable__label sk-toggleable__label-arrow\">norma</label><div class=\"sk-toggleable__content\"><pre>[&#x27;Electricity(kBtu)&#x27;, &#x27;SiteEnergyUse(kBtu)&#x27;, &#x27;NaturalGas(kBtu)&#x27;, &#x27;NumberofBuildings&#x27;]</pre></div></div></div><div class=\"sk-serial\"><div class=\"sk-item\"><div class=\"sk-estimator sk-toggleable\"><input class=\"sk-toggleable__control sk-hidden--visually\" id=\"sk-estimator-id-41\" type=\"checkbox\" ><label for=\"sk-estimator-id-41\" class=\"sk-toggleable__label sk-toggleable__label-arrow\">PowerTransformer</label><div class=\"sk-toggleable__content\"><pre>PowerTransformer()</pre></div></div></div></div></div></div></div></div><div class=\"sk-item\"><div class=\"sk-estimator sk-toggleable\"><input class=\"sk-toggleable__control sk-hidden--visually\" id=\"sk-estimator-id-42\" type=\"checkbox\" ><label for=\"sk-estimator-id-42\" class=\"sk-toggleable__label sk-toggleable__label-arrow\">Lasso</label><div class=\"sk-toggleable__content\"><pre>Lasso()</pre></div></div></div></div></div></div></div>"
            ]
          },
          "metadata": {},
          "execution_count": 181
        }
      ],
      "source": [
        "# On va séparer les variables explicatives de la variable cible.\n",
        "y = df_train.pop(TARGET)\n",
        "X = df_train\n",
        "print(y.shape, X.shape)\n",
        "# # Question : encodage sur tout le jeu de données ou une partie seulement ? a priori separer puis encoder car pbm de type\n",
        "# X_train, X_test, y_train, y_test = train_test_split(X, y, test_size = 0.2, random_state=42)\n",
        "\n",
        "# X_train_df = pd.DataFrame(data=X_train, columns=FEATURE)\n",
        "# y_train_df = pd.DataFrame(data=y_train, columns=[TARGET])\n",
        "\n",
        "# model = PowerTransformer()\n",
        "# y_train_normed = model.fit_transform(y_train_df)\n",
        "# X_df = pd.DataFrame(data=X, columns=FEATURE)\n",
        "# y_df = pd.DataFrame(data=y, columns=[TARGET])\n",
        "pp.fit(X, y)"
      ]
    },
    {
      "cell_type": "code",
      "execution_count": 182,
      "metadata": {
        "colab": {
          "base_uri": "https://localhost:8080/"
        },
        "id": "HIH_ifuc4aU5",
        "outputId": "d5d7ebe1-a21e-480d-9afa-2c590d101af7"
      },
      "outputs": [
        {
          "output_type": "stream",
          "name": "stdout",
          "text": [
            "Fitting 5 folds for each of 10 candidates, totalling 50 fits\n",
            "{'regressor__alpha': 1, 'regressor__fit_intercept': False}\n",
            "----------------\n",
            "Model's score : 0.689\n"
          ]
        }
      ],
      "source": [
        "# fit model by using grid search\n",
        "param_grid = {\n",
        "    'regressor__alpha'          : [0.0001, 0.001, 0.01, 0.10, 1],\n",
        "    'regressor__fit_intercept'  : [True, False]\n",
        "}\n",
        "grid_search = GridSearchCV(pp, param_grid, cv=5, verbose=1, n_jobs=-1, refit=True, scoring='r2')\n",
        "grid_search.fit(X, y)\n",
        "print(grid_search.best_params_)\n",
        "print('----------------')\n",
        "\n",
        "# model scoring\n",
        "best_model = grid_search.best_estimator_\n",
        "print(f'Model\\'s score : {best_model.score(X, y).round(3)}') #est R2 ? Bon va falloir revoir pipeline etc."
      ]
    },
    {
      "cell_type": "code",
      "execution_count": 183,
      "metadata": {
        "colab": {
          "base_uri": "https://localhost:8080/"
        },
        "id": "jLSU9jJu85Ib",
        "outputId": "6b80adb3-1327-45ac-a564-7b895d725bef"
      },
      "outputs": [
        {
          "output_type": "stream",
          "name": "stdout",
          "text": [
            "Lasso Coefficients:\n",
            "[ 5.18193125e+00  3.36195437e+03  1.45731816e+02  0.00000000e+00\n",
            "  3.43198421e+02 -1.35671418e+02  0.00000000e+00  1.84464512e+00\n",
            "  3.19500029e+01  0.00000000e+00  7.45041935e+00  0.00000000e+00\n",
            "  2.10723997e+00  8.91506151e+01  3.01086527e+01  0.00000000e+00\n",
            " -0.00000000e+00  4.57787489e+01  4.03445788e+01  4.81644418e+01\n",
            "  1.11036349e+02  8.71036507e+01  1.35453248e+02  3.10491605e+02\n",
            "  1.05089396e+02  8.03988512e+01  1.23202922e+02  9.10958578e+01\n",
            "  8.63406819e+01  7.66925605e+01  8.87237664e+01  4.34592087e+01\n",
            "  2.58381393e+02  9.12345663e-01  6.50865145e+01  5.76096418e+01]\n"
          ]
        },
        {
          "output_type": "execute_result",
          "data": {
            "text/plain": [
              "((36,), (30,))"
            ]
          },
          "metadata": {},
          "execution_count": 183
        }
      ],
      "source": [
        "lasso_regressor = best_model.named_steps['regressor']\n",
        "\n",
        "# Access the coefficients of the Lasso\n",
        "lasso_coefficients = lasso_regressor.coef_\n",
        "\n",
        "print(\"Lasso Coefficients:\")\n",
        "print(lasso_coefficients)\n",
        "\n",
        "# Print number of total variables and total variables with non null parameter\n",
        "(\n",
        "    lasso_coefficients.shape,\n",
        "    lasso_coefficients[lasso_coefficients != 0.].shape\n",
        ")\n",
        "# Le modele a simplifié notre equation: il a choisi seulement 14 variables parmis les 17 !"
      ]
    },
    {
      "cell_type": "code",
      "source": [],
      "metadata": {
        "id": "YlwvfE8lyAzd"
      },
      "execution_count": 183,
      "outputs": []
    }
  ],
  "metadata": {
    "colab": {
      "collapsed_sections": [
        "M_yoc462ofrY",
        "XnuEOgORoSyi",
        "UJoM5lQlCz7e"
      ],
      "provenance": [],
      "include_colab_link": true
    },
    "kernelspec": {
      "display_name": "Python 3",
      "name": "python3"
    },
    "language_info": {
      "name": "python"
    }
  },
  "nbformat": 4,
  "nbformat_minor": 0
}