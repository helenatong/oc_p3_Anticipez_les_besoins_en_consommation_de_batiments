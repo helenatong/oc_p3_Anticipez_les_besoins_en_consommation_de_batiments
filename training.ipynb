{
  "cells": [
    {
      "cell_type": "markdown",
      "metadata": {
        "id": "view-in-github",
        "colab_type": "text"
      },
      "source": [
        "<a href=\"https://colab.research.google.com/github/helenatong/oc_p4_Anticipez_les_besoins_en_consommation_de_batiments/blob/main/training.ipynb\" target=\"_parent\"><img src=\"https://colab.research.google.com/assets/colab-badge.svg\" alt=\"Open In Colab\"/></a>"
      ]
    },
    {
      "cell_type": "markdown",
      "source": [
        "GradientBoostingRegressor question sur le gradient"
      ],
      "metadata": {
        "id": "IFTx06AH-Ztg"
      }
    },
    {
      "cell_type": "markdown",
      "metadata": {
        "id": "M_yoc462ofrY"
      },
      "source": [
        "# **Introduction**\n",
        "\n",
        "---"
      ]
    },
    {
      "cell_type": "markdown",
      "metadata": {
        "id": "DT0Vbw38R3HI"
      },
      "source": [
        "## **Prérequis**\n",
        "- Télécharger [dataset nettoyé](https://drive.google.com/file/d/1-EuzI1ibLAG_1brg_v3MKcDtEgKDFIdl/view?usp=drive_link) dans Google Drive\n",
        "- Modifier le chemin du fichier dans le code\n",
        "\n",
        "\n",
        "---\n",
        "\n",
        "---\n",
        "\n",
        "## **Sommaire**\n",
        "\n",
        "### **I. Installation et mise en place de l'environnement de travail**\n",
        "\n",
        "### **II. Définitions des fonctions auxiliaires**\n",
        "\n",
        "### **III. Prédiction de la variable TotalGHGEmissions**\n",
        "**A. Entrainement du premier modèle: régression linéaire**"
      ]
    },
    {
      "cell_type": "markdown",
      "metadata": {
        "id": "XnuEOgORoSyi"
      },
      "source": [
        "# **I. Installation et mise en place de l'environnement de travail**"
      ]
    },
    {
      "cell_type": "code",
      "execution_count": 1,
      "metadata": {
        "id": "dawXLR8k49lH"
      },
      "outputs": [],
      "source": [
        "# importation des librairies\n",
        "import numpy as np\n",
        "import pandas as pd\n",
        "\n",
        "import zipfile\n",
        "import os\n",
        "\n",
        "import re\n",
        "\n",
        "import sys\n",
        "\n",
        "import missingno as msno\n",
        "import matplotlib as mpl\n",
        "import matplotlib.pyplot as plt\n",
        "import seaborn as sns\n",
        "\n",
        "from sklearn.linear_model import LinearRegression\n",
        "\n",
        "import datetime\n",
        "\n",
        "from google.colab import drive"
      ]
    },
    {
      "cell_type": "code",
      "execution_count": 2,
      "metadata": {
        "colab": {
          "base_uri": "https://localhost:8080/"
        },
        "id": "iCfGUiXL5cEc",
        "outputId": "b9d9158d-8317-4d7e-9b5f-d49014007971"
      },
      "outputs": [
        {
          "output_type": "stream",
          "name": "stdout",
          "text": [
            "Version des librairies :\n",
            "Python        : 3.10.12 (main, Nov 20 2023, 15:14:05) [GCC 11.4.0]\n",
            "NumPy         : 1.25.2\n",
            "Pandas        : 2.0.3\n",
            "Matplotlib    : 3.7.1\n",
            "Seaborn       : 0.13.1\n",
            "Run date      : 2024-05-14T16:38:01.484791\n"
          ]
        }
      ],
      "source": [
        "# informations sur l'environnement virtuel\n",
        "print('Version des librairies :')\n",
        "print('Python        : ' + sys.version)\n",
        "print('NumPy         : ' + np.version.full_version)\n",
        "print('Pandas        : ' + pd.__version__)\n",
        "print('Matplotlib    : ' + mpl.__version__)\n",
        "print('Seaborn       : ' + sns.__version__)\n",
        "\n",
        "now  = datetime.datetime.now().isoformat()\n",
        "print('Run date      : ' + now)"
      ]
    },
    {
      "cell_type": "code",
      "execution_count": 3,
      "metadata": {
        "id": "3Uogl562MBpU"
      },
      "outputs": [],
      "source": [
        "# configurations de l'affichages des données\n",
        "pd.set_option('display.max_columns', None)"
      ]
    },
    {
      "cell_type": "code",
      "execution_count": 4,
      "metadata": {
        "colab": {
          "base_uri": "https://localhost:8080/"
        },
        "id": "A7jM53Y09R3J",
        "outputId": "35543740-a294-44eb-8602-24b905a16051"
      },
      "outputs": [
        {
          "output_type": "stream",
          "name": "stdout",
          "text": [
            "Mounted at /content/drive\n"
          ]
        }
      ],
      "source": [
        "# connexion au drive\n",
        "drive.mount('/content/drive')"
      ]
    },
    {
      "cell_type": "code",
      "execution_count": 5,
      "metadata": {
        "colab": {
          "base_uri": "https://localhost:8080/",
          "height": 0
        },
        "id": "1CZaqh-c8fgE",
        "outputId": "6dbf1ce3-be63-4345-a7f7-88c07c37b724"
      },
      "outputs": [
        {
          "output_type": "execute_result",
          "data": {
            "text/plain": [
              "   OSEBuildingID    BuildingType PrimaryPropertyType Neighborhood  \\\n",
              "0              1  NonResidential               Hotel     DOWNTOWN   \n",
              "1              2  NonResidential               Hotel     DOWNTOWN   \n",
              "\n",
              "   NumberofBuildings  NumberofFloors  PropertyGFATotal  PropertyGFAParking  \\\n",
              "0                1.0              12             88434                   0   \n",
              "1                1.0              11            103566               15064   \n",
              "\n",
              "   PropertyGFABuilding(s) LargestPropertyUseType  LargestPropertyUseTypeGFA  \\\n",
              "0                   88434                  Hotel                    88434.0   \n",
              "1                   88502                  Hotel                    83880.0   \n",
              "\n",
              "  SecondLargestPropertyUseType  SecondLargestPropertyUseTypeGFA  \\\n",
              "0                      missing                              0.0   \n",
              "1                      Parking                          15064.0   \n",
              "\n",
              "  ThirdLargestPropertyUseType  ThirdLargestPropertyUseTypeGFA  \\\n",
              "0                     missing                             0.0   \n",
              "1                  Restaurant                          4622.0   \n",
              "\n",
              "   ENERGYSTARScore  SiteEnergyUse(kBtu)  SteamUse(kBtu)  Electricity(kBtu)  \\\n",
              "0             60.0            7226362.5       2003882.0          3946027.0   \n",
              "1             61.0            8387933.0             0.0          3242851.0   \n",
              "\n",
              "   NaturalGas(kBtu)  TotalGHGEmissions  BuildingAge  \\\n",
              "0         1276453.0             249.98           89   \n",
              "1         5145082.0             295.86           20   \n",
              "\n",
              "   LastYearENERGYSTARCertified  NbYearENERGYSTARCertified  \n",
              "0                          0.0                          0  \n",
              "1                          0.0                          0  "
            ],
            "text/html": [
              "\n",
              "  <div id=\"df-a8dfaed3-2e20-4c55-b70b-0c47034e95c5\" class=\"colab-df-container\">\n",
              "    <div>\n",
              "<style scoped>\n",
              "    .dataframe tbody tr th:only-of-type {\n",
              "        vertical-align: middle;\n",
              "    }\n",
              "\n",
              "    .dataframe tbody tr th {\n",
              "        vertical-align: top;\n",
              "    }\n",
              "\n",
              "    .dataframe thead th {\n",
              "        text-align: right;\n",
              "    }\n",
              "</style>\n",
              "<table border=\"1\" class=\"dataframe\">\n",
              "  <thead>\n",
              "    <tr style=\"text-align: right;\">\n",
              "      <th></th>\n",
              "      <th>OSEBuildingID</th>\n",
              "      <th>BuildingType</th>\n",
              "      <th>PrimaryPropertyType</th>\n",
              "      <th>Neighborhood</th>\n",
              "      <th>NumberofBuildings</th>\n",
              "      <th>NumberofFloors</th>\n",
              "      <th>PropertyGFATotal</th>\n",
              "      <th>PropertyGFAParking</th>\n",
              "      <th>PropertyGFABuilding(s)</th>\n",
              "      <th>LargestPropertyUseType</th>\n",
              "      <th>LargestPropertyUseTypeGFA</th>\n",
              "      <th>SecondLargestPropertyUseType</th>\n",
              "      <th>SecondLargestPropertyUseTypeGFA</th>\n",
              "      <th>ThirdLargestPropertyUseType</th>\n",
              "      <th>ThirdLargestPropertyUseTypeGFA</th>\n",
              "      <th>ENERGYSTARScore</th>\n",
              "      <th>SiteEnergyUse(kBtu)</th>\n",
              "      <th>SteamUse(kBtu)</th>\n",
              "      <th>Electricity(kBtu)</th>\n",
              "      <th>NaturalGas(kBtu)</th>\n",
              "      <th>TotalGHGEmissions</th>\n",
              "      <th>BuildingAge</th>\n",
              "      <th>LastYearENERGYSTARCertified</th>\n",
              "      <th>NbYearENERGYSTARCertified</th>\n",
              "    </tr>\n",
              "  </thead>\n",
              "  <tbody>\n",
              "    <tr>\n",
              "      <th>0</th>\n",
              "      <td>1</td>\n",
              "      <td>NonResidential</td>\n",
              "      <td>Hotel</td>\n",
              "      <td>DOWNTOWN</td>\n",
              "      <td>1.0</td>\n",
              "      <td>12</td>\n",
              "      <td>88434</td>\n",
              "      <td>0</td>\n",
              "      <td>88434</td>\n",
              "      <td>Hotel</td>\n",
              "      <td>88434.0</td>\n",
              "      <td>missing</td>\n",
              "      <td>0.0</td>\n",
              "      <td>missing</td>\n",
              "      <td>0.0</td>\n",
              "      <td>60.0</td>\n",
              "      <td>7226362.5</td>\n",
              "      <td>2003882.0</td>\n",
              "      <td>3946027.0</td>\n",
              "      <td>1276453.0</td>\n",
              "      <td>249.98</td>\n",
              "      <td>89</td>\n",
              "      <td>0.0</td>\n",
              "      <td>0</td>\n",
              "    </tr>\n",
              "    <tr>\n",
              "      <th>1</th>\n",
              "      <td>2</td>\n",
              "      <td>NonResidential</td>\n",
              "      <td>Hotel</td>\n",
              "      <td>DOWNTOWN</td>\n",
              "      <td>1.0</td>\n",
              "      <td>11</td>\n",
              "      <td>103566</td>\n",
              "      <td>15064</td>\n",
              "      <td>88502</td>\n",
              "      <td>Hotel</td>\n",
              "      <td>83880.0</td>\n",
              "      <td>Parking</td>\n",
              "      <td>15064.0</td>\n",
              "      <td>Restaurant</td>\n",
              "      <td>4622.0</td>\n",
              "      <td>61.0</td>\n",
              "      <td>8387933.0</td>\n",
              "      <td>0.0</td>\n",
              "      <td>3242851.0</td>\n",
              "      <td>5145082.0</td>\n",
              "      <td>295.86</td>\n",
              "      <td>20</td>\n",
              "      <td>0.0</td>\n",
              "      <td>0</td>\n",
              "    </tr>\n",
              "  </tbody>\n",
              "</table>\n",
              "</div>\n",
              "    <div class=\"colab-df-buttons\">\n",
              "\n",
              "  <div class=\"colab-df-container\">\n",
              "    <button class=\"colab-df-convert\" onclick=\"convertToInteractive('df-a8dfaed3-2e20-4c55-b70b-0c47034e95c5')\"\n",
              "            title=\"Convert this dataframe to an interactive table.\"\n",
              "            style=\"display:none;\">\n",
              "\n",
              "  <svg xmlns=\"http://www.w3.org/2000/svg\" height=\"24px\" viewBox=\"0 -960 960 960\">\n",
              "    <path d=\"M120-120v-720h720v720H120Zm60-500h600v-160H180v160Zm220 220h160v-160H400v160Zm0 220h160v-160H400v160ZM180-400h160v-160H180v160Zm440 0h160v-160H620v160ZM180-180h160v-160H180v160Zm440 0h160v-160H620v160Z\"/>\n",
              "  </svg>\n",
              "    </button>\n",
              "\n",
              "  <style>\n",
              "    .colab-df-container {\n",
              "      display:flex;\n",
              "      gap: 12px;\n",
              "    }\n",
              "\n",
              "    .colab-df-convert {\n",
              "      background-color: #E8F0FE;\n",
              "      border: none;\n",
              "      border-radius: 50%;\n",
              "      cursor: pointer;\n",
              "      display: none;\n",
              "      fill: #1967D2;\n",
              "      height: 32px;\n",
              "      padding: 0 0 0 0;\n",
              "      width: 32px;\n",
              "    }\n",
              "\n",
              "    .colab-df-convert:hover {\n",
              "      background-color: #E2EBFA;\n",
              "      box-shadow: 0px 1px 2px rgba(60, 64, 67, 0.3), 0px 1px 3px 1px rgba(60, 64, 67, 0.15);\n",
              "      fill: #174EA6;\n",
              "    }\n",
              "\n",
              "    .colab-df-buttons div {\n",
              "      margin-bottom: 4px;\n",
              "    }\n",
              "\n",
              "    [theme=dark] .colab-df-convert {\n",
              "      background-color: #3B4455;\n",
              "      fill: #D2E3FC;\n",
              "    }\n",
              "\n",
              "    [theme=dark] .colab-df-convert:hover {\n",
              "      background-color: #434B5C;\n",
              "      box-shadow: 0px 1px 3px 1px rgba(0, 0, 0, 0.15);\n",
              "      filter: drop-shadow(0px 1px 2px rgba(0, 0, 0, 0.3));\n",
              "      fill: #FFFFFF;\n",
              "    }\n",
              "  </style>\n",
              "\n",
              "    <script>\n",
              "      const buttonEl =\n",
              "        document.querySelector('#df-a8dfaed3-2e20-4c55-b70b-0c47034e95c5 button.colab-df-convert');\n",
              "      buttonEl.style.display =\n",
              "        google.colab.kernel.accessAllowed ? 'block' : 'none';\n",
              "\n",
              "      async function convertToInteractive(key) {\n",
              "        const element = document.querySelector('#df-a8dfaed3-2e20-4c55-b70b-0c47034e95c5');\n",
              "        const dataTable =\n",
              "          await google.colab.kernel.invokeFunction('convertToInteractive',\n",
              "                                                    [key], {});\n",
              "        if (!dataTable) return;\n",
              "\n",
              "        const docLinkHtml = 'Like what you see? Visit the ' +\n",
              "          '<a target=\"_blank\" href=https://colab.research.google.com/notebooks/data_table.ipynb>data table notebook</a>'\n",
              "          + ' to learn more about interactive tables.';\n",
              "        element.innerHTML = '';\n",
              "        dataTable['output_type'] = 'display_data';\n",
              "        await google.colab.output.renderOutput(dataTable, element);\n",
              "        const docLink = document.createElement('div');\n",
              "        docLink.innerHTML = docLinkHtml;\n",
              "        element.appendChild(docLink);\n",
              "      }\n",
              "    </script>\n",
              "  </div>\n",
              "\n",
              "\n",
              "<div id=\"df-6116ddf1-672d-43da-af8c-fc91aaf36c51\">\n",
              "  <button class=\"colab-df-quickchart\" onclick=\"quickchart('df-6116ddf1-672d-43da-af8c-fc91aaf36c51')\"\n",
              "            title=\"Suggest charts\"\n",
              "            style=\"display:none;\">\n",
              "\n",
              "<svg xmlns=\"http://www.w3.org/2000/svg\" height=\"24px\"viewBox=\"0 0 24 24\"\n",
              "     width=\"24px\">\n",
              "    <g>\n",
              "        <path d=\"M19 3H5c-1.1 0-2 .9-2 2v14c0 1.1.9 2 2 2h14c1.1 0 2-.9 2-2V5c0-1.1-.9-2-2-2zM9 17H7v-7h2v7zm4 0h-2V7h2v10zm4 0h-2v-4h2v4z\"/>\n",
              "    </g>\n",
              "</svg>\n",
              "  </button>\n",
              "\n",
              "<style>\n",
              "  .colab-df-quickchart {\n",
              "      --bg-color: #E8F0FE;\n",
              "      --fill-color: #1967D2;\n",
              "      --hover-bg-color: #E2EBFA;\n",
              "      --hover-fill-color: #174EA6;\n",
              "      --disabled-fill-color: #AAA;\n",
              "      --disabled-bg-color: #DDD;\n",
              "  }\n",
              "\n",
              "  [theme=dark] .colab-df-quickchart {\n",
              "      --bg-color: #3B4455;\n",
              "      --fill-color: #D2E3FC;\n",
              "      --hover-bg-color: #434B5C;\n",
              "      --hover-fill-color: #FFFFFF;\n",
              "      --disabled-bg-color: #3B4455;\n",
              "      --disabled-fill-color: #666;\n",
              "  }\n",
              "\n",
              "  .colab-df-quickchart {\n",
              "    background-color: var(--bg-color);\n",
              "    border: none;\n",
              "    border-radius: 50%;\n",
              "    cursor: pointer;\n",
              "    display: none;\n",
              "    fill: var(--fill-color);\n",
              "    height: 32px;\n",
              "    padding: 0;\n",
              "    width: 32px;\n",
              "  }\n",
              "\n",
              "  .colab-df-quickchart:hover {\n",
              "    background-color: var(--hover-bg-color);\n",
              "    box-shadow: 0 1px 2px rgba(60, 64, 67, 0.3), 0 1px 3px 1px rgba(60, 64, 67, 0.15);\n",
              "    fill: var(--button-hover-fill-color);\n",
              "  }\n",
              "\n",
              "  .colab-df-quickchart-complete:disabled,\n",
              "  .colab-df-quickchart-complete:disabled:hover {\n",
              "    background-color: var(--disabled-bg-color);\n",
              "    fill: var(--disabled-fill-color);\n",
              "    box-shadow: none;\n",
              "  }\n",
              "\n",
              "  .colab-df-spinner {\n",
              "    border: 2px solid var(--fill-color);\n",
              "    border-color: transparent;\n",
              "    border-bottom-color: var(--fill-color);\n",
              "    animation:\n",
              "      spin 1s steps(1) infinite;\n",
              "  }\n",
              "\n",
              "  @keyframes spin {\n",
              "    0% {\n",
              "      border-color: transparent;\n",
              "      border-bottom-color: var(--fill-color);\n",
              "      border-left-color: var(--fill-color);\n",
              "    }\n",
              "    20% {\n",
              "      border-color: transparent;\n",
              "      border-left-color: var(--fill-color);\n",
              "      border-top-color: var(--fill-color);\n",
              "    }\n",
              "    30% {\n",
              "      border-color: transparent;\n",
              "      border-left-color: var(--fill-color);\n",
              "      border-top-color: var(--fill-color);\n",
              "      border-right-color: var(--fill-color);\n",
              "    }\n",
              "    40% {\n",
              "      border-color: transparent;\n",
              "      border-right-color: var(--fill-color);\n",
              "      border-top-color: var(--fill-color);\n",
              "    }\n",
              "    60% {\n",
              "      border-color: transparent;\n",
              "      border-right-color: var(--fill-color);\n",
              "    }\n",
              "    80% {\n",
              "      border-color: transparent;\n",
              "      border-right-color: var(--fill-color);\n",
              "      border-bottom-color: var(--fill-color);\n",
              "    }\n",
              "    90% {\n",
              "      border-color: transparent;\n",
              "      border-bottom-color: var(--fill-color);\n",
              "    }\n",
              "  }\n",
              "</style>\n",
              "\n",
              "  <script>\n",
              "    async function quickchart(key) {\n",
              "      const quickchartButtonEl =\n",
              "        document.querySelector('#' + key + ' button');\n",
              "      quickchartButtonEl.disabled = true;  // To prevent multiple clicks.\n",
              "      quickchartButtonEl.classList.add('colab-df-spinner');\n",
              "      try {\n",
              "        const charts = await google.colab.kernel.invokeFunction(\n",
              "            'suggestCharts', [key], {});\n",
              "      } catch (error) {\n",
              "        console.error('Error during call to suggestCharts:', error);\n",
              "      }\n",
              "      quickchartButtonEl.classList.remove('colab-df-spinner');\n",
              "      quickchartButtonEl.classList.add('colab-df-quickchart-complete');\n",
              "    }\n",
              "    (() => {\n",
              "      let quickchartButtonEl =\n",
              "        document.querySelector('#df-6116ddf1-672d-43da-af8c-fc91aaf36c51 button');\n",
              "      quickchartButtonEl.style.display =\n",
              "        google.colab.kernel.accessAllowed ? 'block' : 'none';\n",
              "    })();\n",
              "  </script>\n",
              "</div>\n",
              "    </div>\n",
              "  </div>\n"
            ],
            "application/vnd.google.colaboratory.intrinsic+json": {
              "type": "dataframe",
              "variable_name": "df"
            }
          },
          "metadata": {},
          "execution_count": 5
        }
      ],
      "source": [
        "# vérification de l'importation\n",
        "df = pd.read_parquet('/content/drive/MyDrive/openclassrooms/project_list/project_4/data/cleaned_2016_Building_Energy_Benchmarking.pq')\n",
        "df.head(2)"
      ]
    },
    {
      "cell_type": "code",
      "execution_count": 6,
      "metadata": {
        "colab": {
          "base_uri": "https://localhost:8080/"
        },
        "id": "-1_rhUFTtFzK",
        "outputId": "65e469d1-fa53-485a-b1ce-bffcb953f25c"
      },
      "outputs": [
        {
          "output_type": "execute_result",
          "data": {
            "text/plain": [
              "OSEBuildingID                      0\n",
              "BuildingType                       0\n",
              "PrimaryPropertyType                0\n",
              "Neighborhood                       0\n",
              "NumberofBuildings                  0\n",
              "NumberofFloors                     0\n",
              "PropertyGFATotal                   0\n",
              "PropertyGFAParking                 0\n",
              "PropertyGFABuilding(s)             0\n",
              "LargestPropertyUseType             0\n",
              "LargestPropertyUseTypeGFA          0\n",
              "SecondLargestPropertyUseType       0\n",
              "SecondLargestPropertyUseTypeGFA    0\n",
              "ThirdLargestPropertyUseType        0\n",
              "ThirdLargestPropertyUseTypeGFA     0\n",
              "ENERGYSTARScore                    0\n",
              "SiteEnergyUse(kBtu)                0\n",
              "SteamUse(kBtu)                     0\n",
              "Electricity(kBtu)                  0\n",
              "NaturalGas(kBtu)                   0\n",
              "TotalGHGEmissions                  0\n",
              "BuildingAge                        0\n",
              "LastYearENERGYSTARCertified        0\n",
              "NbYearENERGYSTARCertified          0\n",
              "dtype: int64"
            ]
          },
          "metadata": {},
          "execution_count": 6
        }
      ],
      "source": [
        "# vérification des données\n",
        "df.isna().sum(axis=0)"
      ]
    },
    {
      "cell_type": "markdown",
      "metadata": {
        "id": "aWDdfIwH1qmZ"
      },
      "source": [
        "# **II. Définitions des fonctions et des variables globales**\n"
      ]
    },
    {
      "cell_type": "code",
      "execution_count": 7,
      "metadata": {
        "id": "eIjAoWTD684Y"
      },
      "outputs": [],
      "source": [
        "# TARGET =\n",
        "ID = 'OSEBuildingID'"
      ]
    },
    {
      "cell_type": "code",
      "execution_count": 8,
      "metadata": {
        "id": "m8Q3jV1_DImt"
      },
      "outputs": [],
      "source": [
        "# préparation des données pour ML, variable a de l'impact ou pas?\n",
        " # normalisation des données\n",
        " # encodage\n",
        " # dataset de training\n",
        "\n",
        " # TARGET 1 - prédire une valeur numérique\n",
        "#tester simple la régression lineaire\n",
        "\n",
        "#NEW NOTEBOOK\n",
        "# TARGET 1 - prédire une valeur numérique\n",
        "#tester simple la régression lineaire\n",
        "\n",
        "# entrainement modèle, pipeline, grid search\n",
        "# choix de la méthode de scoring\n",
        "# comparer les 4 modèles : ElasticNet, SVM, GradientBoosting, RandomForest\n",
        "# si iverfitting : tester une méthode ensembliste (bagging, boosting)\n",
        "\n",
        "# check impact de STAR SCORING avec et sans\n",
        "#c'est pour comparer ce qui est comparable. ENtre BTP aux services similaires (école <> industrie)\n",
        "\n",
        "#NEW NOTEBOOK\n",
        "# TARGET 2 - prédire une valeur numérique\n",
        "# entrainement modèle\n",
        "\n",
        "#shap\n",
        "#ElasticNet (lineaire, ), SVM, GradientBoosting, RandomForest).\n",
        "\n",
        "#pour savoir si une va est importante ?\n",
        "# simple : utiliser la lib black box\n",
        "# compliqué : LASSO (connaissance de l'algo!), cas particulier de l'eslatic net, 0 sur tout"
      ]
    },
    {
      "cell_type": "markdown",
      "metadata": {
        "id": "-r1bIoIqGUas"
      },
      "source": [
        "Les principaux algorithmes du machine learning supervisé sont les suivants : forêts aléatoires (plusieurs arbres de décisions), arbres de décision, algorithme K-NN (k-Nearest Neighbors) (qui se ressemble.. est identique), régression linéaire, algorithme de Naïve Bayes??, machine à vecteurs de support (SVM)??, régression logistique (hum ?) et boosting de gradient (minimisation de la fonction de coût)"
      ]
    },
    {
      "cell_type": "code",
      "execution_count": 8,
      "metadata": {
        "id": "riKH7q3nGT79"
      },
      "outputs": [],
      "source": []
    },
    {
      "cell_type": "markdown",
      "metadata": {
        "id": "_Yn35X5Lt4az"
      },
      "source": [
        "# **III. TARGET 1**"
      ]
    },
    {
      "cell_type": "code",
      "execution_count": 9,
      "metadata": {
        "id": "nXJMrjPft3tA"
      },
      "outputs": [],
      "source": [
        "TARGET = 'TotalGHGEmissions'\n",
        "NUM_FEATURES = ['OSEBuildingID', 'NumberofBuildings', 'NumberofFloors',\n",
        "       'PropertyGFATotal', 'PropertyGFAParking', 'PropertyGFABuilding(s)',\n",
        "       'LargestPropertyUseTypeGFA', 'SecondLargestPropertyUseTypeGFA',\n",
        "       'ThirdLargestPropertyUseTypeGFA', 'ENERGYSTARScore', 'SiteEnergyUse(kBtu)',\n",
        "       'SteamUse(kBtu)', 'Electricity(kBtu)', 'NaturalGas(kBtu)',\n",
        "       'BuildingAge', 'LastYearENERGYSTARCertified',\n",
        "       'NbYearENERGYSTARCertified']\n",
        "CAT_FEATURES = [f for f in df.columns if f not in NUM_FEATURES and f != TARGET]\n",
        "\n",
        "df1 = df.copy()"
      ]
    },
    {
      "cell_type": "markdown",
      "metadata": {
        "id": "sZ2UIkyOuGVF"
      },
      "source": [
        "**Trouver les variables prédictifs à l'aide du lasso ? To do si le temps**"
      ]
    },
    {
      "cell_type": "markdown",
      "metadata": {
        "id": "hx7V9mslqLy5"
      },
      "source": [
        "##**A. Entrainement d'un modèle linéaire: LinearRegression**"
      ]
    },
    {
      "cell_type": "code",
      "execution_count": 10,
      "metadata": {
        "id": "uvEIqsREqSlP"
      },
      "outputs": [],
      "source": [
        "# importation des librairies\n",
        "from sklearn.model_selection import train_test_split, GridSearchCV\n",
        "from sklearn.pipeline import Pipeline\n",
        "from sklearn.linear_model import LinearRegression\n",
        "from sklearn.compose import ColumnTransformer\n",
        "from sklearn.preprocessing import OneHotEncoder, PowerTransformer"
      ]
    },
    {
      "cell_type": "code",
      "execution_count": 11,
      "metadata": {
        "id": "7GTn41hBvpkd"
      },
      "outputs": [],
      "source": [
        "# séparation des variables explicatives de la variable à prédire\n",
        "df1 = df.copy()\n",
        "y = df1.pop(TARGET)\n",
        "X = df1"
      ]
    },
    {
      "cell_type": "code",
      "execution_count": 12,
      "metadata": {
        "id": "AFrSt30J00Mj"
      },
      "outputs": [],
      "source": [
        "# features engineering\n",
        "y = np.log(y + 1)\n",
        "\n",
        "preprocessor = ColumnTransformer(\n",
        "    transformers=[\n",
        "        ('encoder_nominal', OneHotEncoder(handle_unknown='ignore',sparse_output=False), CAT_FEATURES),\n",
        "         ('norma', PowerTransformer(), NUM_FEATURES)\n",
        "    ],\n",
        "    remainder='drop'\n",
        "  )"
      ]
    },
    {
      "cell_type": "code",
      "execution_count": 13,
      "metadata": {
        "id": "la0Io3EOqSf_"
      },
      "outputs": [],
      "source": [
        "# création de la pipeline\n",
        "pipeline = Pipeline([\n",
        "    ('preprocessor', preprocessor),\n",
        "    ('regressor', LinearRegression())\n",
        "  ])"
      ]
    },
    {
      "cell_type": "code",
      "execution_count": 14,
      "metadata": {
        "colab": {
          "base_uri": "https://localhost:8080/"
        },
        "id": "XV0oamJAqShz",
        "outputId": "8111c3c3-4553-4422-d0dc-1016c9cf0f32"
      },
      "outputs": [
        {
          "output_type": "stream",
          "name": "stdout",
          "text": [
            "Fitting 5 folds for each of 4 candidates, totalling 20 fits\n",
            "Meilleurs hyperparamètres: {'regressor__fit_intercept': False, 'regressor__positive': True}\n",
            "Moyenne des scores: 0.867\n",
            "----------------\n",
            "Score sur le train : 0.957\n",
            "Score sur le test : 0.9\n"
          ]
        }
      ],
      "source": [
        "# entrainement des modèles selon plusieurs paramètres\n",
        "# séparation du dataset (entrainement et test)\n",
        "\n",
        "param_grid = {\n",
        "    'regressor__fit_intercept' : [False, True],\n",
        "    'regressor__positive'      : [False, True]\n",
        "}\n",
        "\n",
        "gs = GridSearchCV(estimator=pipeline, param_grid=param_grid, cv=5, verbose=1, n_jobs=-1, refit=True, scoring='r2')\n",
        "X_train, X_test, y_train, y_test = train_test_split(X, y, test_size=0.20, random_state=42)\n",
        "gs.fit(X_train, y_train)\n",
        "best_model = gs.best_estimator_\n",
        "\n",
        "print(f'Meilleurs hyperparamètres: {gs.best_params_}')\n",
        "print(f'Moyenne des scores: {gs.best_score_.round(3)}')\n",
        "print('----------------')\n",
        "\n",
        "# model scoring\n",
        "print(f'Score sur le train : {best_model.score(X_train, y_train).round(3)}')\n",
        "print(f'Score sur le test : {best_model.score(X_test, y_test).round(3)}')"
      ]
    },
    {
      "cell_type": "markdown",
      "metadata": {
        "id": "HNP5xO2_sCVa"
      },
      "source": [
        "##**B. Entrainement d'un modèle linéaire: RandomForestRegressor**"
      ]
    },
    {
      "cell_type": "code",
      "execution_count": 15,
      "metadata": {
        "id": "gVx7heAGqSb_"
      },
      "outputs": [],
      "source": [
        "from sklearn.ensemble import RandomForestRegressor"
      ]
    },
    {
      "cell_type": "code",
      "execution_count": 16,
      "metadata": {
        "id": "_T9V__pKqSaE"
      },
      "outputs": [],
      "source": [
        "# création de la pipeline\n",
        "pipeline = Pipeline([\n",
        "    ('preprocessor', preprocessor),\n",
        "    ('regressor', RandomForestRegressor())\n",
        "  ])"
      ]
    },
    {
      "cell_type": "code",
      "execution_count": 17,
      "metadata": {
        "colab": {
          "base_uri": "https://localhost:8080/"
        },
        "id": "k1V61ohuqSXy",
        "outputId": "ab6dd43b-fa10-4343-cf7f-5fd1cd1d6de4"
      },
      "outputs": [
        {
          "output_type": "stream",
          "name": "stdout",
          "text": [
            "Fitting 5 folds for each of 2 candidates, totalling 10 fits\n",
            "Meilleurs hyperparamètres: {'regressor__n_estimators': 500}\n",
            "Moyenne des scores: 0.979\n",
            "----------------\n",
            "Score sur le train : 0.998\n",
            "Score sur le test : 0.996\n"
          ]
        }
      ],
      "source": [
        "# entrainement des modèles selon plusieurs paramètres\n",
        "# séparation du dataset (entrainement et test)\n",
        "\n",
        "param_grid = {\n",
        "    'regressor__n_estimators'  : [100, 500],\n",
        "    # 'regressor__max_depth'     : [2, 3, 4, 5],\n",
        "    # 'regressor__criterion'     : ['squared_error', 'absolute_error', 'friedman_mse', 'poisson'],\n",
        "    # 'regressor__min_samples_split' : [2, 10, 100]\n",
        "}\n",
        "\n",
        "gs = GridSearchCV(estimator=pipeline, param_grid=param_grid, cv=5, verbose=1, n_jobs=-1, refit=True, scoring='r2')\n",
        "X_train, X_test, y_train, y_test = train_test_split(X, y, test_size=0.20, random_state=42)\n",
        "gs.fit(X_train, y_train)\n",
        "best_model = gs.best_estimator_\n",
        "\n",
        "print(f'Meilleurs hyperparamètres: {gs.best_params_}')\n",
        "print(f'Moyenne des scores: {gs.best_score_.round(3)}')\n",
        "print('----------------')\n",
        "\n",
        "# model scoring\n",
        "print(f'Score sur le train : {best_model.score(X_train, y_train).round(3)}')\n",
        "print(f'Score sur le test : {best_model.score(X_test, y_test).round(3)}')"
      ]
    },
    {
      "cell_type": "markdown",
      "metadata": {
        "id": "2zjBlLrsDXTw"
      },
      "source": [
        "##**C. Entrainement d'un modèle linéaire: GradientBoostingRegressor**"
      ]
    },
    {
      "cell_type": "code",
      "execution_count": 18,
      "metadata": {
        "id": "HluPHuMiqSVt"
      },
      "outputs": [],
      "source": [
        "from sklearn.ensemble import GradientBoostingRegressor"
      ]
    },
    {
      "cell_type": "code",
      "execution_count": 19,
      "metadata": {
        "id": "DmGNkXSQqSLz"
      },
      "outputs": [],
      "source": [
        "# création de la pipeline\n",
        "pipeline = Pipeline([\n",
        "    ('preprocessor', preprocessor),\n",
        "    ('regressor', GradientBoostingRegressor())\n",
        "  ])"
      ]
    },
    {
      "cell_type": "code",
      "execution_count": 20,
      "metadata": {
        "id": "fwjxMPUADrzU",
        "colab": {
          "base_uri": "https://localhost:8080/"
        },
        "outputId": "d2f91eba-1504-421f-ace5-69e41d238e69"
      },
      "outputs": [
        {
          "output_type": "stream",
          "name": "stdout",
          "text": [
            "Fitting 5 folds for each of 4 candidates, totalling 20 fits\n",
            "Meilleurs hyperparamètres: {'regressor__learning_rate': 0.1}\n",
            "Moyenne des scores: 0.976\n",
            "----------------\n",
            "Score sur le train : 0.998\n",
            "Score sur le test : 0.995\n"
          ]
        }
      ],
      "source": [
        "# entrainement des modèles selon plusieurs paramètres\n",
        "# séparation du dataset (entrainement et test)\n",
        "\n",
        "param_grid = {\n",
        "    'regressor__learning_rate'      : [0.1, 0.05, 0.5, 1],\n",
        "    # 'regressor__n_estimators'       : [100, 50, 200, 300],\n",
        "    # 'regressor__max_depth'          : [3, 2, 4, 5],\n",
        "    # 'regressor__min_samples_split'  : [2, 3, 4],\n",
        "    # 'regressor__min_samples_leaf'   : [1, 2, 3],\n",
        "    # 'regressor__loss'               : [\"squared_error\", \"absolute_error\", \"huber\", \"quantile\"]\n",
        "}\n",
        "\n",
        "gs = GridSearchCV(estimator=pipeline, param_grid=param_grid, cv=5, verbose=1, n_jobs=-1, refit=True, scoring='r2')\n",
        "X_train, X_test, y_train, y_test = train_test_split(X, y, test_size=0.20, random_state=42)\n",
        "gs.fit(X_train, y_train)\n",
        "best_model = gs.best_estimator_\n",
        "\n",
        "print(f'Meilleurs hyperparamètres: {gs.best_params_}')\n",
        "print(f'Moyenne des scores: {gs.best_score_.round(3)}')\n",
        "print('----------------')\n",
        "\n",
        "# model scoring\n",
        "print(f'Score sur le train : {best_model.score(X_train, y_train).round(3)}')\n",
        "print(f'Score sur le test : {best_model.score(X_test, y_test).round(3)}')"
      ]
    },
    {
      "cell_type": "markdown",
      "source": [
        "##**D. Entrainement d'un modèle linéaire: GradientBoostingRegressor**"
      ],
      "metadata": {
        "id": "dMqMqYoQ-t-g"
      }
    },
    {
      "cell_type": "code",
      "source": [
        "from sklearn.svm import SVR"
      ],
      "metadata": {
        "id": "z9lww6-w95nL"
      },
      "execution_count": 21,
      "outputs": []
    },
    {
      "cell_type": "code",
      "source": [
        "# création de la pipeline\n",
        "pipeline = Pipeline([\n",
        "    ('preprocessor', preprocessor),\n",
        "    ('regressor', SVR())\n",
        "  ])"
      ],
      "metadata": {
        "id": "zJ9Rnt1bREIc"
      },
      "execution_count": 22,
      "outputs": []
    },
    {
      "cell_type": "code",
      "source": [
        "# entrainement des modèles selon plusieurs paramètres\n",
        "# séparation du dataset (entrainement et test)\n",
        "\n",
        "param_grid = {\n",
        "    'regressor__kernel'          : ['rbf'], #, 'linear', 'poly', 'sigmoid', 'precomputed'], #passer dans les dimensions supérieures\n",
        "    'regressor__degree'         : [3, 2, 4, 5] #for poly\n",
        "}\n",
        "\n",
        "gs = GridSearchCV(estimator=pipeline, param_grid=param_grid, cv=5, verbose=1, n_jobs=-1, refit=True, scoring='r2')\n",
        "X_train, X_test, y_train, y_test = train_test_split(X, y, test_size=0.20, random_state=42)\n",
        "gs.fit(X_train, y_train)\n",
        "best_model = gs.best_estimator_\n",
        "\n",
        "print(f'Meilleurs hyperparamètres: {gs.best_params_}')\n",
        "print(f'Moyenne des scores: {gs.best_score_.round(3)}')\n",
        "print('----------------')\n",
        "\n",
        "# model scoring\n",
        "print(f'Score sur le train : {best_model.score(X_train, y_train).round(3)}')\n",
        "print(f'Score sur le test : {best_model.score(X_test, y_test).round(3)}')"
      ],
      "metadata": {
        "colab": {
          "base_uri": "https://localhost:8080/"
        },
        "id": "6xL0AiA-RD99",
        "outputId": "f86fbe08-2b99-4a05-bbcf-ce3586b21962"
      },
      "execution_count": 23,
      "outputs": [
        {
          "output_type": "stream",
          "name": "stdout",
          "text": [
            "Fitting 5 folds for each of 4 candidates, totalling 20 fits\n",
            "Meilleurs hyperparamètres: {'regressor__degree': 3, 'regressor__kernel': 'rbf'}\n",
            "Moyenne des scores: 0.909\n",
            "----------------\n",
            "Score sur le train : 0.962\n",
            "Score sur le test : 0.951\n"
          ]
        }
      ]
    },
    {
      "cell_type": "markdown",
      "metadata": {
        "id": "UJoM5lQlCz7e"
      },
      "source": [
        "##**Entrainement du modèle LASSO**\n"
      ]
    },
    {
      "cell_type": "code",
      "execution_count": null,
      "metadata": {
        "colab": {
          "background_save": true
        },
        "id": "tA8TJ5YPkak6"
      },
      "outputs": [],
      "source": [
        "# On choisie toutes les variables numériques et 3 variables catégorielles\n",
        "nb_null_value = df.isna().sum(axis=0)\n",
        "col_to_keep = nb_null_value[nb_null_value < 100].index.to_list()\n",
        "num_column = df.dtypes[(df.dtypes == 'float64') | (df.dtypes == 'int64')].index.to_list()\n",
        "cat_to_keep = ['PrimaryPropertyType', 'Neighborhood']\n",
        "num_to_keep = list(set(col_to_keep).intersection(num_column))\n",
        "FINAL_COL =  num_to_keep + cat_to_keep #set pour le non itérable, #list pour concat ensuite\n",
        "FINAL_COL = ['TotalGHGEmissions', 'Electricity(kBtu)', 'SiteEnergyUse(kBtu)', 'NaturalGas(kBtu)'\n",
        "             , 'NumberofBuildings', 'PrimaryPropertyType', 'Neighborhood']\n",
        "print((FINAL_COL))"
      ]
    },
    {
      "cell_type": "code",
      "execution_count": null,
      "metadata": {
        "colab": {
          "background_save": true
        },
        "id": "n0JVkpSprNKS"
      },
      "outputs": [],
      "source": [
        "TARGET = 'TotalGHGEmissions'\n",
        "FEATURE = [col for col in FINAL_COL if col != TARGET]\n",
        "df_train = df[FINAL_COL].dropna()\n",
        "print(FEATURE)"
      ]
    },
    {
      "cell_type": "code",
      "execution_count": null,
      "metadata": {
        "colab": {
          "background_save": true
        },
        "id": "DfjYfMamyOhM"
      },
      "outputs": [],
      "source": [
        "from sklearn.model_selection import train_test_split, GridSearchCV\n",
        "\n",
        "from sklearn.preprocessing import OneHotEncoder, PowerTransformer, StandardScaler\n",
        "from sklearn.compose import ColumnTransformer\n",
        "from sklearn.linear_model import Lasso\n",
        "from sklearn.pipeline import Pipeline"
      ]
    },
    {
      "cell_type": "code",
      "execution_count": null,
      "metadata": {
        "colab": {
          "background_save": true
        },
        "id": "PiXFuyzVrNCA"
      },
      "outputs": [],
      "source": [
        "# Features engineering\n",
        "preprocessor = ColumnTransformer(\n",
        "    transformers=[\n",
        "        ('encoder_nominal', OneHotEncoder(handle_unknown='ignore',sparse_output=False), cat_to_keep),\n",
        "         ('norma', PowerTransformer(), ['Electricity(kBtu)', 'SiteEnergyUse(kBtu)', 'NaturalGas(kBtu)', 'NumberofBuildings'])\n",
        "    ],\n",
        "    remainder='drop'\n",
        "  )"
      ]
    },
    {
      "cell_type": "code",
      "execution_count": null,
      "metadata": {
        "colab": {
          "background_save": true
        },
        "id": "4Ji_lzGyrM82"
      },
      "outputs": [],
      "source": [
        "pp = Pipeline([\n",
        "    ('preprocessor', preprocessor),\n",
        "    ('regressor', Lasso()),\n",
        "])"
      ]
    },
    {
      "cell_type": "code",
      "execution_count": null,
      "metadata": {
        "colab": {
          "background_save": true
        },
        "id": "-iQpLsKVwel-"
      },
      "outputs": [],
      "source": [
        "# On va séparer les variables explicatives de la variable cible.\n",
        "y = df_train.pop(TARGET)\n",
        "X = df_train\n",
        "print(y.shape, X.shape)\n",
        "# # Question : encodage sur tout le jeu de données ou une partie seulement ? a priori separer puis encoder car pbm de type\n",
        "# X_train, X_test, y_train, y_test = train_test_split(X, y, test_size = 0.2, random_state=42)\n",
        "\n",
        "# X_train_df = pd.DataFrame(data=X_train, columns=FEATURE)\n",
        "# y_train_df = pd.DataFrame(data=y_train, columns=[TARGET])\n",
        "\n",
        "# model = PowerTransformer()\n",
        "# y_train_normed = model.fit_transform(y_train_df)\n",
        "# X_df = pd.DataFrame(data=X, columns=FEATURE)\n",
        "# y_df = pd.DataFrame(data=y, columns=[TARGET])\n",
        "pp.fit(X, y)"
      ]
    },
    {
      "cell_type": "code",
      "execution_count": null,
      "metadata": {
        "colab": {
          "background_save": true
        },
        "id": "HIH_ifuc4aU5"
      },
      "outputs": [],
      "source": [
        "# fit model by using grid search\n",
        "param_grid = {\n",
        "    'regressor__alpha'          : [0.0001, 0.001, 0.01, 0.10, 1],\n",
        "    'regressor__fit_intercept'  : [True, False]\n",
        "}\n",
        "grid_search = GridSearchCV(pp, param_grid, cv=5, verbose=1, n_jobs=-1, refit=True, scoring='r2')\n",
        "grid_search.fit(X, y)\n",
        "print(grid_search.best_params_)\n",
        "print('----------------')\n",
        "\n",
        "# model scoring\n",
        "best_model = grid_search.best_estimator_\n",
        "print(f'Model\\'s score : {best_model.score(X, y).round(3)}') #est R2 ? Bon va falloir revoir pipeline etc."
      ]
    },
    {
      "cell_type": "code",
      "execution_count": null,
      "metadata": {
        "colab": {
          "background_save": true
        },
        "id": "jLSU9jJu85Ib"
      },
      "outputs": [],
      "source": [
        "lasso_regressor = best_model.named_steps['regressor']\n",
        "\n",
        "# Access the coefficients of the Lasso\n",
        "lasso_coefficients = lasso_regressor.coef_\n",
        "\n",
        "print(\"Lasso Coefficients:\")\n",
        "print(lasso_coefficients)\n",
        "\n",
        "# Print number of total variables and total variables with non null parameter\n",
        "(\n",
        "    lasso_coefficients.shape,\n",
        "    lasso_coefficients[lasso_coefficients != 0.].shape\n",
        ")\n",
        "# Le modele a simplifié notre equation: il a choisi seulement 14 variables parmis les 17 !"
      ]
    }
  ],
  "metadata": {
    "colab": {
      "collapsed_sections": [
        "M_yoc462ofrY",
        "XnuEOgORoSyi",
        "UJoM5lQlCz7e"
      ],
      "provenance": [],
      "include_colab_link": true
    },
    "kernelspec": {
      "display_name": "Python 3",
      "name": "python3"
    },
    "language_info": {
      "name": "python"
    }
  },
  "nbformat": 4,
  "nbformat_minor": 0
}