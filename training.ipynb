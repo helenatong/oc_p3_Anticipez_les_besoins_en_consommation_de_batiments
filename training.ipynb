{
  "cells": [
    {
      "cell_type": "markdown",
      "metadata": {
        "id": "view-in-github",
        "colab_type": "text"
      },
      "source": [
        "<a href=\"https://colab.research.google.com/github/helenatong/oc_p4_Anticipez_les_besoins_en_consommation_de_batiments/blob/main/training.ipynb\" target=\"_parent\"><img src=\"https://colab.research.google.com/assets/colab-badge.svg\" alt=\"Open In Colab\"/></a>"
      ]
    },
    {
      "cell_type": "markdown",
      "metadata": {
        "id": "M_yoc462ofrY"
      },
      "source": [
        "# **Introduction**\n",
        "\n",
        "---"
      ]
    },
    {
      "cell_type": "markdown",
      "metadata": {
        "id": "DT0Vbw38R3HI"
      },
      "source": [
        "## **Prérequis**\n",
        "- Télécharger [dataset nettoyé](https://drive.google.com/file/d/1-EuzI1ibLAG_1brg_v3MKcDtEgKDFIdl/view?usp=drive_link) dans Google Drive\n",
        "- Modifier le chemin du fichier dans le code\n",
        "\n",
        "\n",
        "---\n",
        "\n",
        "---\n",
        "\n",
        "## **Sommaire**\n",
        "\n",
        "### **I. Installation et mise en place de l'environnement de travail**\n",
        "\n",
        "### **II. Définitions des fonctions auxiliaires**\n",
        "\n",
        "### **III. Prédiction de la variable TotalGHGEmissions**\n",
        "**A. Entrainement du premier modèle: régression linéaire**"
      ]
    },
    {
      "cell_type": "markdown",
      "metadata": {
        "id": "XnuEOgORoSyi"
      },
      "source": [
        "# **I. Installation et mise en place de l'environnement de travail**"
      ]
    },
    {
      "cell_type": "code",
      "execution_count": 184,
      "metadata": {
        "id": "dawXLR8k49lH"
      },
      "outputs": [],
      "source": [
        "# importation des librairies\n",
        "import numpy as np\n",
        "import pandas as pd\n",
        "\n",
        "import zipfile\n",
        "import os\n",
        "\n",
        "import re\n",
        "\n",
        "import sys\n",
        "\n",
        "import missingno as msno\n",
        "import matplotlib as mpl\n",
        "import matplotlib.pyplot as plt\n",
        "import seaborn as sns\n",
        "\n",
        "from sklearn.linear_model import LinearRegression\n",
        "\n",
        "import datetime\n",
        "\n",
        "from google.colab import drive"
      ]
    },
    {
      "cell_type": "code",
      "execution_count": 185,
      "metadata": {
        "colab": {
          "base_uri": "https://localhost:8080/"
        },
        "id": "iCfGUiXL5cEc",
        "outputId": "98c0f45c-b2a2-46d7-9574-5a5c57a00974"
      },
      "outputs": [
        {
          "output_type": "stream",
          "name": "stdout",
          "text": [
            "Version des librairies :\n",
            "Python        : 3.10.12 (main, Nov 20 2023, 15:14:05) [GCC 11.4.0]\n",
            "NumPy         : 1.25.2\n",
            "Pandas        : 2.0.3\n",
            "Matplotlib    : 3.7.1\n",
            "Seaborn       : 0.13.1\n",
            "Run date      : 2024-05-11T09:43:23.591398\n"
          ]
        }
      ],
      "source": [
        "# informations sur l'environnement virtuel\n",
        "print('Version des librairies :')\n",
        "print('Python        : ' + sys.version)\n",
        "print('NumPy         : ' + np.version.full_version)\n",
        "print('Pandas        : ' + pd.__version__)\n",
        "print('Matplotlib    : ' + mpl.__version__)\n",
        "print('Seaborn       : ' + sns.__version__)\n",
        "\n",
        "now  = datetime.datetime.now().isoformat()\n",
        "print('Run date      : ' + now)"
      ]
    },
    {
      "cell_type": "code",
      "execution_count": 186,
      "metadata": {
        "id": "3Uogl562MBpU"
      },
      "outputs": [],
      "source": [
        "# configurations de l'affichages des données\n",
        "pd.set_option('display.max_columns', None)"
      ]
    },
    {
      "cell_type": "code",
      "execution_count": 187,
      "metadata": {
        "colab": {
          "base_uri": "https://localhost:8080/"
        },
        "id": "A7jM53Y09R3J",
        "outputId": "bd07e9f7-825c-4c1b-d267-5cd0fb2b36a9"
      },
      "outputs": [
        {
          "output_type": "stream",
          "name": "stdout",
          "text": [
            "Drive already mounted at /content/drive; to attempt to forcibly remount, call drive.mount(\"/content/drive\", force_remount=True).\n"
          ]
        }
      ],
      "source": [
        "# connexion au drive\n",
        "drive.mount('/content/drive')"
      ]
    },
    {
      "cell_type": "code",
      "source": [
        "# vérification de l'importation\n",
        "df = pd.read_parquet('/content/drive/MyDrive/openclassrooms/project_list/project_4/data/cleaned_2016_Building_Energy_Benchmarking.pq')\n",
        "df.head(2)"
      ],
      "metadata": {
        "id": "1CZaqh-c8fgE",
        "colab": {
          "base_uri": "https://localhost:8080/",
          "height": 132
        },
        "outputId": "3ea55f3b-d99b-4836-9d32-0ce288dbb563"
      },
      "execution_count": 188,
      "outputs": [
        {
          "output_type": "execute_result",
          "data": {
            "text/plain": [
              "   OSEBuildingID    BuildingType PrimaryPropertyType Neighborhood  \\\n",
              "0              1  NonResidential               Hotel     DOWNTOWN   \n",
              "1              2  NonResidential               Hotel     DOWNTOWN   \n",
              "\n",
              "   NumberofBuildings  NumberofFloors  PropertyGFATotal  PropertyGFAParking  \\\n",
              "0                1.0              12             88434                   0   \n",
              "1                1.0              11            103566               15064   \n",
              "\n",
              "   PropertyGFABuilding(s) LargestPropertyUseType  LargestPropertyUseTypeGFA  \\\n",
              "0                   88434                  Hotel                    88434.0   \n",
              "1                   88502                  Hotel                    83880.0   \n",
              "\n",
              "  SecondLargestPropertyUseType  SecondLargestPropertyUseTypeGFA  \\\n",
              "0                      missing                              0.0   \n",
              "1                      Parking                          15064.0   \n",
              "\n",
              "  ThirdLargestPropertyUseType  ThirdLargestPropertyUseTypeGFA  \\\n",
              "0                     missing                             0.0   \n",
              "1                  Restaurant                          4622.0   \n",
              "\n",
              "   ENERGYSTARScore  SiteEnergyUse(kBtu)  SteamUse(kBtu)  Electricity(kBtu)  \\\n",
              "0             60.0            7226362.5       2003882.0          3946027.0   \n",
              "1             61.0            8387933.0             0.0          3242851.0   \n",
              "\n",
              "   NaturalGas(kBtu)  TotalGHGEmissions  BuildingAge  \\\n",
              "0         1276453.0             249.98           89   \n",
              "1         5145082.0             295.86           20   \n",
              "\n",
              "   LastYearENERGYSTARCertified  NbYearENERGYSTARCertified  \n",
              "0                          0.0                          0  \n",
              "1                          0.0                          0  "
            ],
            "text/html": [
              "\n",
              "  <div id=\"df-ba6722e7-62d9-4154-931b-43b9b8e81c3e\" class=\"colab-df-container\">\n",
              "    <div>\n",
              "<style scoped>\n",
              "    .dataframe tbody tr th:only-of-type {\n",
              "        vertical-align: middle;\n",
              "    }\n",
              "\n",
              "    .dataframe tbody tr th {\n",
              "        vertical-align: top;\n",
              "    }\n",
              "\n",
              "    .dataframe thead th {\n",
              "        text-align: right;\n",
              "    }\n",
              "</style>\n",
              "<table border=\"1\" class=\"dataframe\">\n",
              "  <thead>\n",
              "    <tr style=\"text-align: right;\">\n",
              "      <th></th>\n",
              "      <th>OSEBuildingID</th>\n",
              "      <th>BuildingType</th>\n",
              "      <th>PrimaryPropertyType</th>\n",
              "      <th>Neighborhood</th>\n",
              "      <th>NumberofBuildings</th>\n",
              "      <th>NumberofFloors</th>\n",
              "      <th>PropertyGFATotal</th>\n",
              "      <th>PropertyGFAParking</th>\n",
              "      <th>PropertyGFABuilding(s)</th>\n",
              "      <th>LargestPropertyUseType</th>\n",
              "      <th>LargestPropertyUseTypeGFA</th>\n",
              "      <th>SecondLargestPropertyUseType</th>\n",
              "      <th>SecondLargestPropertyUseTypeGFA</th>\n",
              "      <th>ThirdLargestPropertyUseType</th>\n",
              "      <th>ThirdLargestPropertyUseTypeGFA</th>\n",
              "      <th>ENERGYSTARScore</th>\n",
              "      <th>SiteEnergyUse(kBtu)</th>\n",
              "      <th>SteamUse(kBtu)</th>\n",
              "      <th>Electricity(kBtu)</th>\n",
              "      <th>NaturalGas(kBtu)</th>\n",
              "      <th>TotalGHGEmissions</th>\n",
              "      <th>BuildingAge</th>\n",
              "      <th>LastYearENERGYSTARCertified</th>\n",
              "      <th>NbYearENERGYSTARCertified</th>\n",
              "    </tr>\n",
              "  </thead>\n",
              "  <tbody>\n",
              "    <tr>\n",
              "      <th>0</th>\n",
              "      <td>1</td>\n",
              "      <td>NonResidential</td>\n",
              "      <td>Hotel</td>\n",
              "      <td>DOWNTOWN</td>\n",
              "      <td>1.0</td>\n",
              "      <td>12</td>\n",
              "      <td>88434</td>\n",
              "      <td>0</td>\n",
              "      <td>88434</td>\n",
              "      <td>Hotel</td>\n",
              "      <td>88434.0</td>\n",
              "      <td>missing</td>\n",
              "      <td>0.0</td>\n",
              "      <td>missing</td>\n",
              "      <td>0.0</td>\n",
              "      <td>60.0</td>\n",
              "      <td>7226362.5</td>\n",
              "      <td>2003882.0</td>\n",
              "      <td>3946027.0</td>\n",
              "      <td>1276453.0</td>\n",
              "      <td>249.98</td>\n",
              "      <td>89</td>\n",
              "      <td>0.0</td>\n",
              "      <td>0</td>\n",
              "    </tr>\n",
              "    <tr>\n",
              "      <th>1</th>\n",
              "      <td>2</td>\n",
              "      <td>NonResidential</td>\n",
              "      <td>Hotel</td>\n",
              "      <td>DOWNTOWN</td>\n",
              "      <td>1.0</td>\n",
              "      <td>11</td>\n",
              "      <td>103566</td>\n",
              "      <td>15064</td>\n",
              "      <td>88502</td>\n",
              "      <td>Hotel</td>\n",
              "      <td>83880.0</td>\n",
              "      <td>Parking</td>\n",
              "      <td>15064.0</td>\n",
              "      <td>Restaurant</td>\n",
              "      <td>4622.0</td>\n",
              "      <td>61.0</td>\n",
              "      <td>8387933.0</td>\n",
              "      <td>0.0</td>\n",
              "      <td>3242851.0</td>\n",
              "      <td>5145082.0</td>\n",
              "      <td>295.86</td>\n",
              "      <td>20</td>\n",
              "      <td>0.0</td>\n",
              "      <td>0</td>\n",
              "    </tr>\n",
              "  </tbody>\n",
              "</table>\n",
              "</div>\n",
              "    <div class=\"colab-df-buttons\">\n",
              "\n",
              "  <div class=\"colab-df-container\">\n",
              "    <button class=\"colab-df-convert\" onclick=\"convertToInteractive('df-ba6722e7-62d9-4154-931b-43b9b8e81c3e')\"\n",
              "            title=\"Convert this dataframe to an interactive table.\"\n",
              "            style=\"display:none;\">\n",
              "\n",
              "  <svg xmlns=\"http://www.w3.org/2000/svg\" height=\"24px\" viewBox=\"0 -960 960 960\">\n",
              "    <path d=\"M120-120v-720h720v720H120Zm60-500h600v-160H180v160Zm220 220h160v-160H400v160Zm0 220h160v-160H400v160ZM180-400h160v-160H180v160Zm440 0h160v-160H620v160ZM180-180h160v-160H180v160Zm440 0h160v-160H620v160Z\"/>\n",
              "  </svg>\n",
              "    </button>\n",
              "\n",
              "  <style>\n",
              "    .colab-df-container {\n",
              "      display:flex;\n",
              "      gap: 12px;\n",
              "    }\n",
              "\n",
              "    .colab-df-convert {\n",
              "      background-color: #E8F0FE;\n",
              "      border: none;\n",
              "      border-radius: 50%;\n",
              "      cursor: pointer;\n",
              "      display: none;\n",
              "      fill: #1967D2;\n",
              "      height: 32px;\n",
              "      padding: 0 0 0 0;\n",
              "      width: 32px;\n",
              "    }\n",
              "\n",
              "    .colab-df-convert:hover {\n",
              "      background-color: #E2EBFA;\n",
              "      box-shadow: 0px 1px 2px rgba(60, 64, 67, 0.3), 0px 1px 3px 1px rgba(60, 64, 67, 0.15);\n",
              "      fill: #174EA6;\n",
              "    }\n",
              "\n",
              "    .colab-df-buttons div {\n",
              "      margin-bottom: 4px;\n",
              "    }\n",
              "\n",
              "    [theme=dark] .colab-df-convert {\n",
              "      background-color: #3B4455;\n",
              "      fill: #D2E3FC;\n",
              "    }\n",
              "\n",
              "    [theme=dark] .colab-df-convert:hover {\n",
              "      background-color: #434B5C;\n",
              "      box-shadow: 0px 1px 3px 1px rgba(0, 0, 0, 0.15);\n",
              "      filter: drop-shadow(0px 1px 2px rgba(0, 0, 0, 0.3));\n",
              "      fill: #FFFFFF;\n",
              "    }\n",
              "  </style>\n",
              "\n",
              "    <script>\n",
              "      const buttonEl =\n",
              "        document.querySelector('#df-ba6722e7-62d9-4154-931b-43b9b8e81c3e button.colab-df-convert');\n",
              "      buttonEl.style.display =\n",
              "        google.colab.kernel.accessAllowed ? 'block' : 'none';\n",
              "\n",
              "      async function convertToInteractive(key) {\n",
              "        const element = document.querySelector('#df-ba6722e7-62d9-4154-931b-43b9b8e81c3e');\n",
              "        const dataTable =\n",
              "          await google.colab.kernel.invokeFunction('convertToInteractive',\n",
              "                                                    [key], {});\n",
              "        if (!dataTable) return;\n",
              "\n",
              "        const docLinkHtml = 'Like what you see? Visit the ' +\n",
              "          '<a target=\"_blank\" href=https://colab.research.google.com/notebooks/data_table.ipynb>data table notebook</a>'\n",
              "          + ' to learn more about interactive tables.';\n",
              "        element.innerHTML = '';\n",
              "        dataTable['output_type'] = 'display_data';\n",
              "        await google.colab.output.renderOutput(dataTable, element);\n",
              "        const docLink = document.createElement('div');\n",
              "        docLink.innerHTML = docLinkHtml;\n",
              "        element.appendChild(docLink);\n",
              "      }\n",
              "    </script>\n",
              "  </div>\n",
              "\n",
              "\n",
              "<div id=\"df-acfd22fd-2daf-4296-b0a0-f46b97547eef\">\n",
              "  <button class=\"colab-df-quickchart\" onclick=\"quickchart('df-acfd22fd-2daf-4296-b0a0-f46b97547eef')\"\n",
              "            title=\"Suggest charts\"\n",
              "            style=\"display:none;\">\n",
              "\n",
              "<svg xmlns=\"http://www.w3.org/2000/svg\" height=\"24px\"viewBox=\"0 0 24 24\"\n",
              "     width=\"24px\">\n",
              "    <g>\n",
              "        <path d=\"M19 3H5c-1.1 0-2 .9-2 2v14c0 1.1.9 2 2 2h14c1.1 0 2-.9 2-2V5c0-1.1-.9-2-2-2zM9 17H7v-7h2v7zm4 0h-2V7h2v10zm4 0h-2v-4h2v4z\"/>\n",
              "    </g>\n",
              "</svg>\n",
              "  </button>\n",
              "\n",
              "<style>\n",
              "  .colab-df-quickchart {\n",
              "      --bg-color: #E8F0FE;\n",
              "      --fill-color: #1967D2;\n",
              "      --hover-bg-color: #E2EBFA;\n",
              "      --hover-fill-color: #174EA6;\n",
              "      --disabled-fill-color: #AAA;\n",
              "      --disabled-bg-color: #DDD;\n",
              "  }\n",
              "\n",
              "  [theme=dark] .colab-df-quickchart {\n",
              "      --bg-color: #3B4455;\n",
              "      --fill-color: #D2E3FC;\n",
              "      --hover-bg-color: #434B5C;\n",
              "      --hover-fill-color: #FFFFFF;\n",
              "      --disabled-bg-color: #3B4455;\n",
              "      --disabled-fill-color: #666;\n",
              "  }\n",
              "\n",
              "  .colab-df-quickchart {\n",
              "    background-color: var(--bg-color);\n",
              "    border: none;\n",
              "    border-radius: 50%;\n",
              "    cursor: pointer;\n",
              "    display: none;\n",
              "    fill: var(--fill-color);\n",
              "    height: 32px;\n",
              "    padding: 0;\n",
              "    width: 32px;\n",
              "  }\n",
              "\n",
              "  .colab-df-quickchart:hover {\n",
              "    background-color: var(--hover-bg-color);\n",
              "    box-shadow: 0 1px 2px rgba(60, 64, 67, 0.3), 0 1px 3px 1px rgba(60, 64, 67, 0.15);\n",
              "    fill: var(--button-hover-fill-color);\n",
              "  }\n",
              "\n",
              "  .colab-df-quickchart-complete:disabled,\n",
              "  .colab-df-quickchart-complete:disabled:hover {\n",
              "    background-color: var(--disabled-bg-color);\n",
              "    fill: var(--disabled-fill-color);\n",
              "    box-shadow: none;\n",
              "  }\n",
              "\n",
              "  .colab-df-spinner {\n",
              "    border: 2px solid var(--fill-color);\n",
              "    border-color: transparent;\n",
              "    border-bottom-color: var(--fill-color);\n",
              "    animation:\n",
              "      spin 1s steps(1) infinite;\n",
              "  }\n",
              "\n",
              "  @keyframes spin {\n",
              "    0% {\n",
              "      border-color: transparent;\n",
              "      border-bottom-color: var(--fill-color);\n",
              "      border-left-color: var(--fill-color);\n",
              "    }\n",
              "    20% {\n",
              "      border-color: transparent;\n",
              "      border-left-color: var(--fill-color);\n",
              "      border-top-color: var(--fill-color);\n",
              "    }\n",
              "    30% {\n",
              "      border-color: transparent;\n",
              "      border-left-color: var(--fill-color);\n",
              "      border-top-color: var(--fill-color);\n",
              "      border-right-color: var(--fill-color);\n",
              "    }\n",
              "    40% {\n",
              "      border-color: transparent;\n",
              "      border-right-color: var(--fill-color);\n",
              "      border-top-color: var(--fill-color);\n",
              "    }\n",
              "    60% {\n",
              "      border-color: transparent;\n",
              "      border-right-color: var(--fill-color);\n",
              "    }\n",
              "    80% {\n",
              "      border-color: transparent;\n",
              "      border-right-color: var(--fill-color);\n",
              "      border-bottom-color: var(--fill-color);\n",
              "    }\n",
              "    90% {\n",
              "      border-color: transparent;\n",
              "      border-bottom-color: var(--fill-color);\n",
              "    }\n",
              "  }\n",
              "</style>\n",
              "\n",
              "  <script>\n",
              "    async function quickchart(key) {\n",
              "      const quickchartButtonEl =\n",
              "        document.querySelector('#' + key + ' button');\n",
              "      quickchartButtonEl.disabled = true;  // To prevent multiple clicks.\n",
              "      quickchartButtonEl.classList.add('colab-df-spinner');\n",
              "      try {\n",
              "        const charts = await google.colab.kernel.invokeFunction(\n",
              "            'suggestCharts', [key], {});\n",
              "      } catch (error) {\n",
              "        console.error('Error during call to suggestCharts:', error);\n",
              "      }\n",
              "      quickchartButtonEl.classList.remove('colab-df-spinner');\n",
              "      quickchartButtonEl.classList.add('colab-df-quickchart-complete');\n",
              "    }\n",
              "    (() => {\n",
              "      let quickchartButtonEl =\n",
              "        document.querySelector('#df-acfd22fd-2daf-4296-b0a0-f46b97547eef button');\n",
              "      quickchartButtonEl.style.display =\n",
              "        google.colab.kernel.accessAllowed ? 'block' : 'none';\n",
              "    })();\n",
              "  </script>\n",
              "</div>\n",
              "    </div>\n",
              "  </div>\n"
            ],
            "application/vnd.google.colaboratory.intrinsic+json": {
              "type": "dataframe",
              "variable_name": "df"
            }
          },
          "metadata": {},
          "execution_count": 188
        }
      ]
    },
    {
      "cell_type": "code",
      "source": [
        "# vérification des données\n",
        "df.isna().sum(axis=0)"
      ],
      "metadata": {
        "colab": {
          "base_uri": "https://localhost:8080/"
        },
        "id": "-1_rhUFTtFzK",
        "outputId": "a11a9126-4150-402e-afbe-e225d9aad286"
      },
      "execution_count": 189,
      "outputs": [
        {
          "output_type": "execute_result",
          "data": {
            "text/plain": [
              "OSEBuildingID                      0\n",
              "BuildingType                       0\n",
              "PrimaryPropertyType                0\n",
              "Neighborhood                       0\n",
              "NumberofBuildings                  0\n",
              "NumberofFloors                     0\n",
              "PropertyGFATotal                   0\n",
              "PropertyGFAParking                 0\n",
              "PropertyGFABuilding(s)             0\n",
              "LargestPropertyUseType             0\n",
              "LargestPropertyUseTypeGFA          0\n",
              "SecondLargestPropertyUseType       0\n",
              "SecondLargestPropertyUseTypeGFA    0\n",
              "ThirdLargestPropertyUseType        0\n",
              "ThirdLargestPropertyUseTypeGFA     0\n",
              "ENERGYSTARScore                    0\n",
              "SiteEnergyUse(kBtu)                0\n",
              "SteamUse(kBtu)                     0\n",
              "Electricity(kBtu)                  0\n",
              "NaturalGas(kBtu)                   0\n",
              "TotalGHGEmissions                  0\n",
              "BuildingAge                        0\n",
              "LastYearENERGYSTARCertified        0\n",
              "NbYearENERGYSTARCertified          0\n",
              "dtype: int64"
            ]
          },
          "metadata": {},
          "execution_count": 189
        }
      ]
    },
    {
      "cell_type": "markdown",
      "metadata": {
        "id": "aWDdfIwH1qmZ"
      },
      "source": [
        "# **II. Définitions des fonctions et des variables globales**\n"
      ]
    },
    {
      "cell_type": "code",
      "source": [
        "# TARGET =\n",
        "ID = 'OSEBuildingID'"
      ],
      "metadata": {
        "id": "eIjAoWTD684Y"
      },
      "execution_count": 190,
      "outputs": []
    },
    {
      "cell_type": "code",
      "source": [
        "# préparation des données pour ML, variable a de l'impact ou pas?\n",
        " # normalisation des données\n",
        " # encodage\n",
        " # dataset de training\n",
        "\n",
        " # TARGET 1 - prédire une valeur numérique\n",
        "#tester simple la régression lineaire\n",
        "\n",
        "#NEW NOTEBOOK\n",
        "# TARGET 1 - prédire une valeur numérique\n",
        "#tester simple la régression lineaire\n",
        "\n",
        "# entrainement modèle, pipeline, grid search\n",
        "# choix de la méthode de scoring\n",
        "# comparer les 4 modèles : ElasticNet, SVM, GradientBoosting, RandomForest\n",
        "# si iverfitting : tester une méthode ensembliste (bagging, boosting)\n",
        "\n",
        "# check impact de STAR SCORING avec et sans\n",
        "#c'est pour comparer ce qui est comparable. ENtre BTP aux services similaires (école <> industrie)\n",
        "\n",
        "#NEW NOTEBOOK\n",
        "# TARGET 2 - prédire une valeur numérique\n",
        "# entrainement modèle\n",
        "\n",
        "#shap\n",
        "#ElasticNet (lineaire, ), SVM, GradientBoosting, RandomForest).\n",
        "\n",
        "#pour savoir si une va est importante ?\n",
        "# simple : utiliser la lib black box\n",
        "# compliqué : LASSO (connaissance de l'algo!), cas particulier de l'eslatic net, 0 sur tout"
      ],
      "metadata": {
        "id": "m8Q3jV1_DImt"
      },
      "execution_count": 191,
      "outputs": []
    },
    {
      "cell_type": "markdown",
      "source": [
        "# **III. TARGET 1**"
      ],
      "metadata": {
        "id": "_Yn35X5Lt4az"
      }
    },
    {
      "cell_type": "code",
      "source": [
        "TARGET = 'TotalGHGEmissions'\n",
        "NUM_FEATURES = ['OSEBuildingID', 'NumberofBuildings', 'NumberofFloors',\n",
        "       'PropertyGFATotal', 'PropertyGFAParking', 'PropertyGFABuilding(s)',\n",
        "       'LargestPropertyUseTypeGFA', 'SecondLargestPropertyUseTypeGFA',\n",
        "       'ThirdLargestPropertyUseTypeGFA', 'ENERGYSTARScore', 'SiteEnergyUse(kBtu)',\n",
        "       'SteamUse(kBtu)', 'Electricity(kBtu)', 'NaturalGas(kBtu)',\n",
        "       'BuildingAge', 'LastYearENERGYSTARCertified',\n",
        "       'NbYearENERGYSTARCertified']\n",
        "CAT_FEATURES = [f for f in df.columns if f not in NUM_FEATURES and f != TARGET]\n",
        "\n",
        "df1 = df.copy()"
      ],
      "metadata": {
        "id": "nXJMrjPft3tA"
      },
      "execution_count": 192,
      "outputs": []
    },
    {
      "cell_type": "markdown",
      "source": [
        "**Trouver les variables prédictifs à l'aide du lasso ? To do si le temps**"
      ],
      "metadata": {
        "id": "sZ2UIkyOuGVF"
      }
    },
    {
      "cell_type": "markdown",
      "source": [
        "#**A. Entrainement d'un modèle linéaire**"
      ],
      "metadata": {
        "id": "hx7V9mslqLy5"
      }
    },
    {
      "cell_type": "code",
      "source": [
        "# importation des librairies\n",
        "from sklearn.model_selection import train_test_split, GridSearchCV\n",
        "from sklearn.pipeline import Pipeline\n",
        "from sklearn.linear_model import LinearRegression\n",
        "from sklearn.compose import ColumnTransformer\n",
        "from sklearn.preprocessing import OneHotEncoder, PowerTransformer"
      ],
      "metadata": {
        "id": "uvEIqsREqSlP"
      },
      "execution_count": 193,
      "outputs": []
    },
    {
      "cell_type": "code",
      "source": [
        "# séparation des variables explicatives de la variable à prédire\n",
        "df1 = df.copy()\n",
        "y = df1.pop(TARGET)\n",
        "X = df1"
      ],
      "metadata": {
        "id": "7GTn41hBvpkd"
      },
      "execution_count": 194,
      "outputs": []
    },
    {
      "cell_type": "code",
      "source": [
        "# features engineering\n",
        "y = np.log(y + 1)\n",
        "\n",
        "preprocessor = ColumnTransformer(\n",
        "    transformers=[\n",
        "        ('encoder_nominal', OneHotEncoder(handle_unknown='ignore',sparse_output=False), CAT_FEATURES),\n",
        "         ('norma', PowerTransformer(), NUM_FEATURES)\n",
        "    ],\n",
        "    remainder='drop'\n",
        "  )"
      ],
      "metadata": {
        "id": "AFrSt30J00Mj"
      },
      "execution_count": 195,
      "outputs": []
    },
    {
      "cell_type": "code",
      "source": [
        "# création de la pipeline\n",
        "pipeline = Pipeline([\n",
        "    ('preprocessor', preprocessor),\n",
        "    ('regressor', LinearRegression())\n",
        "  ])"
      ],
      "metadata": {
        "id": "la0Io3EOqSf_"
      },
      "execution_count": 196,
      "outputs": []
    },
    {
      "cell_type": "code",
      "source": [
        "# entrainement des modèles selon plusieurs paramètres\n",
        "# séparation du dataset (entrainement et test)\n",
        "\n",
        "param_grid = {\n",
        "    'regressor__fit_intercept' : [False, True],\n",
        "    'regressor__positive'      : [False, True]\n",
        "}\n",
        "\n",
        "gs = GridSearchCV(estimator=pipeline, param_grid=param_grid, cv=5, verbose=1, n_jobs=-1, refit=True, scoring='r2')\n",
        "X_train, X_test, y_train, y_test = train_test_split(X, y, test_size=0.20, random_state=42)\n",
        "gs.fit(X_train, y_train)\n",
        "best_model = gs.best_estimator_\n",
        "\n",
        "print(f'Meilleurs hyperparamètres: {gs.best_params_}')\n",
        "print(f'Moyenne des scores: {gs.best_score_.round(3)}')\n",
        "print('----------------')\n",
        "\n",
        "# model scoring\n",
        "print(f'Score sur le train : {best_model.score(X_train, y_train).round(3)}')\n",
        "print(f'Score sur le test : {best_model.score(X_test, y_test).round(3)}')"
      ],
      "metadata": {
        "colab": {
          "base_uri": "https://localhost:8080/"
        },
        "id": "XV0oamJAqShz",
        "outputId": "62ef7ac6-759d-4afc-8a37-2e37bfe20c06"
      },
      "execution_count": 205,
      "outputs": [
        {
          "output_type": "stream",
          "name": "stdout",
          "text": [
            "Fitting 5 folds for each of 4 candidates, totalling 20 fits\n",
            "Meilleurs hyperparamètres: {'regressor__fit_intercept': False, 'regressor__positive': True}\n",
            "Moyenne des scores: 0.867\n",
            "----------------\n",
            "Score sur le train : 0.957\n",
            "Score sur le test : 0.9\n"
          ]
        }
      ]
    },
    {
      "cell_type": "code",
      "source": [
        "best_model.predict(X_test)"
      ],
      "metadata": {
        "colab": {
          "base_uri": "https://localhost:8080/"
        },
        "id": "HbgbitegqSeU",
        "outputId": "2578c944-29d7-4bbd-d05a-97900c298956"
      },
      "execution_count": 199,
      "outputs": [
        {
          "output_type": "execute_result",
          "data": {
            "text/plain": [
              "array([ 4.02872424,  5.6750542 ,  3.76370015,  2.96738156,  4.54214607,\n",
              "       -0.33799903,  5.94088061,  4.64926181,  2.95971235,  5.01937414,\n",
              "        3.28984867,  1.88134273,  3.90053406,  3.67908556,  4.18383384,\n",
              "        4.14642584,  4.65269081,  3.8941419 ,  6.37032595,  4.92747146,\n",
              "        3.44816754,  3.55933637,  5.64754271,  6.49421866,  4.43321136,\n",
              "        4.1979726 ,  2.91603081,  3.20576592,  2.19083346,  2.07746885,\n",
              "        3.06676767,  4.1387835 ,  3.1916181 ,  4.92025183,  1.86094675,\n",
              "        4.04087796,  0.91552109,  2.85514451,  7.24376964,  5.27961548,\n",
              "        6.49349366,  3.98518654,  3.44660687,  3.08430109,  3.84422381,\n",
              "        6.03699828,  1.19540269,  3.8897076 ,  4.65495365,  5.35542979,\n",
              "        5.56697862,  4.70281462,  5.60841249,  3.09555317,  2.3320916 ,\n",
              "        2.12745259,  3.00684673,  3.43244866,  3.87129227,  4.02360932,\n",
              "        5.56768377,  2.41416986,  2.336074  ,  2.96016857,  4.33180131,\n",
              "        3.7022273 ,  4.38577556,  4.20733347,  3.71213662,  3.57923382,\n",
              "        3.06906842,  1.97399124,  4.96580027,  4.81842144,  2.64362618,\n",
              "        2.29361248,  2.85928472,  3.27908352,  5.90315513,  3.54421039,\n",
              "        4.44104653,  1.80984922,  4.58815923,  5.13629946,  6.45536335,\n",
              "        5.22294911,  2.82826892,  3.05499586,  3.88198891,  4.96577781,\n",
              "        6.1743163 ,  2.521862  ,  6.38312465,  3.05983811,  7.19365259,\n",
              "        3.45932032,  2.90393666,  4.82830627,  2.68258565,  4.37743636,\n",
              "        4.0669204 ,  3.61086349,  4.6772012 ,  6.87410368,  3.93391103,\n",
              "        3.44079451,  3.64651071,  2.98141638,  4.48978312,  4.50806279,\n",
              "        3.30966864,  4.16793369,  2.25096072,  2.87127064,  2.95606868,\n",
              "        5.51507292,  4.95229672,  6.34302658,  3.21377446,  2.62824818,\n",
              "        1.58417095,  3.20168687,  4.00723278,  2.97806684,  2.89637973,\n",
              "        4.56165563,  3.46830665,  3.36545089,  3.91691139,  5.092471  ,\n",
              "        3.68417718,  3.1248412 ,  3.82322806,  0.20799288,  2.00948342,\n",
              "        3.67502829,  4.7226692 ,  4.02544885,  3.22205345,  3.48081547,\n",
              "        3.9333214 ,  3.84480697,  5.03060021,  5.17479474,  5.47402942,\n",
              "        2.9382787 ,  5.84918076,  5.58563702,  3.94713495,  1.36343961,\n",
              "        3.89529297,  0.4140041 ,  4.7070892 ,  6.48731921,  3.95389329,\n",
              "        4.44125347,  3.70644106,  5.10828159,  3.08942677,  4.07578143,\n",
              "        2.33484727,  4.9820905 ,  2.23977639,  3.49252991,  1.27266586,\n",
              "        3.11717143,  4.38599459,  1.59820079,  6.08716569,  3.98277336,\n",
              "        4.39502686,  2.62781328,  2.35391023,  6.87902354,  1.71543904,\n",
              "        3.95022756,  2.04252959,  5.5060829 ,  0.96064578,  3.73862049,\n",
              "        5.35153578,  5.64817841,  3.28177877,  5.28651196,  5.38548137,\n",
              "        3.05736545,  2.75324841,  4.47249303,  3.74692639,  4.24720709,\n",
              "        1.54087389,  6.38079899,  3.32781106,  3.48613973,  4.84132557,\n",
              "        4.10510587,  3.91141226,  4.65885459,  2.44986137,  5.16150986,\n",
              "        3.98111709,  3.59648816,  3.43961501,  5.48927077,  4.51289304,\n",
              "        5.14344514,  5.3923321 ,  1.96955256,  3.65947603,  3.70587291,\n",
              "        5.03773144,  5.48164932,  3.35450683,  2.50629975,  4.4161865 ,\n",
              "        3.11869807,  5.82826241,  2.42269186,  1.81495259,  2.98771547,\n",
              "        4.14901921,  5.5174135 ,  4.90128594,  3.1517612 ,  2.2630918 ,\n",
              "        3.22694748,  2.86861722,  3.39127369,  3.30841354,  2.35161594,\n",
              "        3.31828099,  8.05641326,  4.0882165 ,  2.84582565,  3.71552427,\n",
              "        4.37235368,  2.31603432,  3.73173486,  4.04572382,  2.46883051,\n",
              "        5.68845194,  3.05821848,  3.23660379,  2.37605241,  4.03283996,\n",
              "        3.20632164,  6.00206035,  3.19891449,  7.30155409,  2.75074954,\n",
              "        0.87057046,  2.09930097,  5.63006504,  5.18293795,  6.16387122,\n",
              "        3.73367643,  4.32912256,  6.42580326,  4.36162063,  5.39821271,\n",
              "        4.31385077,  2.83741643,  3.86260902,  3.68068804,  4.32702603,\n",
              "        2.69410526,  4.4446649 ,  5.33280905,  6.36810769,  2.54183243,\n",
              "        7.83771009,  5.71755019,  3.03983619,  3.20421255,  3.9269547 ,\n",
              "        4.79018108,  4.35274807,  2.81361886,  2.83062821,  4.69511482,\n",
              "        1.30974305,  3.47105426,  4.31022548,  1.68866466,  1.46950431,\n",
              "        2.75012788,  2.19320581,  4.30876047,  3.06554522,  4.09225131,\n",
              "        3.30310656,  3.41601375,  3.36696766,  0.85129818,  3.52722629,\n",
              "        3.60231465])"
            ]
          },
          "metadata": {},
          "execution_count": 199
        }
      ]
    },
    {
      "cell_type": "code",
      "source": [],
      "metadata": {
        "id": "gVx7heAGqSb_"
      },
      "execution_count": null,
      "outputs": []
    },
    {
      "cell_type": "code",
      "source": [],
      "metadata": {
        "id": "_T9V__pKqSaE"
      },
      "execution_count": null,
      "outputs": []
    },
    {
      "cell_type": "code",
      "source": [],
      "metadata": {
        "id": "k1V61ohuqSXy"
      },
      "execution_count": null,
      "outputs": []
    },
    {
      "cell_type": "code",
      "source": [],
      "metadata": {
        "id": "HluPHuMiqSVt"
      },
      "execution_count": null,
      "outputs": []
    },
    {
      "cell_type": "code",
      "source": [],
      "metadata": {
        "id": "DmGNkXSQqSLz"
      },
      "execution_count": null,
      "outputs": []
    },
    {
      "cell_type": "markdown",
      "source": [
        "##**Entrainement du modèle LASSO**\n"
      ],
      "metadata": {
        "id": "UJoM5lQlCz7e"
      }
    },
    {
      "cell_type": "code",
      "source": [
        "# On choisie toutes les variables numériques et 3 variables catégorielles\n",
        "nb_null_value = df.isna().sum(axis=0)\n",
        "col_to_keep = nb_null_value[nb_null_value < 100].index.to_list()\n",
        "num_column = df.dtypes[(df.dtypes == 'float64') | (df.dtypes == 'int64')].index.to_list()\n",
        "cat_to_keep = ['PrimaryPropertyType', 'Neighborhood']\n",
        "num_to_keep = list(set(col_to_keep).intersection(num_column))\n",
        "FINAL_COL =  num_to_keep + cat_to_keep #set pour le non itérable, #list pour concat ensuite\n",
        "FINAL_COL = ['TotalGHGEmissions', 'Electricity(kBtu)', 'SiteEnergyUse(kBtu)', 'NaturalGas(kBtu)'\n",
        "             , 'NumberofBuildings', 'PrimaryPropertyType', 'Neighborhood']\n",
        "print((FINAL_COL))"
      ],
      "metadata": {
        "id": "tA8TJ5YPkak6",
        "colab": {
          "base_uri": "https://localhost:8080/"
        },
        "outputId": "ff442443-de1c-46b7-bfd5-a29c93f8dd3e"
      },
      "execution_count": 115,
      "outputs": [
        {
          "output_type": "stream",
          "name": "stdout",
          "text": [
            "['TotalGHGEmissions', 'Electricity(kBtu)', 'SiteEnergyUse(kBtu)', 'NaturalGas(kBtu)', 'NumberofBuildings', 'PrimaryPropertyType', 'Neighborhood']\n"
          ]
        }
      ]
    },
    {
      "cell_type": "code",
      "source": [
        "TARGET = 'TotalGHGEmissions'\n",
        "FEATURE = [col for col in FINAL_COL if col != TARGET]\n",
        "df_train = df[FINAL_COL].dropna()\n",
        "print(FEATURE)"
      ],
      "metadata": {
        "id": "n0JVkpSprNKS",
        "colab": {
          "base_uri": "https://localhost:8080/"
        },
        "outputId": "c65186e3-4289-4d0d-de6c-8ff46b9fa0d8"
      },
      "execution_count": 116,
      "outputs": [
        {
          "output_type": "stream",
          "name": "stdout",
          "text": [
            "['Electricity(kBtu)', 'SiteEnergyUse(kBtu)', 'NaturalGas(kBtu)', 'NumberofBuildings', 'PrimaryPropertyType', 'Neighborhood']\n"
          ]
        }
      ]
    },
    {
      "cell_type": "code",
      "source": [
        "from sklearn.model_selection import train_test_split, GridSearchCV\n",
        "\n",
        "from sklearn.preprocessing import OneHotEncoder, PowerTransformer, StandardScaler\n",
        "from sklearn.compose import ColumnTransformer\n",
        "from sklearn.linear_model import Lasso\n",
        "from sklearn.pipeline import Pipeline"
      ],
      "metadata": {
        "id": "DfjYfMamyOhM"
      },
      "execution_count": 117,
      "outputs": []
    },
    {
      "cell_type": "code",
      "source": [
        "# Features engineering\n",
        "preprocessor = ColumnTransformer(\n",
        "    transformers=[\n",
        "        ('encoder_nominal', OneHotEncoder(handle_unknown='ignore',sparse_output=False), cat_to_keep),\n",
        "         ('norma', PowerTransformer(), ['Electricity(kBtu)', 'SiteEnergyUse(kBtu)', 'NaturalGas(kBtu)', 'NumberofBuildings'])\n",
        "    ],\n",
        "    remainder='drop'\n",
        "  )"
      ],
      "metadata": {
        "id": "PiXFuyzVrNCA"
      },
      "execution_count": 118,
      "outputs": []
    },
    {
      "cell_type": "code",
      "source": [
        "pp = Pipeline([\n",
        "    ('preprocessor', preprocessor),\n",
        "    ('regressor', Lasso()),\n",
        "])"
      ],
      "metadata": {
        "id": "4Ji_lzGyrM82"
      },
      "execution_count": 119,
      "outputs": []
    },
    {
      "cell_type": "code",
      "source": [
        "# On va séparer les variables explicatives de la variable cible.\n",
        "y = df_train.pop(TARGET)\n",
        "X = df_train\n",
        "print(y.shape, X.shape)\n",
        "# # Question : encodage sur tout le jeu de données ou une partie seulement ? a priori separer puis encoder car pbm de type\n",
        "# X_train, X_test, y_train, y_test = train_test_split(X, y, test_size = 0.2, random_state=42)\n",
        "\n",
        "# X_train_df = pd.DataFrame(data=X_train, columns=FEATURE)\n",
        "# y_train_df = pd.DataFrame(data=y_train, columns=[TARGET])\n",
        "\n",
        "# model = PowerTransformer()\n",
        "# y_train_normed = model.fit_transform(y_train_df)\n",
        "# X_df = pd.DataFrame(data=X, columns=FEATURE)\n",
        "# y_df = pd.DataFrame(data=y, columns=[TARGET])\n",
        "pp.fit(X, y)"
      ],
      "metadata": {
        "id": "-iQpLsKVwel-",
        "colab": {
          "base_uri": "https://localhost:8080/",
          "height": 210
        },
        "outputId": "97c56407-0519-49aa-c8c8-f54c2c6b6e33"
      },
      "execution_count": 120,
      "outputs": [
        {
          "output_type": "stream",
          "name": "stdout",
          "text": [
            "(1476,) (1476, 6)\n"
          ]
        },
        {
          "output_type": "execute_result",
          "data": {
            "text/plain": [
              "Pipeline(steps=[('preprocessor',\n",
              "                 ColumnTransformer(transformers=[('encoder_nominal',\n",
              "                                                  OneHotEncoder(handle_unknown='ignore',\n",
              "                                                                sparse_output=False),\n",
              "                                                  ['PrimaryPropertyType',\n",
              "                                                   'Neighborhood']),\n",
              "                                                 ('norma', PowerTransformer(),\n",
              "                                                  ['Electricity(kBtu)',\n",
              "                                                   'SiteEnergyUse(kBtu)',\n",
              "                                                   'NaturalGas(kBtu)',\n",
              "                                                   'NumberofBuildings'])])),\n",
              "                ('regressor', Lasso())])"
            ],
            "text/html": [
              "<style>#sk-container-id-2 {color: black;background-color: white;}#sk-container-id-2 pre{padding: 0;}#sk-container-id-2 div.sk-toggleable {background-color: white;}#sk-container-id-2 label.sk-toggleable__label {cursor: pointer;display: block;width: 100%;margin-bottom: 0;padding: 0.3em;box-sizing: border-box;text-align: center;}#sk-container-id-2 label.sk-toggleable__label-arrow:before {content: \"▸\";float: left;margin-right: 0.25em;color: #696969;}#sk-container-id-2 label.sk-toggleable__label-arrow:hover:before {color: black;}#sk-container-id-2 div.sk-estimator:hover label.sk-toggleable__label-arrow:before {color: black;}#sk-container-id-2 div.sk-toggleable__content {max-height: 0;max-width: 0;overflow: hidden;text-align: left;background-color: #f0f8ff;}#sk-container-id-2 div.sk-toggleable__content pre {margin: 0.2em;color: black;border-radius: 0.25em;background-color: #f0f8ff;}#sk-container-id-2 input.sk-toggleable__control:checked~div.sk-toggleable__content {max-height: 200px;max-width: 100%;overflow: auto;}#sk-container-id-2 input.sk-toggleable__control:checked~label.sk-toggleable__label-arrow:before {content: \"▾\";}#sk-container-id-2 div.sk-estimator input.sk-toggleable__control:checked~label.sk-toggleable__label {background-color: #d4ebff;}#sk-container-id-2 div.sk-label input.sk-toggleable__control:checked~label.sk-toggleable__label {background-color: #d4ebff;}#sk-container-id-2 input.sk-hidden--visually {border: 0;clip: rect(1px 1px 1px 1px);clip: rect(1px, 1px, 1px, 1px);height: 1px;margin: -1px;overflow: hidden;padding: 0;position: absolute;width: 1px;}#sk-container-id-2 div.sk-estimator {font-family: monospace;background-color: #f0f8ff;border: 1px dotted black;border-radius: 0.25em;box-sizing: border-box;margin-bottom: 0.5em;}#sk-container-id-2 div.sk-estimator:hover {background-color: #d4ebff;}#sk-container-id-2 div.sk-parallel-item::after {content: \"\";width: 100%;border-bottom: 1px solid gray;flex-grow: 1;}#sk-container-id-2 div.sk-label:hover label.sk-toggleable__label {background-color: #d4ebff;}#sk-container-id-2 div.sk-serial::before {content: \"\";position: absolute;border-left: 1px solid gray;box-sizing: border-box;top: 0;bottom: 0;left: 50%;z-index: 0;}#sk-container-id-2 div.sk-serial {display: flex;flex-direction: column;align-items: center;background-color: white;padding-right: 0.2em;padding-left: 0.2em;position: relative;}#sk-container-id-2 div.sk-item {position: relative;z-index: 1;}#sk-container-id-2 div.sk-parallel {display: flex;align-items: stretch;justify-content: center;background-color: white;position: relative;}#sk-container-id-2 div.sk-item::before, #sk-container-id-2 div.sk-parallel-item::before {content: \"\";position: absolute;border-left: 1px solid gray;box-sizing: border-box;top: 0;bottom: 0;left: 50%;z-index: -1;}#sk-container-id-2 div.sk-parallel-item {display: flex;flex-direction: column;z-index: 1;position: relative;background-color: white;}#sk-container-id-2 div.sk-parallel-item:first-child::after {align-self: flex-end;width: 50%;}#sk-container-id-2 div.sk-parallel-item:last-child::after {align-self: flex-start;width: 50%;}#sk-container-id-2 div.sk-parallel-item:only-child::after {width: 0;}#sk-container-id-2 div.sk-dashed-wrapped {border: 1px dashed gray;margin: 0 0.4em 0.5em 0.4em;box-sizing: border-box;padding-bottom: 0.4em;background-color: white;}#sk-container-id-2 div.sk-label label {font-family: monospace;font-weight: bold;display: inline-block;line-height: 1.2em;}#sk-container-id-2 div.sk-label-container {text-align: center;}#sk-container-id-2 div.sk-container {/* jupyter's `normalize.less` sets `[hidden] { display: none; }` but bootstrap.min.css set `[hidden] { display: none !important; }` so we also need the `!important` here to be able to override the default hidden behavior on the sphinx rendered scikit-learn.org. See: https://github.com/scikit-learn/scikit-learn/issues/21755 */display: inline-block !important;position: relative;}#sk-container-id-2 div.sk-text-repr-fallback {display: none;}</style><div id=\"sk-container-id-2\" class=\"sk-top-container\"><div class=\"sk-text-repr-fallback\"><pre>Pipeline(steps=[(&#x27;preprocessor&#x27;,\n",
              "                 ColumnTransformer(transformers=[(&#x27;encoder_nominal&#x27;,\n",
              "                                                  OneHotEncoder(handle_unknown=&#x27;ignore&#x27;,\n",
              "                                                                sparse_output=False),\n",
              "                                                  [&#x27;PrimaryPropertyType&#x27;,\n",
              "                                                   &#x27;Neighborhood&#x27;]),\n",
              "                                                 (&#x27;norma&#x27;, PowerTransformer(),\n",
              "                                                  [&#x27;Electricity(kBtu)&#x27;,\n",
              "                                                   &#x27;SiteEnergyUse(kBtu)&#x27;,\n",
              "                                                   &#x27;NaturalGas(kBtu)&#x27;,\n",
              "                                                   &#x27;NumberofBuildings&#x27;])])),\n",
              "                (&#x27;regressor&#x27;, Lasso())])</pre><b>In a Jupyter environment, please rerun this cell to show the HTML representation or trust the notebook. <br />On GitHub, the HTML representation is unable to render, please try loading this page with nbviewer.org.</b></div><div class=\"sk-container\" hidden><div class=\"sk-item sk-dashed-wrapped\"><div class=\"sk-label-container\"><div class=\"sk-label sk-toggleable\"><input class=\"sk-toggleable__control sk-hidden--visually\" id=\"sk-estimator-id-8\" type=\"checkbox\" ><label for=\"sk-estimator-id-8\" class=\"sk-toggleable__label sk-toggleable__label-arrow\">Pipeline</label><div class=\"sk-toggleable__content\"><pre>Pipeline(steps=[(&#x27;preprocessor&#x27;,\n",
              "                 ColumnTransformer(transformers=[(&#x27;encoder_nominal&#x27;,\n",
              "                                                  OneHotEncoder(handle_unknown=&#x27;ignore&#x27;,\n",
              "                                                                sparse_output=False),\n",
              "                                                  [&#x27;PrimaryPropertyType&#x27;,\n",
              "                                                   &#x27;Neighborhood&#x27;]),\n",
              "                                                 (&#x27;norma&#x27;, PowerTransformer(),\n",
              "                                                  [&#x27;Electricity(kBtu)&#x27;,\n",
              "                                                   &#x27;SiteEnergyUse(kBtu)&#x27;,\n",
              "                                                   &#x27;NaturalGas(kBtu)&#x27;,\n",
              "                                                   &#x27;NumberofBuildings&#x27;])])),\n",
              "                (&#x27;regressor&#x27;, Lasso())])</pre></div></div></div><div class=\"sk-serial\"><div class=\"sk-item sk-dashed-wrapped\"><div class=\"sk-label-container\"><div class=\"sk-label sk-toggleable\"><input class=\"sk-toggleable__control sk-hidden--visually\" id=\"sk-estimator-id-9\" type=\"checkbox\" ><label for=\"sk-estimator-id-9\" class=\"sk-toggleable__label sk-toggleable__label-arrow\">preprocessor: ColumnTransformer</label><div class=\"sk-toggleable__content\"><pre>ColumnTransformer(transformers=[(&#x27;encoder_nominal&#x27;,\n",
              "                                 OneHotEncoder(handle_unknown=&#x27;ignore&#x27;,\n",
              "                                               sparse_output=False),\n",
              "                                 [&#x27;PrimaryPropertyType&#x27;, &#x27;Neighborhood&#x27;]),\n",
              "                                (&#x27;norma&#x27;, PowerTransformer(),\n",
              "                                 [&#x27;Electricity(kBtu)&#x27;, &#x27;SiteEnergyUse(kBtu)&#x27;,\n",
              "                                  &#x27;NaturalGas(kBtu)&#x27;, &#x27;NumberofBuildings&#x27;])])</pre></div></div></div><div class=\"sk-parallel\"><div class=\"sk-parallel-item\"><div class=\"sk-item\"><div class=\"sk-label-container\"><div class=\"sk-label sk-toggleable\"><input class=\"sk-toggleable__control sk-hidden--visually\" id=\"sk-estimator-id-10\" type=\"checkbox\" ><label for=\"sk-estimator-id-10\" class=\"sk-toggleable__label sk-toggleable__label-arrow\">encoder_nominal</label><div class=\"sk-toggleable__content\"><pre>[&#x27;PrimaryPropertyType&#x27;, &#x27;Neighborhood&#x27;]</pre></div></div></div><div class=\"sk-serial\"><div class=\"sk-item\"><div class=\"sk-estimator sk-toggleable\"><input class=\"sk-toggleable__control sk-hidden--visually\" id=\"sk-estimator-id-11\" type=\"checkbox\" ><label for=\"sk-estimator-id-11\" class=\"sk-toggleable__label sk-toggleable__label-arrow\">OneHotEncoder</label><div class=\"sk-toggleable__content\"><pre>OneHotEncoder(handle_unknown=&#x27;ignore&#x27;, sparse_output=False)</pre></div></div></div></div></div></div><div class=\"sk-parallel-item\"><div class=\"sk-item\"><div class=\"sk-label-container\"><div class=\"sk-label sk-toggleable\"><input class=\"sk-toggleable__control sk-hidden--visually\" id=\"sk-estimator-id-12\" type=\"checkbox\" ><label for=\"sk-estimator-id-12\" class=\"sk-toggleable__label sk-toggleable__label-arrow\">norma</label><div class=\"sk-toggleable__content\"><pre>[&#x27;Electricity(kBtu)&#x27;, &#x27;SiteEnergyUse(kBtu)&#x27;, &#x27;NaturalGas(kBtu)&#x27;, &#x27;NumberofBuildings&#x27;]</pre></div></div></div><div class=\"sk-serial\"><div class=\"sk-item\"><div class=\"sk-estimator sk-toggleable\"><input class=\"sk-toggleable__control sk-hidden--visually\" id=\"sk-estimator-id-13\" type=\"checkbox\" ><label for=\"sk-estimator-id-13\" class=\"sk-toggleable__label sk-toggleable__label-arrow\">PowerTransformer</label><div class=\"sk-toggleable__content\"><pre>PowerTransformer()</pre></div></div></div></div></div></div></div></div><div class=\"sk-item\"><div class=\"sk-estimator sk-toggleable\"><input class=\"sk-toggleable__control sk-hidden--visually\" id=\"sk-estimator-id-14\" type=\"checkbox\" ><label for=\"sk-estimator-id-14\" class=\"sk-toggleable__label sk-toggleable__label-arrow\">Lasso</label><div class=\"sk-toggleable__content\"><pre>Lasso()</pre></div></div></div></div></div></div></div>"
            ]
          },
          "metadata": {},
          "execution_count": 120
        }
      ]
    },
    {
      "cell_type": "code",
      "source": [
        "# fit model by using grid search\n",
        "param_grid = {\n",
        "    'regressor__alpha'          : [0.0001, 0.001, 0.01, 0.10, 1],\n",
        "    'regressor__fit_intercept'  : [True, False]\n",
        "}\n",
        "grid_search = GridSearchCV(pp, param_grid, cv=5, verbose=1, n_jobs=-1, refit=True, scoring='r2')\n",
        "grid_search.fit(X, y)\n",
        "print(grid_search.best_params_)\n",
        "print('----------------')\n",
        "\n",
        "# model scoring\n",
        "best_model = grid_search.best_estimator_\n",
        "print(f'Model\\'s score : {best_model.score(X, y).round(3)}') #est R2 ? Bon va falloir revoir pipeline etc."
      ],
      "metadata": {
        "id": "HIH_ifuc4aU5",
        "colab": {
          "base_uri": "https://localhost:8080/"
        },
        "outputId": "f11792d8-aa76-49a7-ba8a-a36004784da4"
      },
      "execution_count": 125,
      "outputs": [
        {
          "output_type": "stream",
          "name": "stdout",
          "text": [
            "Fitting 5 folds for each of 10 candidates, totalling 50 fits\n",
            "      Electricity(kBtu)  SiteEnergyUse(kBtu)  NaturalGas(kBtu)  \\\n",
            "0          3.946027e+06         7.226362e+06      1.276453e+06   \n",
            "1          3.242851e+06         8.387933e+06      5.145082e+06   \n",
            "2          4.952666e+07         7.258702e+07      1.493800e+06   \n",
            "3          2.768924e+06         6.794584e+06      1.811213e+06   \n",
            "4          5.368607e+06         1.417261e+07      8.803998e+06   \n",
            "...                 ...                  ...               ...   \n",
            "1471       6.323620e+05         9.320821e+05      2.997200e+05   \n",
            "1472       3.965461e+05         9.502762e+05      5.537300e+05   \n",
            "1473       1.792159e+06         5.765898e+06      3.973739e+06   \n",
            "1474       3.488702e+05         7.194712e+05      3.706010e+05   \n",
            "1475       4.325542e+05         1.152896e+06      7.203420e+05   \n",
            "\n",
            "      NumberofBuildings PrimaryPropertyType           Neighborhood  \n",
            "0                   1.0               Hotel               DOWNTOWN  \n",
            "1                   1.0               Hotel               DOWNTOWN  \n",
            "2                   1.0               Hotel               DOWNTOWN  \n",
            "3                   1.0               Hotel               DOWNTOWN  \n",
            "4                   1.0               Hotel               DOWNTOWN  \n",
            "...                 ...                 ...                    ...  \n",
            "1471                1.0               Other               DELRIDGE  \n",
            "1472                1.0               Other               DOWNTOWN  \n",
            "1473                1.0               Other  MAGNOLIA / QUEEN ANNE  \n",
            "1474                1.0  Mixed Use Property       GREATER DUWAMISH  \n",
            "1475                1.0  Mixed Use Property       GREATER DUWAMISH  \n",
            "\n",
            "[1476 rows x 6 columns]\n",
            "{'regressor__alpha': 1, 'regressor__fit_intercept': False}\n",
            "----------------\n",
            "Model's score : 0.689\n"
          ]
        }
      ]
    },
    {
      "cell_type": "code",
      "source": [
        "lasso_regressor = best_model.named_steps['regressor']\n",
        "\n",
        "# Access the coefficients of the Lasso\n",
        "lasso_coefficients = lasso_regressor.coef_\n",
        "\n",
        "print(\"Lasso Coefficients:\")\n",
        "print(lasso_coefficients)\n",
        "\n",
        "# Print number of total variables and total variables with non null parameter\n",
        "(\n",
        "    lasso_coefficients.shape,\n",
        "    lasso_coefficients[lasso_coefficients != 0.].shape\n",
        ")\n",
        "# Le modele a simplifié notre equation: il a choisi seulement 14 variables parmis les 17 !"
      ],
      "metadata": {
        "id": "jLSU9jJu85Ib",
        "colab": {
          "base_uri": "https://localhost:8080/"
        },
        "outputId": "b2cbde21-216f-4d3d-9b2e-f43d9a2ff067"
      },
      "execution_count": 122,
      "outputs": [
        {
          "output_type": "stream",
          "name": "stdout",
          "text": [
            "Lasso Coefficients:\n",
            "[-0.00000000e+00  3.30171588e+03  1.12407265e+02 -0.00000000e+00\n",
            "  3.02766217e+02 -1.75753305e+02 -0.00000000e+00 -8.10549978e+00\n",
            " -0.00000000e+00 -0.00000000e+00  0.00000000e+00 -1.58726204e+01\n",
            "  0.00000000e+00  4.54366431e+01 -0.00000000e+00 -0.00000000e+00\n",
            " -0.00000000e+00  8.83098501e+00  0.00000000e+00 -1.56855911e+01\n",
            "  0.00000000e+00  0.00000000e+00  2.31865198e+01  1.91846001e+02\n",
            " -0.00000000e+00 -9.92940285e+00  1.13859383e+01  0.00000000e+00\n",
            " -1.05050342e-01 -0.00000000e+00  0.00000000e+00 -0.00000000e+00\n",
            "  2.61266021e+02  3.00461929e+00  6.11935096e+01  5.73262635e+01]\n"
          ]
        },
        {
          "output_type": "execute_result",
          "data": {
            "text/plain": [
              "((36,), (18,))"
            ]
          },
          "metadata": {},
          "execution_count": 122
        }
      ]
    }
  ],
  "metadata": {
    "colab": {
      "collapsed_sections": [
        "M_yoc462ofrY",
        "XnuEOgORoSyi",
        "Sb0FELzUPGK5",
        "UJoM5lQlCz7e"
      ],
      "provenance": [],
      "include_colab_link": true
    },
    "kernelspec": {
      "display_name": "Python 3",
      "name": "python3"
    },
    "language_info": {
      "name": "python"
    }
  },
  "nbformat": 4,
  "nbformat_minor": 0
}